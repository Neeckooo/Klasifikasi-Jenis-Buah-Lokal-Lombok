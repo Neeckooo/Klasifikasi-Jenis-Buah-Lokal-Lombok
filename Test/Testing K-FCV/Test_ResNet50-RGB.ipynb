{
 "cells": [
  {
   "cell_type": "code",
   "execution_count": 11,
   "metadata": {},
   "outputs": [],
   "source": [
    "import numpy as np\n",
    "import matplotlib.pyplot as plt\n",
    "from tensorflow.keras.models import load_model\n",
    "from tensorflow.keras.preprocessing.image import ImageDataGenerator\n",
    "from sklearn.metrics import confusion_matrix, classification_report\n",
    "import seaborn as sns\n",
    "import pandas as pd"
   ]
  },
  {
   "cell_type": "code",
   "execution_count": 13,
   "metadata": {},
   "outputs": [
    {
     "name": "stdout",
     "output_type": "stream",
     "text": [
      "Found 300 images belonging to 3 classes.\n"
     ]
    }
   ],
   "source": [
    "# Parameter\n",
    "test_dir = \"D:/kuliah/Tugas Akhir/Code/Klasifikasi Jenis Buah Lokal/dataset/hsv_dataset/test\"\n",
    "batch_size = 64  \n",
    "IMG_SIZE = (300, 300)\n",
    "folds = 3  \n",
    "\n",
    "# Import data\n",
    "test_datagen = ImageDataGenerator(rescale=1.0 / 255)\n",
    "\n",
    "test_generator = test_datagen.flow_from_directory(\n",
    "    test_dir,\n",
    "    target_size=IMG_SIZE,\n",
    "    batch_size=batch_size,\n",
    "    class_mode=\"categorical\",\n",
    "    shuffle=False\n",
    ")"
   ]
  },
  {
   "cell_type": "code",
   "execution_count": null,
   "metadata": {},
   "outputs": [],
   "source": [
    "# Initialize lists to store metrics\n",
    "all_test_accuracies = []\n",
    "conf_matrices = []\n",
    "histories = []"
   ]
  },
  {
   "cell_type": "code",
   "execution_count": null,
   "metadata": {},
   "outputs": [
    {
     "name": "stderr",
     "output_type": "stream",
     "text": [
      "WARNING:absl:Compiled the loaded model, but the compiled metrics have yet to be built. `model.compile_metrics` will be empty until you train or evaluate the model.\n",
      "c:\\Users\\CATUR WARGA COMPUTER\\AppData\\Local\\Programs\\Python\\Python39\\lib\\site-packages\\keras\\src\\trainers\\data_adapters\\py_dataset_adapter.py:121: UserWarning: Your `PyDataset` class should call `super().__init__(**kwargs)` in its constructor. `**kwargs` can include `workers`, `use_multiprocessing`, `max_queue_size`. Do not pass these arguments to `fit()`, as they will be ignored.\n",
      "  self._warn_if_super_not_called()\n"
     ]
    },
    {
     "name": "stdout",
     "output_type": "stream",
     "text": [
      "\u001b[1m5/5\u001b[0m \u001b[32m━━━━━━━━━━━━━━━━━━━━\u001b[0m\u001b[37m\u001b[0m \u001b[1m19s\u001b[0m 3s/step - accuracy: 0.8727 - loss: 0.9897 - precision_1: 0.8722 - recall_1: 0.8688\n",
      "Fold 1 - Test Accuracy: 0.7599999904632568\n",
      "Fold 1 - Test Loss: 1.9235070943832397\n",
      "\u001b[1m5/5\u001b[0m \u001b[32m━━━━━━━━━━━━━━━━━━━━\u001b[0m\u001b[37m\u001b[0m \u001b[1m18s\u001b[0m 3s/step\n",
      "              precision    recall  f1-score   support\n",
      "\n",
      "     Manggis       1.00      0.95      0.97       100\n",
      "      Pisang       0.58      1.00      0.74       100\n",
      "    Rambutan       0.97      0.33      0.49       100\n",
      "\n",
      "    accuracy                           0.76       300\n",
      "   macro avg       0.85      0.76      0.73       300\n",
      "weighted avg       0.85      0.76      0.73       300\n",
      "\n",
      "Metrics for Fold 1\n",
      "      Class   TP  FN  FP   TN\n",
      "0   Manggis   95   5   0  200\n",
      "1    Pisang  100   0  71  129\n",
      "2  Rambutan   33  67   1  199\n"
     ]
    },
    {
     "data": {
      "image/png": "[encoded data removed]",
      "text/plain": [
       "<Figure size 720x504 with 2 Axes>"
      ]
     },
     "metadata": {
      "needs_background": "light"
     },
     "output_type": "display_data"
    },
    {
     "name": "stderr",
     "output_type": "stream",
     "text": [
      "WARNING:absl:Compiled the loaded model, but the compiled metrics have yet to be built. `model.compile_metrics` will be empty until you train or evaluate the model.\n"
     ]
    },
    {
     "name": "stdout",
     "output_type": "stream",
     "text": [
      "\u001b[1m5/5\u001b[0m \u001b[32m━━━━━━━━━━━━━━━━━━━━\u001b[0m\u001b[37m\u001b[0m \u001b[1m18s\u001b[0m 3s/step - accuracy: 0.9300 - loss: 0.2296 - precision_2: 0.9434 - recall_2: 0.9274\n",
      "Fold 2 - Test Accuracy: 0.9333333373069763\n",
      "Fold 2 - Test Loss: 0.23125557601451874\n",
      "\u001b[1m5/5\u001b[0m \u001b[32m━━━━━━━━━━━━━━━━━━━━\u001b[0m\u001b[37m\u001b[0m \u001b[1m18s\u001b[0m 3s/step\n",
      "              precision    recall  f1-score   support\n",
      "\n",
      "     Manggis       1.00      0.96      0.98       100\n",
      "      Pisang       0.92      0.88      0.90       100\n",
      "    Rambutan       0.89      0.96      0.92       100\n",
      "\n",
      "    accuracy                           0.93       300\n",
      "   macro avg       0.94      0.93      0.93       300\n",
      "weighted avg       0.94      0.93      0.93       300\n",
      "\n",
      "Metrics for Fold 2\n",
      "      Class  TP  FN  FP   TN\n",
      "0   Manggis  96   4   0  200\n",
      "1    Pisang  88  12   8  192\n",
      "2  Rambutan  96   4  12  188\n"
     ]
    },
    {
     "data": {
      "image/png": "[encoded data removed]",
      "text/plain": [
       "<Figure size 720x504 with 2 Axes>"
      ]
     },
     "metadata": {
      "needs_background": "light"
     },
     "output_type": "display_data"
    },
    {
     "name": "stderr",
     "output_type": "stream",
     "text": [
      "WARNING:absl:Compiled the loaded model, but the compiled metrics have yet to be built. `model.compile_metrics` will be empty until you train or evaluate the model.\n"
     ]
    },
    {
     "name": "stdout",
     "output_type": "stream",
     "text": [
      "\u001b[1m5/5\u001b[0m \u001b[32m━━━━━━━━━━━━━━━━━━━━\u001b[0m\u001b[37m\u001b[0m \u001b[1m18s\u001b[0m 3s/step - accuracy: 0.9321 - loss: 0.2296 - precision_3: 0.9319 - recall_3: 0.9295\n",
      "Fold 3 - Test Accuracy: 0.9200000166893005\n",
      "Fold 3 - Test Loss: 0.24975349009037018\n",
      "\u001b[1m5/5\u001b[0m \u001b[32m━━━━━━━━━━━━━━━━━━━━\u001b[0m\u001b[37m\u001b[0m \u001b[1m18s\u001b[0m 3s/step\n",
      "              precision    recall  f1-score   support\n",
      "\n",
      "     Manggis       0.99      0.98      0.98       100\n",
      "      Pisang       0.91      0.86      0.89       100\n",
      "    Rambutan       0.86      0.92      0.89       100\n",
      "\n",
      "    accuracy                           0.92       300\n",
      "   macro avg       0.92      0.92      0.92       300\n",
      "weighted avg       0.92      0.92      0.92       300\n",
      "\n",
      "Metrics for Fold 3\n",
      "      Class  TP  FN  FP   TN\n",
      "0   Manggis  98   2   1  199\n",
      "1    Pisang  86  14   8  192\n",
      "2  Rambutan  92   8  15  185\n"
     ]
    },
    {
     "data": {
      "image/png": "[encoded data removed]",
      "text/plain": [
       "<Figure size 720x504 with 2 Axes>"
      ]
     },
     "metadata": {
      "needs_background": "light"
     },
     "output_type": "display_data"
    }
   ],
   "source": [
    "for fold in range(1, folds + 1):\n",
    "    # Load model\n",
    "    model_path = f\"D:/kuliah/Tugas Akhir/Code/Klasifikasi Jenis Buah Lokal/models/K-Fold Cross Validation/ResNet50-RGB_fold_{fold}.h5\"\n",
    "    model = load_model(model_path)\n",
    "\n",
    "    # Evaluate the model using the test data\n",
    "    test_loss, test_accuracy, test_precision, test_recall = model.evaluate(test_generator)\n",
    "    all_test_accuracies.append(test_accuracy)\n",
    "\n",
    "    print(f\"Fold {fold} - Test Accuracy: {test_accuracy}\")\n",
    "    print(f\"Fold {fold} - Test Loss: {test_loss}\")\n",
    "\n",
    "    # Predictions\n",
    "    test_generator.reset()\n",
    "    predictions = model.predict(test_generator)\n",
    "    y_pred = np.argmax(predictions, axis=1)\n",
    "    y_true = test_generator.classes\n",
    "\n",
    "    # Confusion matrix\n",
    "    cm = confusion_matrix(y_true, y_pred)\n",
    "    conf_matrices.append(cm)\n",
    "\n",
    "    # Generate classification report\n",
    "    report = classification_report(y_true, y_pred, target_names=test_generator.class_indices.keys())\n",
    "    print(report)\n",
    "\n",
    "    # Save history\n",
    "    histories.append(model.history.history)\n",
    "\n",
    "    # Calculate TP, FN, TN, FP\n",
    "    TP = np.diag(cm)\n",
    "    FN = np.sum(cm, axis=1) - TP\n",
    "    FP = np.sum(cm, axis=0) - TP\n",
    "    TN = np.sum(cm) - (TP + FN + FP)\n",
    "    \n",
    "    metrics_df = pd.DataFrame({\n",
    "        'Class': test_generator.class_indices.keys(),\n",
    "        'TP': TP,\n",
    "        'FN': FN,\n",
    "        'FP': FP,\n",
    "        'TN': TN\n",
    "    })\n",
    "    \n",
    "    print(f\"Metrics for Fold {fold}\")\n",
    "    print(metrics_df)\n",
    "\n",
    "    # Plot confusion matrix\n",
    "    plt.figure(figsize=(10, 7))\n",
    "    sns.heatmap(cm, annot=True, fmt='d', cmap='Blues', xticklabels=test_generator.class_indices.keys(), yticklabels=test_generator.class_indices.keys())\n",
    "    plt.xlabel('Predicted')\n",
    "    plt.ylabel('Actual')\n",
    "    plt.title(f'Confusion Matrix for Fold {fold}')\n",
    "    plt.show()\n",
    "\n",
    "    \n",
    "    \n",
    "    "
   ]
  },
  {
   "cell_type": "code",
   "execution_count": null,
   "metadata": {},
   "outputs": [
    {
     "name": "stdout",
     "output_type": "stream",
     "text": [
      "\n",
      "Average Test Accuracy: 0.8711111148198446\n"
     ]
    }
   ],
   "source": [
    "# Average test accuracy\n",
    "average_test_accuracy = np.mean(all_test_accuracies)\n",
    "print(f\"\\nAverage Test Accuracy: {average_test_accuracy}\")"
   ]
  }
 ],
 "metadata": {
  "kernelspec": {
   "display_name": "Python 3",
   "language": "python",
   "name": "python3"
  },
  "language_info": {
   "codemirror_mode": {
    "name": "ipython",
    "version": 3
   },
   "file_extension": ".py",
   "mimetype": "text/x-python",
   "name": "python",
   "nbconvert_exporter": "python",
   "pygments_lexer": "ipython3",
   "version": "3.9.2"
  }
 },
 "nbformat": 4,
 "nbformat_minor": 2
}
