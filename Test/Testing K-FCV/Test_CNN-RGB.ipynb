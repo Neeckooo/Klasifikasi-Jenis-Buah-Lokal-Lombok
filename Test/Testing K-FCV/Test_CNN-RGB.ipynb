{
 "cells": [
  {
   "cell_type": "code",
   "execution_count": 30,
   "metadata": {},
   "outputs": [],
   "source": [
    "import numpy as np\n",
    "import matplotlib.pyplot as plt\n",
    "from tensorflow.keras.models import load_model\n",
    "from tensorflow.keras.preprocessing.image import ImageDataGenerator\n",
    "from sklearn.metrics import confusion_matrix, classification_report\n",
    "import seaborn as sns\n",
    "import pandas as pd"
   ]
  },
  {
   "cell_type": "code",
   "execution_count": 31,
   "metadata": {},
   "outputs": [
    {
     "name": "stdout",
     "output_type": "stream",
     "text": [
      "Found 300 images belonging to 3 classes.\n"
     ]
    }
   ],
   "source": [
    "# Parameter\n",
    "test_dir = \"D:/kuliah/Tugas Akhir/Code/Klasifikasi Jenis Buah Lokal/dataset/test1\"\n",
    "batch_size = 64  \n",
    "IMG_SIZE = (300, 300)\n",
    "folds = 3  \n",
    "\n",
    "# Import data\n",
    "test_datagen = ImageDataGenerator(rescale=1.0 / 255)\n",
    "\n",
    "test_generator = test_datagen.flow_from_directory(\n",
    "    test_dir,\n",
    "    target_size=IMG_SIZE,\n",
    "    batch_size=batch_size,\n",
    "    class_mode=\"categorical\",\n",
    "    shuffle=False\n",
    ")"
   ]
  },
  {
   "cell_type": "code",
   "execution_count": 32,
   "metadata": {},
   "outputs": [],
   "source": [
    "# Initialize lists to store metrics\n",
    "all_test_accuracies = []\n",
    "conf_matrices = []\n",
    "histories = []"
   ]
  },
  {
   "cell_type": "code",
   "execution_count": 33,
   "metadata": {},
   "outputs": [
    {
     "name": "stderr",
     "output_type": "stream",
     "text": [
      "WARNING:absl:Compiled the loaded model, but the compiled metrics have yet to be built. `model.compile_metrics` will be empty until you train or evaluate the model.\n",
      "c:\\Users\\CATUR WARGA COMPUTER\\AppData\\Local\\Programs\\Python\\Python39\\lib\\site-packages\\keras\\src\\trainers\\data_adapters\\py_dataset_adapter.py:121: UserWarning: Your `PyDataset` class should call `super().__init__(**kwargs)` in its constructor. `**kwargs` can include `workers`, `use_multiprocessing`, `max_queue_size`. Do not pass these arguments to `fit()`, as they will be ignored.\n",
      "  self._warn_if_super_not_called()\n"
     ]
    },
    {
     "name": "stdout",
     "output_type": "stream",
     "text": [
      "\u001b[1m5/5\u001b[0m \u001b[32m━━━━━━━━━━━━━━━━━━━━\u001b[0m\u001b[37m\u001b[0m \u001b[1m2s\u001b[0m 311ms/step - accuracy: 0.9666 - loss: 0.0933 - precision: 0.9666 - recall: 0.9666\n",
      "Fold 1 - Test Accuracy: 0.949999988079071\n",
      "Fold 1 - Test Loss: 0.16066180169582367\n",
      "\u001b[1m5/5\u001b[0m \u001b[32m━━━━━━━━━━━━━━━━━━━━\u001b[0m\u001b[37m\u001b[0m \u001b[1m2s\u001b[0m 336ms/step\n",
      "              precision    recall  f1-score   support\n",
      "\n",
      "     Manggis       1.00      1.00      1.00       100\n",
      "      Pisang       0.98      0.87      0.92       100\n",
      "    Rambutan       0.88      0.98      0.93       100\n",
      "\n",
      "    accuracy                           0.95       300\n",
      "   macro avg       0.95      0.95      0.95       300\n",
      "weighted avg       0.95      0.95      0.95       300\n",
      "\n",
      "Metrics for Fold 1\n",
      "      Class   TP  FN  FP   TN\n",
      "0   Manggis  100   0   0  200\n",
      "1    Pisang   87  13   2  198\n",
      "2  Rambutan   98   2  13  187\n"
     ]
    },
    {
     "data": {
      "image/png": "[encoded data removed]",
      "text/plain": [
       "<Figure size 720x504 with 2 Axes>"
      ]
     },
     "metadata": {
      "needs_background": "light"
     },
     "output_type": "display_data"
    },
    {
     "name": "stderr",
     "output_type": "stream",
     "text": [
      "WARNING:absl:Compiled the loaded model, but the compiled metrics have yet to be built. `model.compile_metrics` will be empty until you train or evaluate the model.\n"
     ]
    },
    {
     "name": "stdout",
     "output_type": "stream",
     "text": [
      "\u001b[1m5/5\u001b[0m \u001b[32m━━━━━━━━━━━━━━━━━━━━\u001b[0m\u001b[37m\u001b[0m \u001b[1m2s\u001b[0m 329ms/step - accuracy: 0.9764 - loss: 0.0717 - precision_1: 0.9764 - recall_1: 0.9764 \n",
      "Fold 2 - Test Accuracy: 0.9566666483879089\n",
      "Fold 2 - Test Loss: 0.14413921535015106\n",
      "\u001b[1m5/5\u001b[0m \u001b[32m━━━━━━━━━━━━━━━━━━━━\u001b[0m\u001b[37m\u001b[0m \u001b[1m2s\u001b[0m 335ms/step\n",
      "              precision    recall  f1-score   support\n",
      "\n",
      "     Manggis       1.00      1.00      1.00       100\n",
      "      Pisang       0.94      0.93      0.93       100\n",
      "    Rambutan       0.93      0.94      0.94       100\n",
      "\n",
      "    accuracy                           0.96       300\n",
      "   macro avg       0.96      0.96      0.96       300\n",
      "weighted avg       0.96      0.96      0.96       300\n",
      "\n",
      "Metrics for Fold 2\n",
      "      Class   TP  FN  FP   TN\n",
      "0   Manggis  100   0   0  200\n",
      "1    Pisang   93   7   6  194\n",
      "2  Rambutan   94   6   7  193\n"
     ]
    },
    {
     "data": {
      "image/png": "[encoded data removed]",
      "text/plain": [
       "<Figure size 720x504 with 2 Axes>"
      ]
     },
     "metadata": {
      "needs_background": "light"
     },
     "output_type": "display_data"
    },
    {
     "name": "stderr",
     "output_type": "stream",
     "text": [
      "WARNING:absl:Compiled the loaded model, but the compiled metrics have yet to be built. `model.compile_metrics` will be empty until you train or evaluate the model.\n"
     ]
    },
    {
     "name": "stdout",
     "output_type": "stream",
     "text": [
      "\u001b[1m5/5\u001b[0m \u001b[32m━━━━━━━━━━━━━━━━━━━━\u001b[0m\u001b[37m\u001b[0m \u001b[1m2s\u001b[0m 322ms/step - accuracy: 0.9807 - loss: 0.0699 - precision_2: 0.9807 - recall_2: 0.9807\n",
      "Fold 3 - Test Accuracy: 0.949999988079071\n",
      "Fold 3 - Test Loss: 0.16821324825286865\n",
      "\u001b[1m5/5\u001b[0m \u001b[32m━━━━━━━━━━━━━━━━━━━━\u001b[0m\u001b[37m\u001b[0m \u001b[1m2s\u001b[0m 328ms/step\n",
      "              precision    recall  f1-score   support\n",
      "\n",
      "     Manggis       1.00      1.00      1.00       100\n",
      "      Pisang       0.88      0.98      0.93       100\n",
      "    Rambutan       0.98      0.87      0.92       100\n",
      "\n",
      "    accuracy                           0.95       300\n",
      "   macro avg       0.95      0.95      0.95       300\n",
      "weighted avg       0.95      0.95      0.95       300\n",
      "\n",
      "Metrics for Fold 3\n",
      "      Class   TP  FN  FP   TN\n",
      "0   Manggis  100   0   0  200\n",
      "1    Pisang   98   2  13  187\n",
      "2  Rambutan   87  13   2  198\n"
     ]
    },
    {
     "data": {
      "image/png": "[encoded data removed]",
      "text/plain": [
       "<Figure size 720x504 with 2 Axes>"
      ]
     },
     "metadata": {
      "needs_background": "light"
     },
     "output_type": "display_data"
    }
   ],
   "source": [
    "for fold in range(1, folds + 1):\n",
    "    # Load model\n",
    "    model_path = f\"D:/kuliah/Tugas Akhir/Code/Klasifikasi Jenis Buah Lokal/models/K-Fold Cross Validation/CNN-RGB_fold_{fold}.h5\"\n",
    "    model = load_model(model_path)\n",
    "\n",
    "    # Evaluate the model using the test data\n",
    "    test_loss, test_accuracy, test_precision, test_recall = model.evaluate(test_generator)\n",
    "    all_test_accuracies.append(test_accuracy)\n",
    "\n",
    "    print(f\"Fold {fold} - Test Accuracy: {test_accuracy}\")\n",
    "    print(f\"Fold {fold} - Test Loss: {test_loss}\")\n",
    "\n",
    "    # Predictions\n",
    "    test_generator.reset()\n",
    "    predictions = model.predict(test_generator)\n",
    "    y_pred = np.argmax(predictions, axis=1)\n",
    "    y_true = test_generator.classes\n",
    "\n",
    "    # Confusion matrix\n",
    "    cm = confusion_matrix(y_true, y_pred)\n",
    "    conf_matrices.append(cm)\n",
    "\n",
    "    # Generate classification report\n",
    "    report = classification_report(y_true, y_pred, target_names=test_generator.class_indices.keys())\n",
    "    print(report)\n",
    "\n",
    "    # Save history\n",
    "    histories.append(model.history.history)\n",
    "\n",
    "    # Calculate TP, FN, TN, FP\n",
    "    TP = np.diag(cm)\n",
    "    FN = np.sum(cm, axis=1) - TP\n",
    "    FP = np.sum(cm, axis=0) - TP\n",
    "    TN = np.sum(cm) - (TP + FN + FP)\n",
    "    \n",
    "    metrics_df = pd.DataFrame({\n",
    "        'Class': test_generator.class_indices.keys(),\n",
    "        'TP': TP,\n",
    "        'FN': FN,\n",
    "        'FP': FP,\n",
    "        'TN': TN\n",
    "    })\n",
    "    \n",
    "    print(f\"Metrics for Fold {fold}\")\n",
    "    print(metrics_df)\n",
    "\n",
    "    # Plot confusion matrix\n",
    "    plt.figure(figsize=(10, 7))\n",
    "    sns.heatmap(cm, annot=True, fmt='d', cmap='Blues', xticklabels=test_generator.class_indices.keys(), yticklabels=test_generator.class_indices.keys())\n",
    "    plt.xlabel('Predicted')\n",
    "    plt.ylabel('Actual')\n",
    "    plt.title(f'Confusion Matrix for Fold {fold}')\n",
    "    plt.show()\n",
    "\n",
    "    \n",
    "    \n",
    "    "
   ]
  },
  {
   "cell_type": "code",
   "execution_count": 34,
   "metadata": {},
   "outputs": [
    {
     "name": "stdout",
     "output_type": "stream",
     "text": [
      "\n",
      "Average Test Accuracy: 0.952222208182017\n"
     ]
    }
   ],
   "source": [
    "# Average test accuracy\n",
    "average_test_accuracy = np.mean(all_test_accuracies)\n",
    "print(f\"\\nAverage Test Accuracy: {average_test_accuracy}\")"
   ]
  }
 ],
 "metadata": {
  "kernelspec": {
   "display_name": "Python 3",
   "language": "python",
   "name": "python3"
  },
  "language_info": {
   "codemirror_mode": {
    "name": "ipython",
    "version": 3
   },
   "file_extension": ".py",
   "mimetype": "text/x-python",
   "name": "python",
   "nbconvert_exporter": "python",
   "pygments_lexer": "ipython3",
   "version": "3.9.2"
  }
 },
 "nbformat": 4,
 "nbformat_minor": 2
}
