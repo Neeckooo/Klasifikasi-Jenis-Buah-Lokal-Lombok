{
 "cells": [
  {
   "cell_type": "code",
   "execution_count": 1,
   "metadata": {},
   "outputs": [],
   "source": [
    "import numpy as np\n",
    "import matplotlib.pyplot as plt\n",
    "from tensorflow.keras.models import load_model\n",
    "from tensorflow.keras.preprocessing.image import ImageDataGenerator\n",
    "from sklearn.metrics import confusion_matrix, classification_report\n",
    "import seaborn as sns\n",
    "import pandas as pd"
   ]
  },
  {
   "cell_type": "code",
   "execution_count": 2,
   "metadata": {},
   "outputs": [
    {
     "name": "stdout",
     "output_type": "stream",
     "text": [
      "Found 300 images belonging to 3 classes.\n"
     ]
    }
   ],
   "source": [
    "# Parameter\n",
    "test_dir = \"D:/kuliah/Tugas Akhir/Code/Klasifikasi Jenis Buah Lokal/dataset/hsv_dataset/test\"\n",
    "batch_size = 64  \n",
    "IMG_SIZE = (300, 300)\n",
    "folds = 3  \n",
    "\n",
    "# Import data\n",
    "test_datagen = ImageDataGenerator(rescale=1.0 / 255)\n",
    "\n",
    "test_generator = test_datagen.flow_from_directory(\n",
    "    test_dir,\n",
    "    target_size=IMG_SIZE,\n",
    "    batch_size=batch_size,\n",
    "    class_mode=\"categorical\",\n",
    "    shuffle=False\n",
    ")"
   ]
  },
  {
   "cell_type": "code",
   "execution_count": 3,
   "metadata": {},
   "outputs": [],
   "source": [
    "# Initialize lists to store metrics\n",
    "all_test_accuracies = []\n",
    "conf_matrices = []\n",
    "histories = []"
   ]
  },
  {
   "cell_type": "code",
   "execution_count": 4,
   "metadata": {},
   "outputs": [
    {
     "name": "stderr",
     "output_type": "stream",
     "text": [
      "WARNING:absl:Compiled the loaded model, but the compiled metrics have yet to be built. `model.compile_metrics` will be empty until you train or evaluate the model.\n",
      "c:\\Users\\CATUR WARGA COMPUTER\\AppData\\Local\\Programs\\Python\\Python39\\lib\\site-packages\\keras\\src\\trainers\\data_adapters\\py_dataset_adapter.py:121: UserWarning: Your `PyDataset` class should call `super().__init__(**kwargs)` in its constructor. `**kwargs` can include `workers`, `use_multiprocessing`, `max_queue_size`. Do not pass these arguments to `fit()`, as they will be ignored.\n",
      "  self._warn_if_super_not_called()\n"
     ]
    },
    {
     "name": "stdout",
     "output_type": "stream",
     "text": [
      "\u001b[1m5/5\u001b[0m \u001b[32m━━━━━━━━━━━━━━━━━━━━\u001b[0m\u001b[37m\u001b[0m \u001b[1m9s\u001b[0m 1s/step - accuracy: 0.9424 - loss: 0.2890 - precision_1: 0.9424 - recall_1: 0.9424\n",
      "Fold 1 - Test Accuracy: 0.9566666483879089\n",
      "Fold 1 - Test Loss: 0.19969934225082397\n",
      "\u001b[1m5/5\u001b[0m \u001b[32m━━━━━━━━━━━━━━━━━━━━\u001b[0m\u001b[37m\u001b[0m \u001b[1m9s\u001b[0m 2s/step\n",
      "              precision    recall  f1-score   support\n",
      "\n",
      "     Manggis       1.00      0.90      0.95       100\n",
      "      Pisang       0.89      1.00      0.94       100\n",
      "    Rambutan       0.99      0.97      0.98       100\n",
      "\n",
      "    accuracy                           0.96       300\n",
      "   macro avg       0.96      0.96      0.96       300\n",
      "weighted avg       0.96      0.96      0.96       300\n",
      "\n",
      "Metrics for Fold 1\n",
      "      Class   TP  FN  FP   TN\n",
      "0   Manggis   90  10   0  200\n",
      "1    Pisang  100   0  12  188\n",
      "2  Rambutan   97   3   1  199\n"
     ]
    },
    {
     "data": {
      "image/png": "[encoded data removed]",
      "text/plain": [
       "<Figure size 720x504 with 2 Axes>"
      ]
     },
     "metadata": {
      "needs_background": "light"
     },
     "output_type": "display_data"
    },
    {
     "name": "stderr",
     "output_type": "stream",
     "text": [
      "WARNING:absl:Compiled the loaded model, but the compiled metrics have yet to be built. `model.compile_metrics` will be empty until you train or evaluate the model.\n"
     ]
    },
    {
     "name": "stdout",
     "output_type": "stream",
     "text": [
      "\u001b[1m5/5\u001b[0m \u001b[32m━━━━━━━━━━━━━━━━━━━━\u001b[0m\u001b[37m\u001b[0m \u001b[1m10s\u001b[0m 1s/step - accuracy: 0.9989 - loss: 0.0109 - precision_2: 0.9989 - recall_2: 0.9989 \n",
      "Fold 2 - Test Accuracy: 0.996666669845581\n",
      "Fold 2 - Test Loss: 0.032811205834150314\n",
      "\u001b[1m5/5\u001b[0m \u001b[32m━━━━━━━━━━━━━━━━━━━━\u001b[0m\u001b[37m\u001b[0m \u001b[1m9s\u001b[0m 2s/step\n",
      "              precision    recall  f1-score   support\n",
      "\n",
      "     Manggis       0.99      1.00      1.00       100\n",
      "      Pisang       1.00      1.00      1.00       100\n",
      "    Rambutan       1.00      0.99      0.99       100\n",
      "\n",
      "    accuracy                           1.00       300\n",
      "   macro avg       1.00      1.00      1.00       300\n",
      "weighted avg       1.00      1.00      1.00       300\n",
      "\n",
      "Metrics for Fold 2\n",
      "      Class   TP  FN  FP   TN\n",
      "0   Manggis  100   0   1  199\n",
      "1    Pisang  100   0   0  200\n",
      "2  Rambutan   99   1   0  200\n"
     ]
    },
    {
     "data": {
      "image/png": "[encoded data removed]",
      "text/plain": [
       "<Figure size 720x504 with 2 Axes>"
      ]
     },
     "metadata": {
      "needs_background": "light"
     },
     "output_type": "display_data"
    },
    {
     "name": "stderr",
     "output_type": "stream",
     "text": [
      "WARNING:absl:Compiled the loaded model, but the compiled metrics have yet to be built. `model.compile_metrics` will be empty until you train or evaluate the model.\n"
     ]
    },
    {
     "name": "stdout",
     "output_type": "stream",
     "text": [
      "\u001b[1m5/5\u001b[0m \u001b[32m━━━━━━━━━━━━━━━━━━━━\u001b[0m\u001b[37m\u001b[0m \u001b[1m9s\u001b[0m 1s/step - accuracy: 0.8932 - loss: 0.7694 - precision_3: 0.8932 - recall_3: 0.8932\n",
      "Fold 3 - Test Accuracy: 0.8799999952316284\n",
      "Fold 3 - Test Loss: 0.8521867394447327\n",
      "WARNING:tensorflow:5 out of the last 11 calls to <function TensorFlowTrainer.make_predict_function.<locals>.one_step_on_data_distributed at 0x0000022EA71E0D30> triggered tf.function retracing. Tracing is expensive and the excessive number of tracings could be due to (1) creating @tf.function repeatedly in a loop, (2) passing tensors with different shapes, (3) passing Python objects instead of tensors. For (1), please define your @tf.function outside of the loop. For (2), @tf.function has reduce_retracing=True option that can avoid unnecessary retracing. For (3), please refer to https://www.tensorflow.org/guide/function#controlling_retracing and https://www.tensorflow.org/api_docs/python/tf/function for  more details.\n"
     ]
    },
    {
     "name": "stderr",
     "output_type": "stream",
     "text": [
      "WARNING:tensorflow:5 out of the last 11 calls to <function TensorFlowTrainer.make_predict_function.<locals>.one_step_on_data_distributed at 0x0000022EA71E0D30> triggered tf.function retracing. Tracing is expensive and the excessive number of tracings could be due to (1) creating @tf.function repeatedly in a loop, (2) passing tensors with different shapes, (3) passing Python objects instead of tensors. For (1), please define your @tf.function outside of the loop. For (2), @tf.function has reduce_retracing=True option that can avoid unnecessary retracing. For (3), please refer to https://www.tensorflow.org/guide/function#controlling_retracing and https://www.tensorflow.org/api_docs/python/tf/function for  more details.\n"
     ]
    },
    {
     "name": "stdout",
     "output_type": "stream",
     "text": [
      "\u001b[1m4/5\u001b[0m \u001b[32m━━━━━━━━━━━━━━━━\u001b[0m\u001b[37m━━━━\u001b[0m \u001b[1m1s\u001b[0m 1s/stepWARNING:tensorflow:5 out of the last 11 calls to <function TensorFlowTrainer.make_predict_function.<locals>.one_step_on_data_distributed at 0x0000022EA71E0D30> triggered tf.function retracing. Tracing is expensive and the excessive number of tracings could be due to (1) creating @tf.function repeatedly in a loop, (2) passing tensors with different shapes, (3) passing Python objects instead of tensors. For (1), please define your @tf.function outside of the loop. For (2), @tf.function has reduce_retracing=True option that can avoid unnecessary retracing. For (3), please refer to https://www.tensorflow.org/guide/function#controlling_retracing and https://www.tensorflow.org/api_docs/python/tf/function for  more details.\n"
     ]
    },
    {
     "name": "stderr",
     "output_type": "stream",
     "text": [
      "WARNING:tensorflow:5 out of the last 11 calls to <function TensorFlowTrainer.make_predict_function.<locals>.one_step_on_data_distributed at 0x0000022EA71E0D30> triggered tf.function retracing. Tracing is expensive and the excessive number of tracings could be due to (1) creating @tf.function repeatedly in a loop, (2) passing tensors with different shapes, (3) passing Python objects instead of tensors. For (1), please define your @tf.function outside of the loop. For (2), @tf.function has reduce_retracing=True option that can avoid unnecessary retracing. For (3), please refer to https://www.tensorflow.org/guide/function#controlling_retracing and https://www.tensorflow.org/api_docs/python/tf/function for  more details.\n"
     ]
    },
    {
     "name": "stdout",
     "output_type": "stream",
     "text": [
      "\u001b[1m5/5\u001b[0m \u001b[32m━━━━━━━━━━━━━━━━━━━━\u001b[0m\u001b[37m\u001b[0m \u001b[1m9s\u001b[0m 2s/step\n",
      "              precision    recall  f1-score   support\n",
      "\n",
      "     Manggis       0.88      1.00      0.94       100\n",
      "      Pisang       1.00      0.64      0.78       100\n",
      "    Rambutan       0.81      1.00      0.90       100\n",
      "\n",
      "    accuracy                           0.88       300\n",
      "   macro avg       0.90      0.88      0.87       300\n",
      "weighted avg       0.90      0.88      0.87       300\n",
      "\n",
      "Metrics for Fold 3\n",
      "      Class   TP  FN  FP   TN\n",
      "0   Manggis  100   0  13  187\n",
      "1    Pisang   64  36   0  200\n",
      "2  Rambutan  100   0  23  177\n"
     ]
    },
    {
     "data": {
      "image/png": "[encoded data removed]",
      "text/plain": [
       "<Figure size 720x504 with 2 Axes>"
      ]
     },
     "metadata": {
      "needs_background": "light"
     },
     "output_type": "display_data"
    }
   ],
   "source": [
    "for fold in range(1, folds + 1):\n",
    "    # Load model\n",
    "    model_path = f\"D:/kuliah/Tugas Akhir/Code/Klasifikasi Jenis Buah Lokal/models/K-Fold Cross Validation/MobileNetV2-RGB_fold_{fold}.h5\"\n",
    "    model = load_model(model_path)\n",
    "\n",
    "    # Evaluate the model using the test data\n",
    "    test_loss, test_accuracy, test_precision, test_recall = model.evaluate(test_generator)\n",
    "    all_test_accuracies.append(test_accuracy)\n",
    "\n",
    "    print(f\"Fold {fold} - Test Accuracy: {test_accuracy}\")\n",
    "    print(f\"Fold {fold} - Test Loss: {test_loss}\")\n",
    "\n",
    "    # Predictions\n",
    "    test_generator.reset()\n",
    "    predictions = model.predict(test_generator)\n",
    "    y_pred = np.argmax(predictions, axis=1)\n",
    "    y_true = test_generator.classes\n",
    "\n",
    "    # Confusion matrix\n",
    "    cm = confusion_matrix(y_true, y_pred)\n",
    "    conf_matrices.append(cm)\n",
    "\n",
    "    # Generate classification report\n",
    "    report = classification_report(y_true, y_pred, target_names=test_generator.class_indices.keys())\n",
    "    print(report)\n",
    "\n",
    "    # Save history\n",
    "    histories.append(model.history.history)\n",
    "\n",
    "    # Calculate TP, FN, TN, FP\n",
    "    TP = np.diag(cm)\n",
    "    FN = np.sum(cm, axis=1) - TP\n",
    "    FP = np.sum(cm, axis=0) - TP\n",
    "    TN = np.sum(cm) - (TP + FN + FP)\n",
    "    \n",
    "    metrics_df = pd.DataFrame({\n",
    "        'Class': test_generator.class_indices.keys(),\n",
    "        'TP': TP,\n",
    "        'FN': FN,\n",
    "        'FP': FP,\n",
    "        'TN': TN\n",
    "    })\n",
    "    \n",
    "    print(f\"Metrics for Fold {fold}\")\n",
    "    print(metrics_df)\n",
    "\n",
    "    # Plot confusion matrix\n",
    "    plt.figure(figsize=(10, 7))\n",
    "    sns.heatmap(cm, annot=True, fmt='d', cmap='Blues', xticklabels=test_generator.class_indices.keys(), yticklabels=test_generator.class_indices.keys())\n",
    "    plt.xlabel('Predicted')\n",
    "    plt.ylabel('Actual')\n",
    "    plt.title(f'Confusion Matrix for Fold {fold}')\n",
    "    plt.show()\n",
    "    "
   ]
  },
  {
   "cell_type": "code",
   "execution_count": 5,
   "metadata": {},
   "outputs": [
    {
     "name": "stdout",
     "output_type": "stream",
     "text": [
      "\n",
      "Average Test Accuracy: 0.9444444378217062\n"
     ]
    }
   ],
   "source": [
    "# Average test accuracy\n",
    "average_test_accuracy = np.mean(all_test_accuracies)\n",
    "print(f\"\\nAverage Test Accuracy: {average_test_accuracy}\")"
   ]
  }
 ],
 "metadata": {
  "kernelspec": {
   "display_name": "Python 3",
   "language": "python",
   "name": "python3"
  },
  "language_info": {
   "codemirror_mode": {
    "name": "ipython",
    "version": 3
   },
   "file_extension": ".py",
   "mimetype": "text/x-python",
   "name": "python",
   "nbconvert_exporter": "python",
   "pygments_lexer": "ipython3",
   "version": "3.9.2"
  }
 },
 "nbformat": 4,
 "nbformat_minor": 2
}
