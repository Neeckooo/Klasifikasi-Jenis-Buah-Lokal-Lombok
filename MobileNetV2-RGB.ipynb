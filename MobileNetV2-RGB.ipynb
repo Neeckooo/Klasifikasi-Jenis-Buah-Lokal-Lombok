{
 "cells": [
  {
   "cell_type": "code",
   "execution_count": 2,
   "metadata": {},
   "outputs": [],
   "source": [
    "import numpy as np\n",
    "import matplotlib.pyplot as plt\n",
    "import tensorflow as tf\n",
    "from tensorflow.keras.preprocessing.image import ImageDataGenerator\n",
    "from tensorflow.keras.applications import MobileNetV2\n",
    "from tensorflow.keras.layers import Dense, Flatten, Dropout\n",
    "from tensorflow.keras.models import Sequential\n",
    "from tensorflow.keras.callbacks import ModelCheckpoint"
   ]
  },
  {
   "cell_type": "code",
   "execution_count": 3,
   "metadata": {},
   "outputs": [],
   "source": [
    "# Path ke direktori dataset\n",
    "train_dir = \"./dataset/rgb_masking/train\"\n",
    "validation_dir = \"./dataset/rgb/val\""
   ]
  },
  {
   "cell_type": "code",
   "execution_count": 4,
   "metadata": {},
   "outputs": [
    {
     "name": "stdout",
     "output_type": "stream",
     "text": [
      "Found 1252 images belonging to 3 classes.\n",
      "Found 315 images belonging to 3 classes.\n"
     ]
    }
   ],
   "source": [
    "# Parameter augmentasi gambar\n",
    "train_datagen = ImageDataGenerator(\n",
    "    rescale=1.0 / 255,\n",
    "    rotation_range=40,\n",
    "    width_shift_range=0.2,\n",
    "    height_shift_range=0.2,\n",
    "    shear_range=0.2,\n",
    "    zoom_range=0.2,\n",
    "    horizontal_flip=True,\n",
    "    fill_mode='nearest'\n",
    ")\n",
    "\n",
    "test_datagen = ImageDataGenerator(rescale=1.0 / 255)\n",
    "\n",
    "# Load data latih\n",
    "train_generator = train_datagen.flow_from_directory(\n",
    "    train_dir,\n",
    "    target_size=(300, 300),\n",
    "    batch_size=64,\n",
    "    class_mode='categorical'\n",
    ")\n",
    "\n",
    "# Load data validasi\n",
    "validation_generator = test_datagen.flow_from_directory(\n",
    "    validation_dir,\n",
    "    target_size=(300, 300),\n",
    "    batch_size=64,\n",
    "    class_mode='categorical'\n",
    ")"
   ]
  },
  {
   "cell_type": "code",
   "execution_count": 5,
   "metadata": {},
   "outputs": [
    {
     "name": "stderr",
     "output_type": "stream",
     "text": [
      "<ipython-input-5-70eda4ad62ba>:2: UserWarning: `input_shape` is undefined or non-square, or `rows` is not in [96, 128, 160, 192, 224]. Weights for input shape (224, 224) will be loaded as the default.\n",
      "  base_model = MobileNetV2(weights='imagenet', include_top=False, input_shape=(300, 300, 3))\n"
     ]
    },
    {
     "data": {
      "text/html": [
       "<pre style=\"white-space:pre;overflow-x:auto;line-height:normal;font-family:Menlo,'DejaVu Sans Mono',consolas,'Courier New',monospace\"><span style=\"font-weight: bold\">Model: \"sequential\"</span>\n",
       "</pre>\n"
      ],
      "text/plain": [
       "\u001b[1mModel: \"sequential\"\u001b[0m\n"
      ]
     },
     "metadata": {},
     "output_type": "display_data"
    },
    {
     "data": {
      "text/html": [
       "<pre style=\"white-space:pre;overflow-x:auto;line-height:normal;font-family:Menlo,'DejaVu Sans Mono',consolas,'Courier New',monospace\">┏━━━━━━━━━━━━━━━━━━━━━━━━━━━━━━━━━┳━━━━━━━━━━━━━━━━━━━━━━━━┳━━━━━━━━━━━━━━━┓\n",
       "┃<span style=\"font-weight: bold\"> Layer (type)                    </span>┃<span style=\"font-weight: bold\"> Output Shape           </span>┃<span style=\"font-weight: bold\">       Param # </span>┃\n",
       "┡━━━━━━━━━━━━━━━━━━━━━━━━━━━━━━━━━╇━━━━━━━━━━━━━━━━━━━━━━━━╇━━━━━━━━━━━━━━━┩\n",
       "│ mobilenetv2_1.00_224            │ ?                      │     <span style=\"color: #00af00; text-decoration-color: #00af00\">2,257,984</span> │\n",
       "│ (<span style=\"color: #0087ff; text-decoration-color: #0087ff\">Functional</span>)                    │                        │               │\n",
       "├─────────────────────────────────┼────────────────────────┼───────────────┤\n",
       "│ flatten (<span style=\"color: #0087ff; text-decoration-color: #0087ff\">Flatten</span>)               │ ?                      │   <span style=\"color: #00af00; text-decoration-color: #00af00\">0</span> (unbuilt) │\n",
       "├─────────────────────────────────┼────────────────────────┼───────────────┤\n",
       "│ dropout (<span style=\"color: #0087ff; text-decoration-color: #0087ff\">Dropout</span>)               │ ?                      │   <span style=\"color: #00af00; text-decoration-color: #00af00\">0</span> (unbuilt) │\n",
       "├─────────────────────────────────┼────────────────────────┼───────────────┤\n",
       "│ dense (<span style=\"color: #0087ff; text-decoration-color: #0087ff\">Dense</span>)                   │ ?                      │   <span style=\"color: #00af00; text-decoration-color: #00af00\">0</span> (unbuilt) │\n",
       "├─────────────────────────────────┼────────────────────────┼───────────────┤\n",
       "│ dropout_1 (<span style=\"color: #0087ff; text-decoration-color: #0087ff\">Dropout</span>)             │ ?                      │   <span style=\"color: #00af00; text-decoration-color: #00af00\">0</span> (unbuilt) │\n",
       "├─────────────────────────────────┼────────────────────────┼───────────────┤\n",
       "│ dense_1 (<span style=\"color: #0087ff; text-decoration-color: #0087ff\">Dense</span>)                 │ ?                      │   <span style=\"color: #00af00; text-decoration-color: #00af00\">0</span> (unbuilt) │\n",
       "└─────────────────────────────────┴────────────────────────┴───────────────┘\n",
       "</pre>\n"
      ],
      "text/plain": [
       "┏━━━━━━━━━━━━━━━━━━━━━━━━━━━━━━━━━┳━━━━━━━━━━━━━━━━━━━━━━━━┳━━━━━━━━━━━━━━━┓\n",
       "┃\u001b[1m \u001b[0m\u001b[1mLayer (type)                   \u001b[0m\u001b[1m \u001b[0m┃\u001b[1m \u001b[0m\u001b[1mOutput Shape          \u001b[0m\u001b[1m \u001b[0m┃\u001b[1m \u001b[0m\u001b[1m      Param #\u001b[0m\u001b[1m \u001b[0m┃\n",
       "┡━━━━━━━━━━━━━━━━━━━━━━━━━━━━━━━━━╇━━━━━━━━━━━━━━━━━━━━━━━━╇━━━━━━━━━━━━━━━┩\n",
       "│ mobilenetv2_1.00_224            │ ?                      │     \u001b[38;5;34m2,257,984\u001b[0m │\n",
       "│ (\u001b[38;5;33mFunctional\u001b[0m)                    │                        │               │\n",
       "├─────────────────────────────────┼────────────────────────┼───────────────┤\n",
       "│ flatten (\u001b[38;5;33mFlatten\u001b[0m)               │ ?                      │   \u001b[38;5;34m0\u001b[0m (unbuilt) │\n",
       "├─────────────────────────────────┼────────────────────────┼───────────────┤\n",
       "│ dropout (\u001b[38;5;33mDropout\u001b[0m)               │ ?                      │   \u001b[38;5;34m0\u001b[0m (unbuilt) │\n",
       "├─────────────────────────────────┼────────────────────────┼───────────────┤\n",
       "│ dense (\u001b[38;5;33mDense\u001b[0m)                   │ ?                      │   \u001b[38;5;34m0\u001b[0m (unbuilt) │\n",
       "├─────────────────────────────────┼────────────────────────┼───────────────┤\n",
       "│ dropout_1 (\u001b[38;5;33mDropout\u001b[0m)             │ ?                      │   \u001b[38;5;34m0\u001b[0m (unbuilt) │\n",
       "├─────────────────────────────────┼────────────────────────┼───────────────┤\n",
       "│ dense_1 (\u001b[38;5;33mDense\u001b[0m)                 │ ?                      │   \u001b[38;5;34m0\u001b[0m (unbuilt) │\n",
       "└─────────────────────────────────┴────────────────────────┴───────────────┘\n"
      ]
     },
     "metadata": {},
     "output_type": "display_data"
    },
    {
     "data": {
      "text/html": [
       "<pre style=\"white-space:pre;overflow-x:auto;line-height:normal;font-family:Menlo,'DejaVu Sans Mono',consolas,'Courier New',monospace\"><span style=\"font-weight: bold\"> Total params: </span><span style=\"color: #00af00; text-decoration-color: #00af00\">2,257,984</span> (8.61 MB)\n",
       "</pre>\n"
      ],
      "text/plain": [
       "\u001b[1m Total params: \u001b[0m\u001b[38;5;34m2,257,984\u001b[0m (8.61 MB)\n"
      ]
     },
     "metadata": {},
     "output_type": "display_data"
    },
    {
     "data": {
      "text/html": [
       "<pre style=\"white-space:pre;overflow-x:auto;line-height:normal;font-family:Menlo,'DejaVu Sans Mono',consolas,'Courier New',monospace\"><span style=\"font-weight: bold\"> Trainable params: </span><span style=\"color: #00af00; text-decoration-color: #00af00\">2,223,872</span> (8.48 MB)\n",
       "</pre>\n"
      ],
      "text/plain": [
       "\u001b[1m Trainable params: \u001b[0m\u001b[38;5;34m2,223,872\u001b[0m (8.48 MB)\n"
      ]
     },
     "metadata": {},
     "output_type": "display_data"
    },
    {
     "data": {
      "text/html": [
       "<pre style=\"white-space:pre;overflow-x:auto;line-height:normal;font-family:Menlo,'DejaVu Sans Mono',consolas,'Courier New',monospace\"><span style=\"font-weight: bold\"> Non-trainable params: </span><span style=\"color: #00af00; text-decoration-color: #00af00\">34,112</span> (133.25 KB)\n",
       "</pre>\n"
      ],
      "text/plain": [
       "\u001b[1m Non-trainable params: \u001b[0m\u001b[38;5;34m34,112\u001b[0m (133.25 KB)\n"
      ]
     },
     "metadata": {},
     "output_type": "display_data"
    }
   ],
   "source": [
    "# Define the model\n",
    "base_model = MobileNetV2(weights='imagenet', include_top=False, input_shape=(300, 300, 3))\n",
    "model = Sequential([\n",
    "    base_model,\n",
    "    Flatten(),\n",
    "    Dropout(0.5),\n",
    "    Dense(16, activation='relu'),\n",
    "    Dropout(0.5),\n",
    "    Dense(3, activation='softmax')\n",
    "])\n",
    "\n",
    "model.summary()\n",
    "\n",
    "# Compile the model\n",
    "model.compile(optimizer=tf.keras.optimizers.Adam(learning_rate=0.0001),\n",
    "              loss='categorical_crossentropy',\n",
    "              metrics=['accuracy', tf.keras.metrics.Precision(), tf.keras.metrics.Recall()])"
   ]
  },
  {
   "cell_type": "code",
   "execution_count": 6,
   "metadata": {},
   "outputs": [
    {
     "name": "stdout",
     "output_type": "stream",
     "text": [
      "Epoch 1/50\n"
     ]
    },
    {
     "name": "stderr",
     "output_type": "stream",
     "text": [
      "c:\\Users\\CATUR WARGA COMPUTER\\AppData\\Local\\Programs\\Python\\Python39\\lib\\site-packages\\keras\\src\\trainers\\data_adapters\\py_dataset_adapter.py:121: UserWarning: Your `PyDataset` class should call `super().__init__(**kwargs)` in its constructor. `**kwargs` can include `workers`, `use_multiprocessing`, `max_queue_size`. Do not pass these arguments to `fit()`, as they will be ignored.\n",
      "  self._warn_if_super_not_called()\n"
     ]
    },
    {
     "name": "stdout",
     "output_type": "stream",
     "text": [
      "\u001b[1m20/20\u001b[0m \u001b[32m━━━━━━━━━━━━━━━━━━━━\u001b[0m\u001b[37m\u001b[0m \u001b[1m0s\u001b[0m 7s/step - accuracy: 0.6771 - loss: 1.0129 - precision: 0.7200 - recall: 0.6302\n",
      "Epoch 1: val_loss improved from inf to 0.05343, saving model to ./models/Baru/MobileNetV2-RGB.keras\n",
      "\u001b[1m20/20\u001b[0m \u001b[32m━━━━━━━━━━━━━━━━━━━━\u001b[0m\u001b[37m\u001b[0m \u001b[1m188s\u001b[0m 8s/step - accuracy: 0.6829 - loss: 0.9916 - precision: 0.7261 - recall: 0.6361 - val_accuracy: 0.9937 - val_loss: 0.0534 - val_precision: 0.9937 - val_recall: 0.9937\n",
      "Epoch 2/50\n",
      "\u001b[1m20/20\u001b[0m \u001b[32m━━━━━━━━━━━━━━━━━━━━\u001b[0m\u001b[37m\u001b[0m \u001b[1m0s\u001b[0m 7s/step - accuracy: 0.9404 - loss: 0.1168 - precision: 0.9731 - recall: 0.9216\n",
      "Epoch 2: val_loss improved from 0.05343 to 0.02615, saving model to ./models/Baru/MobileNetV2-RGB.keras\n",
      "\u001b[1m20/20\u001b[0m \u001b[32m━━━━━━━━━━━━━━━━━━━━\u001b[0m\u001b[37m\u001b[0m \u001b[1m158s\u001b[0m 8s/step - accuracy: 0.9404 - loss: 0.1171 - precision: 0.9729 - recall: 0.9216 - val_accuracy: 0.9968 - val_loss: 0.0262 - val_precision: 0.9968 - val_recall: 0.9968\n",
      "Epoch 3/50\n",
      "\u001b[1m20/20\u001b[0m \u001b[32m━━━━━━━━━━━━━━━━━━━━\u001b[0m\u001b[37m\u001b[0m \u001b[1m0s\u001b[0m 7s/step - accuracy: 0.9570 - loss: 0.0948 - precision: 0.9771 - recall: 0.9266\n",
      "Epoch 3: val_loss did not improve from 0.02615\n",
      "\u001b[1m20/20\u001b[0m \u001b[32m━━━━━━━━━━━━━━━━━━━━\u001b[0m\u001b[37m\u001b[0m \u001b[1m151s\u001b[0m 7s/step - accuracy: 0.9568 - loss: 0.0949 - precision: 0.9771 - recall: 0.9266 - val_accuracy: 0.9905 - val_loss: 0.0361 - val_precision: 0.9905 - val_recall: 0.9905\n",
      "Epoch 4/50\n",
      "\u001b[1m20/20\u001b[0m \u001b[32m━━━━━━━━━━━━━━━━━━━━\u001b[0m\u001b[37m\u001b[0m \u001b[1m0s\u001b[0m 7s/step - accuracy: 0.9657 - loss: 0.0689 - precision: 0.9891 - recall: 0.9458\n",
      "Epoch 4: val_loss did not improve from 0.02615\n",
      "\u001b[1m20/20\u001b[0m \u001b[32m━━━━━━━━━━━━━━━━━━━━\u001b[0m\u001b[37m\u001b[0m \u001b[1m155s\u001b[0m 7s/step - accuracy: 0.9655 - loss: 0.0691 - precision: 0.9887 - recall: 0.9458 - val_accuracy: 0.9937 - val_loss: 0.0281 - val_precision: 0.9937 - val_recall: 0.9937\n",
      "Epoch 5/50\n",
      "\u001b[1m20/20\u001b[0m \u001b[32m━━━━━━━━━━━━━━━━━━━━\u001b[0m\u001b[37m\u001b[0m \u001b[1m0s\u001b[0m 7s/step - accuracy: 0.9627 - loss: 0.0702 - precision: 0.9746 - recall: 0.9488\n",
      "Epoch 5: val_loss improved from 0.02615 to 0.02468, saving model to ./models/Baru/MobileNetV2-RGB.keras\n",
      "\u001b[1m20/20\u001b[0m \u001b[32m━━━━━━━━━━━━━━━━━━━━\u001b[0m\u001b[37m\u001b[0m \u001b[1m155s\u001b[0m 7s/step - accuracy: 0.9627 - loss: 0.0700 - precision: 0.9748 - recall: 0.9487 - val_accuracy: 0.9937 - val_loss: 0.0247 - val_precision: 0.9937 - val_recall: 0.9937\n",
      "Epoch 6/50\n",
      "\u001b[1m20/20\u001b[0m \u001b[32m━━━━━━━━━━━━━━━━━━━━\u001b[0m\u001b[37m\u001b[0m \u001b[1m0s\u001b[0m 7s/step - accuracy: 0.9571 - loss: 0.0686 - precision: 0.9736 - recall: 0.9451\n",
      "Epoch 6: val_loss improved from 0.02468 to 0.01718, saving model to ./models/Baru/MobileNetV2-RGB.keras\n",
      "\u001b[1m20/20\u001b[0m \u001b[32m━━━━━━━━━━━━━━━━━━━━\u001b[0m\u001b[37m\u001b[0m \u001b[1m156s\u001b[0m 7s/step - accuracy: 0.9570 - loss: 0.0688 - precision: 0.9735 - recall: 0.9448 - val_accuracy: 0.9937 - val_loss: 0.0172 - val_precision: 0.9937 - val_recall: 0.9937\n",
      "Epoch 7/50\n",
      "\u001b[1m20/20\u001b[0m \u001b[32m━━━━━━━━━━━━━━━━━━━━\u001b[0m\u001b[37m\u001b[0m \u001b[1m0s\u001b[0m 7s/step - accuracy: 0.9584 - loss: 0.0813 - precision: 0.9860 - recall: 0.9319\n",
      "Epoch 7: val_loss improved from 0.01718 to 0.00975, saving model to ./models/Baru/MobileNetV2-RGB.keras\n",
      "\u001b[1m20/20\u001b[0m \u001b[32m━━━━━━━━━━━━━━━━━━━━\u001b[0m\u001b[37m\u001b[0m \u001b[1m151s\u001b[0m 7s/step - accuracy: 0.9587 - loss: 0.0808 - precision: 0.9859 - recall: 0.9323 - val_accuracy: 1.0000 - val_loss: 0.0098 - val_precision: 1.0000 - val_recall: 1.0000\n",
      "Epoch 8/50\n",
      "\u001b[1m20/20\u001b[0m \u001b[32m━━━━━━━━━━━━━━━━━━━━\u001b[0m\u001b[37m\u001b[0m \u001b[1m0s\u001b[0m 7s/step - accuracy: 0.9723 - loss: 0.0576 - precision: 0.9819 - recall: 0.9488\n",
      "Epoch 8: val_loss improved from 0.00975 to 0.00895, saving model to ./models/Baru/MobileNetV2-RGB.keras\n",
      "\u001b[1m20/20\u001b[0m \u001b[32m━━━━━━━━━━━━━━━━━━━━\u001b[0m\u001b[37m\u001b[0m \u001b[1m152s\u001b[0m 7s/step - accuracy: 0.9720 - loss: 0.0576 - precision: 0.9819 - recall: 0.9488 - val_accuracy: 1.0000 - val_loss: 0.0089 - val_precision: 1.0000 - val_recall: 1.0000\n",
      "Epoch 9/50\n",
      "\u001b[1m20/20\u001b[0m \u001b[32m━━━━━━━━━━━━━━━━━━━━\u001b[0m\u001b[37m\u001b[0m \u001b[1m0s\u001b[0m 7s/step - accuracy: 0.9638 - loss: 0.0680 - precision: 0.9775 - recall: 0.9418\n",
      "Epoch 9: val_loss improved from 0.00895 to 0.00389, saving model to ./models/Baru/MobileNetV2-RGB.keras\n",
      "\u001b[1m20/20\u001b[0m \u001b[32m━━━━━━━━━━━━━━━━━━━━\u001b[0m\u001b[37m\u001b[0m \u001b[1m148s\u001b[0m 7s/step - accuracy: 0.9641 - loss: 0.0678 - precision: 0.9778 - recall: 0.9421 - val_accuracy: 1.0000 - val_loss: 0.0039 - val_precision: 1.0000 - val_recall: 1.0000\n",
      "Epoch 10/50\n",
      "\u001b[1m20/20\u001b[0m \u001b[32m━━━━━━━━━━━━━━━━━━━━\u001b[0m\u001b[37m\u001b[0m \u001b[1m0s\u001b[0m 7s/step - accuracy: 0.9748 - loss: 0.0789 - precision: 0.9813 - recall: 0.9549\n",
      "Epoch 10: val_loss improved from 0.00389 to 0.00218, saving model to ./models/Baru/MobileNetV2-RGB.keras\n",
      "\u001b[1m20/20\u001b[0m \u001b[32m━━━━━━━━━━━━━━━━━━━━\u001b[0m\u001b[37m\u001b[0m \u001b[1m149s\u001b[0m 7s/step - accuracy: 0.9744 - loss: 0.0788 - precision: 0.9810 - recall: 0.9543 - val_accuracy: 1.0000 - val_loss: 0.0022 - val_precision: 1.0000 - val_recall: 1.0000\n",
      "Epoch 11/50\n",
      "\u001b[1m20/20\u001b[0m \u001b[32m━━━━━━━━━━━━━━━━━━━━\u001b[0m\u001b[37m\u001b[0m \u001b[1m0s\u001b[0m 7s/step - accuracy: 0.9620 - loss: 0.0718 - precision: 0.9699 - recall: 0.9452\n",
      "Epoch 11: val_loss improved from 0.00218 to 0.00148, saving model to ./models/Baru/MobileNetV2-RGB.keras\n",
      "\u001b[1m20/20\u001b[0m \u001b[32m━━━━━━━━━━━━━━━━━━━━\u001b[0m\u001b[37m\u001b[0m \u001b[1m148s\u001b[0m 7s/step - accuracy: 0.9620 - loss: 0.0712 - precision: 0.9701 - recall: 0.9452 - val_accuracy: 1.0000 - val_loss: 0.0015 - val_precision: 1.0000 - val_recall: 1.0000\n",
      "Epoch 12/50\n",
      "\u001b[1m20/20\u001b[0m \u001b[32m━━━━━━━━━━━━━━━━━━━━\u001b[0m\u001b[37m\u001b[0m \u001b[1m0s\u001b[0m 7s/step - accuracy: 0.9673 - loss: 0.0581 - precision: 0.9748 - recall: 0.9454\n",
      "Epoch 12: val_loss improved from 0.00148 to 0.00145, saving model to ./models/Baru/MobileNetV2-RGB.keras\n",
      "\u001b[1m20/20\u001b[0m \u001b[32m━━━━━━━━━━━━━━━━━━━━\u001b[0m\u001b[37m\u001b[0m \u001b[1m149s\u001b[0m 7s/step - accuracy: 0.9673 - loss: 0.0584 - precision: 0.9747 - recall: 0.9453 - val_accuracy: 1.0000 - val_loss: 0.0015 - val_precision: 1.0000 - val_recall: 1.0000\n",
      "Epoch 13/50\n",
      "\u001b[1m20/20\u001b[0m \u001b[32m━━━━━━━━━━━━━━━━━━━━\u001b[0m\u001b[37m\u001b[0m \u001b[1m0s\u001b[0m 7s/step - accuracy: 0.9531 - loss: 0.0703 - precision: 0.9620 - recall: 0.9309\n",
      "Epoch 13: val_loss did not improve from 0.00145\n",
      "\u001b[1m20/20\u001b[0m \u001b[32m━━━━━━━━━━━━━━━━━━━━\u001b[0m\u001b[37m\u001b[0m \u001b[1m148s\u001b[0m 7s/step - accuracy: 0.9537 - loss: 0.0694 - precision: 0.9626 - recall: 0.9318 - val_accuracy: 1.0000 - val_loss: 0.0017 - val_precision: 1.0000 - val_recall: 1.0000\n",
      "Epoch 14/50\n",
      "\u001b[1m20/20\u001b[0m \u001b[32m━━━━━━━━━━━━━━━━━━━━\u001b[0m\u001b[37m\u001b[0m \u001b[1m0s\u001b[0m 7s/step - accuracy: 0.9652 - loss: 0.0632 - precision: 0.9758 - recall: 0.9427\n",
      "Epoch 14: val_loss improved from 0.00145 to 0.00079, saving model to ./models/Baru/MobileNetV2-RGB.keras\n",
      "\u001b[1m20/20\u001b[0m \u001b[32m━━━━━━━━━━━━━━━━━━━━\u001b[0m\u001b[37m\u001b[0m \u001b[1m149s\u001b[0m 7s/step - accuracy: 0.9655 - loss: 0.0626 - precision: 0.9762 - recall: 0.9432 - val_accuracy: 1.0000 - val_loss: 7.8614e-04 - val_precision: 1.0000 - val_recall: 1.0000\n",
      "Epoch 15/50\n",
      "\u001b[1m20/20\u001b[0m \u001b[32m━━━━━━━━━━━━━━━━━━━━\u001b[0m\u001b[37m\u001b[0m \u001b[1m0s\u001b[0m 7s/step - accuracy: 0.9715 - loss: 0.0560 - precision: 0.9842 - recall: 0.9457\n",
      "Epoch 15: val_loss improved from 0.00079 to 0.00051, saving model to ./models/Baru/MobileNetV2-RGB.keras\n",
      "\u001b[1m20/20\u001b[0m \u001b[32m━━━━━━━━━━━━━━━━━━━━\u001b[0m\u001b[37m\u001b[0m \u001b[1m149s\u001b[0m 7s/step - accuracy: 0.9716 - loss: 0.0558 - precision: 0.9842 - recall: 0.9459 - val_accuracy: 1.0000 - val_loss: 5.1233e-04 - val_precision: 1.0000 - val_recall: 1.0000\n",
      "Epoch 16/50\n",
      "\u001b[1m20/20\u001b[0m \u001b[32m━━━━━━━━━━━━━━━━━━━━\u001b[0m\u001b[37m\u001b[0m \u001b[1m0s\u001b[0m 7s/step - accuracy: 0.9754 - loss: 0.0473 - precision: 0.9832 - recall: 0.9544\n",
      "Epoch 16: val_loss improved from 0.00051 to 0.00043, saving model to ./models/Baru/MobileNetV2-RGB.keras\n",
      "\u001b[1m20/20\u001b[0m \u001b[32m━━━━━━━━━━━━━━━━━━━━\u001b[0m\u001b[37m\u001b[0m \u001b[1m149s\u001b[0m 7s/step - accuracy: 0.9754 - loss: 0.0472 - precision: 0.9831 - recall: 0.9543 - val_accuracy: 1.0000 - val_loss: 4.3368e-04 - val_precision: 1.0000 - val_recall: 1.0000\n",
      "Epoch 17/50\n",
      "\u001b[1m20/20\u001b[0m \u001b[32m━━━━━━━━━━━━━━━━━━━━\u001b[0m\u001b[37m\u001b[0m \u001b[1m0s\u001b[0m 7s/step - accuracy: 0.9598 - loss: 0.0577 - precision: 0.9716 - recall: 0.9380\n",
      "Epoch 17: val_loss improved from 0.00043 to 0.00042, saving model to ./models/Baru/MobileNetV2-RGB.keras\n",
      "\u001b[1m20/20\u001b[0m \u001b[32m━━━━━━━━━━━━━━━━━━━━\u001b[0m\u001b[37m\u001b[0m \u001b[1m149s\u001b[0m 7s/step - accuracy: 0.9601 - loss: 0.0575 - precision: 0.9718 - recall: 0.9383 - val_accuracy: 1.0000 - val_loss: 4.1659e-04 - val_precision: 1.0000 - val_recall: 1.0000\n",
      "Epoch 18/50\n",
      "\u001b[1m20/20\u001b[0m \u001b[32m━━━━━━━━━━━━━━━━━━━━\u001b[0m\u001b[37m\u001b[0m \u001b[1m0s\u001b[0m 7s/step - accuracy: 0.9618 - loss: 0.0620 - precision: 0.9734 - recall: 0.9383\n",
      "Epoch 18: val_loss improved from 0.00042 to 0.00020, saving model to ./models/Baru/MobileNetV2-RGB.keras\n",
      "\u001b[1m20/20\u001b[0m \u001b[32m━━━━━━━━━━━━━━━━━━━━\u001b[0m\u001b[37m\u001b[0m \u001b[1m149s\u001b[0m 7s/step - accuracy: 0.9624 - loss: 0.0614 - precision: 0.9738 - recall: 0.9390 - val_accuracy: 1.0000 - val_loss: 1.9973e-04 - val_precision: 1.0000 - val_recall: 1.0000\n",
      "Epoch 19/50\n",
      "\u001b[1m20/20\u001b[0m \u001b[32m━━━━━━━━━━━━━━━━━━━━\u001b[0m\u001b[37m\u001b[0m \u001b[1m0s\u001b[0m 7s/step - accuracy: 0.9785 - loss: 0.0424 - precision: 0.9884 - recall: 0.9579\n",
      "Epoch 19: val_loss did not improve from 0.00020\n",
      "\u001b[1m20/20\u001b[0m \u001b[32m━━━━━━━━━━━━━━━━━━━━\u001b[0m\u001b[37m\u001b[0m \u001b[1m148s\u001b[0m 7s/step - accuracy: 0.9783 - loss: 0.0427 - precision: 0.9882 - recall: 0.9576 - val_accuracy: 1.0000 - val_loss: 2.2444e-04 - val_precision: 1.0000 - val_recall: 1.0000\n",
      "Epoch 20/50\n",
      "\u001b[1m20/20\u001b[0m \u001b[32m━━━━━━━━━━━━━━━━━━━━\u001b[0m\u001b[37m\u001b[0m \u001b[1m0s\u001b[0m 7s/step - accuracy: 0.9818 - loss: 0.0368 - precision: 0.9891 - recall: 0.9652\n",
      "Epoch 20: val_loss did not improve from 0.00020\n",
      "\u001b[1m20/20\u001b[0m \u001b[32m━━━━━━━━━━━━━━━━━━━━\u001b[0m\u001b[37m\u001b[0m \u001b[1m148s\u001b[0m 7s/step - accuracy: 0.9819 - loss: 0.0371 - precision: 0.9892 - recall: 0.9651 - val_accuracy: 1.0000 - val_loss: 2.9155e-04 - val_precision: 1.0000 - val_recall: 1.0000\n",
      "Epoch 21/50\n",
      "\u001b[1m20/20\u001b[0m \u001b[32m━━━━━━━━━━━━━━━━━━━━\u001b[0m\u001b[37m\u001b[0m \u001b[1m0s\u001b[0m 7s/step - accuracy: 0.9857 - loss: 0.0435 - precision: 0.9932 - recall: 0.9665\n",
      "Epoch 21: val_loss did not improve from 0.00020\n",
      "\u001b[1m20/20\u001b[0m \u001b[32m━━━━━━━━━━━━━━━━━━━━\u001b[0m\u001b[37m\u001b[0m \u001b[1m148s\u001b[0m 7s/step - accuracy: 0.9857 - loss: 0.0437 - precision: 0.9932 - recall: 0.9666 - val_accuracy: 1.0000 - val_loss: 2.8407e-04 - val_precision: 1.0000 - val_recall: 1.0000\n",
      "Epoch 22/50\n",
      "\u001b[1m20/20\u001b[0m \u001b[32m━━━━━━━━━━━━━━━━━━━━\u001b[0m\u001b[37m\u001b[0m \u001b[1m0s\u001b[0m 7s/step - accuracy: 0.9918 - loss: 0.0418 - precision: 0.9997 - recall: 0.9723\n",
      "Epoch 22: val_loss improved from 0.00020 to 0.00019, saving model to ./models/Baru/MobileNetV2-RGB.keras\n",
      "\u001b[1m20/20\u001b[0m \u001b[32m━━━━━━━━━━━━━━━━━━━━\u001b[0m\u001b[37m\u001b[0m \u001b[1m149s\u001b[0m 7s/step - accuracy: 0.9917 - loss: 0.0420 - precision: 0.9996 - recall: 0.9720 - val_accuracy: 1.0000 - val_loss: 1.9384e-04 - val_precision: 1.0000 - val_recall: 1.0000\n",
      "Epoch 23/50\n",
      "\u001b[1m20/20\u001b[0m \u001b[32m━━━━━━━━━━━━━━━━━━━━\u001b[0m\u001b[37m\u001b[0m \u001b[1m0s\u001b[0m 7s/step - accuracy: 0.9897 - loss: 0.0448 - precision: 0.9964 - recall: 0.9710\n",
      "Epoch 23: val_loss improved from 0.00019 to 0.00008, saving model to ./models/Baru/MobileNetV2-RGB.keras\n",
      "\u001b[1m20/20\u001b[0m \u001b[32m━━━━━━━━━━━━━━━━━━━━\u001b[0m\u001b[37m\u001b[0m \u001b[1m149s\u001b[0m 7s/step - accuracy: 0.9896 - loss: 0.0451 - precision: 0.9963 - recall: 0.9708 - val_accuracy: 1.0000 - val_loss: 7.7108e-05 - val_precision: 1.0000 - val_recall: 1.0000\n",
      "Epoch 24/50\n",
      "\u001b[1m20/20\u001b[0m \u001b[32m━━━━━━━━━━━━━━━━━━━━\u001b[0m\u001b[37m\u001b[0m \u001b[1m0s\u001b[0m 7s/step - accuracy: 0.9887 - loss: 0.0410 - precision: 0.9948 - recall: 0.9708\n",
      "Epoch 24: val_loss did not improve from 0.00008\n",
      "\u001b[1m20/20\u001b[0m \u001b[32m━━━━━━━━━━━━━━━━━━━━\u001b[0m\u001b[37m\u001b[0m \u001b[1m152s\u001b[0m 7s/step - accuracy: 0.9889 - loss: 0.0410 - precision: 0.9949 - recall: 0.9709 - val_accuracy: 1.0000 - val_loss: 9.8960e-05 - val_precision: 1.0000 - val_recall: 1.0000\n",
      "Epoch 25/50\n",
      "\u001b[1m20/20\u001b[0m \u001b[32m━━━━━━━━━━━━━━━━━━━━\u001b[0m\u001b[37m\u001b[0m \u001b[1m0s\u001b[0m 7s/step - accuracy: 0.9973 - loss: 0.0500 - precision: 1.0000 - recall: 0.9663\n",
      "Epoch 25: val_loss improved from 0.00008 to 0.00005, saving model to ./models/Baru/MobileNetV2-RGB.keras\n",
      "\u001b[1m20/20\u001b[0m \u001b[32m━━━━━━━━━━━━━━━━━━━━\u001b[0m\u001b[37m\u001b[0m \u001b[1m150s\u001b[0m 7s/step - accuracy: 0.9973 - loss: 0.0498 - precision: 1.0000 - recall: 0.9665 - val_accuracy: 1.0000 - val_loss: 5.0962e-05 - val_precision: 1.0000 - val_recall: 1.0000\n",
      "Epoch 26/50\n",
      "\u001b[1m20/20\u001b[0m \u001b[32m━━━━━━━━━━━━━━━━━━━━\u001b[0m\u001b[37m\u001b[0m \u001b[1m0s\u001b[0m 7s/step - accuracy: 0.9880 - loss: 0.0394 - precision: 0.9958 - recall: 0.9735\n",
      "Epoch 26: val_loss improved from 0.00005 to 0.00001, saving model to ./models/Baru/MobileNetV2-RGB.keras\n",
      "\u001b[1m20/20\u001b[0m \u001b[32m━━━━━━━━━━━━━━━━━━━━\u001b[0m\u001b[37m\u001b[0m \u001b[1m149s\u001b[0m 7s/step - accuracy: 0.9882 - loss: 0.0393 - precision: 0.9958 - recall: 0.9737 - val_accuracy: 1.0000 - val_loss: 1.4390e-05 - val_precision: 1.0000 - val_recall: 1.0000\n",
      "Epoch 27/50\n",
      "\u001b[1m20/20\u001b[0m \u001b[32m━━━━━━━━━━━━━━━━━━━━\u001b[0m\u001b[37m\u001b[0m \u001b[1m0s\u001b[0m 7s/step - accuracy: 0.9868 - loss: 0.0494 - precision: 0.9982 - recall: 0.9687\n",
      "Epoch 27: val_loss improved from 0.00001 to 0.00001, saving model to ./models/Baru/MobileNetV2-RGB.keras\n",
      "\u001b[1m20/20\u001b[0m \u001b[32m━━━━━━━━━━━━━━━━━━━━\u001b[0m\u001b[37m\u001b[0m \u001b[1m149s\u001b[0m 7s/step - accuracy: 0.9869 - loss: 0.0491 - precision: 0.9981 - recall: 0.9689 - val_accuracy: 1.0000 - val_loss: 5.6546e-06 - val_precision: 1.0000 - val_recall: 1.0000\n",
      "Epoch 28/50\n",
      "\u001b[1m20/20\u001b[0m \u001b[32m━━━━━━━━━━━━━━━━━━━━\u001b[0m\u001b[37m\u001b[0m \u001b[1m0s\u001b[0m 7s/step - accuracy: 0.9871 - loss: 0.0519 - precision: 0.9950 - recall: 0.9607\n",
      "Epoch 28: val_loss improved from 0.00001 to 0.00000, saving model to ./models/Baru/MobileNetV2-RGB.keras\n",
      "\u001b[1m20/20\u001b[0m \u001b[32m━━━━━━━━━━━━━━━━━━━━\u001b[0m\u001b[37m\u001b[0m \u001b[1m149s\u001b[0m 7s/step - accuracy: 0.9871 - loss: 0.0519 - precision: 0.9951 - recall: 0.9609 - val_accuracy: 1.0000 - val_loss: 2.6592e-06 - val_precision: 1.0000 - val_recall: 1.0000\n",
      "Epoch 29/50\n",
      "\u001b[1m20/20\u001b[0m \u001b[32m━━━━━━━━━━━━━━━━━━━━\u001b[0m\u001b[37m\u001b[0m \u001b[1m0s\u001b[0m 7s/step - accuracy: 0.9827 - loss: 0.0622 - precision: 0.9885 - recall: 0.9534\n",
      "Epoch 29: val_loss did not improve from 0.00000\n",
      "\u001b[1m20/20\u001b[0m \u001b[32m━━━━━━━━━━━━━━━━━━━━\u001b[0m\u001b[37m\u001b[0m \u001b[1m149s\u001b[0m 7s/step - accuracy: 0.9828 - loss: 0.0621 - precision: 0.9887 - recall: 0.9535 - val_accuracy: 1.0000 - val_loss: 4.3255e-06 - val_precision: 1.0000 - val_recall: 1.0000\n",
      "Epoch 30/50\n",
      "\u001b[1m20/20\u001b[0m \u001b[32m━━━━━━━━━━━━━━━━━━━━\u001b[0m\u001b[37m\u001b[0m \u001b[1m0s\u001b[0m 7s/step - accuracy: 0.9834 - loss: 0.0535 - precision: 0.9980 - recall: 0.9568\n",
      "Epoch 30: val_loss did not improve from 0.00000\n",
      "\u001b[1m20/20\u001b[0m \u001b[32m━━━━━━━━━━━━━━━━━━━━\u001b[0m\u001b[37m\u001b[0m \u001b[1m148s\u001b[0m 7s/step - accuracy: 0.9834 - loss: 0.0530 - precision: 0.9979 - recall: 0.9572 - val_accuracy: 1.0000 - val_loss: 4.6695e-06 - val_precision: 1.0000 - val_recall: 1.0000\n",
      "Epoch 31/50\n",
      "\u001b[1m20/20\u001b[0m \u001b[32m━━━━━━━━━━━━━━━━━━━━\u001b[0m\u001b[37m\u001b[0m \u001b[1m0s\u001b[0m 7s/step - accuracy: 0.9920 - loss: 0.0371 - precision: 0.9965 - recall: 0.9715\n",
      "Epoch 31: val_loss improved from 0.00000 to 0.00000, saving model to ./models/Baru/MobileNetV2-RGB.keras\n",
      "\u001b[1m20/20\u001b[0m \u001b[32m━━━━━━━━━━━━━━━━━━━━\u001b[0m\u001b[37m\u001b[0m \u001b[1m150s\u001b[0m 7s/step - accuracy: 0.9919 - loss: 0.0373 - precision: 0.9965 - recall: 0.9713 - val_accuracy: 1.0000 - val_loss: 1.1247e-06 - val_precision: 1.0000 - val_recall: 1.0000\n",
      "Epoch 32/50\n",
      "\u001b[1m20/20\u001b[0m \u001b[32m━━━━━━━━━━━━━━━━━━━━\u001b[0m\u001b[37m\u001b[0m \u001b[1m0s\u001b[0m 7s/step - accuracy: 0.9939 - loss: 0.0315 - precision: 0.9982 - recall: 0.9745\n",
      "Epoch 32: val_loss improved from 0.00000 to 0.00000, saving model to ./models/Baru/MobileNetV2-RGB.keras\n",
      "\u001b[1m20/20\u001b[0m \u001b[32m━━━━━━━━━━━━━━━━━━━━\u001b[0m\u001b[37m\u001b[0m \u001b[1m151s\u001b[0m 7s/step - accuracy: 0.9938 - loss: 0.0317 - precision: 0.9982 - recall: 0.9744 - val_accuracy: 1.0000 - val_loss: 8.2497e-07 - val_precision: 1.0000 - val_recall: 1.0000\n",
      "Epoch 33/50\n",
      "\u001b[1m20/20\u001b[0m \u001b[32m━━━━━━━━━━━━━━━━━━━━\u001b[0m\u001b[37m\u001b[0m \u001b[1m0s\u001b[0m 7s/step - accuracy: 0.9851 - loss: 0.0359 - precision: 0.9954 - recall: 0.9704\n",
      "Epoch 33: val_loss improved from 0.00000 to 0.00000, saving model to ./models/Baru/MobileNetV2-RGB.keras\n",
      "\u001b[1m20/20\u001b[0m \u001b[32m━━━━━━━━━━━━━━━━━━━━\u001b[0m\u001b[37m\u001b[0m \u001b[1m149s\u001b[0m 7s/step - accuracy: 0.9851 - loss: 0.0361 - precision: 0.9954 - recall: 0.9702 - val_accuracy: 1.0000 - val_loss: 1.9906e-07 - val_precision: 1.0000 - val_recall: 1.0000\n",
      "Epoch 34/50\n",
      "\u001b[1m20/20\u001b[0m \u001b[32m━━━━━━━━━━━━━━━━━━━━\u001b[0m\u001b[37m\u001b[0m \u001b[1m0s\u001b[0m 7s/step - accuracy: 0.9916 - loss: 0.0297 - precision: 0.9992 - recall: 0.9768\n",
      "Epoch 34: val_loss did not improve from 0.00000\n",
      "\u001b[1m20/20\u001b[0m \u001b[32m━━━━━━━━━━━━━━━━━━━━\u001b[0m\u001b[37m\u001b[0m \u001b[1m148s\u001b[0m 7s/step - accuracy: 0.9915 - loss: 0.0297 - precision: 0.9992 - recall: 0.9767 - val_accuracy: 1.0000 - val_loss: 7.2619e-07 - val_precision: 1.0000 - val_recall: 1.0000\n",
      "Epoch 35/50\n",
      "\u001b[1m20/20\u001b[0m \u001b[32m━━━━━━━━━━━━━━━━━━━━\u001b[0m\u001b[37m\u001b[0m \u001b[1m0s\u001b[0m 7s/step - accuracy: 0.9845 - loss: 0.0460 - precision: 0.9923 - recall: 0.9598\n",
      "Epoch 35: val_loss improved from 0.00000 to 0.00000, saving model to ./models/Baru/MobileNetV2-RGB.keras\n",
      "\u001b[1m20/20\u001b[0m \u001b[32m━━━━━━━━━━━━━━━━━━━━\u001b[0m\u001b[37m\u001b[0m \u001b[1m149s\u001b[0m 7s/step - accuracy: 0.9846 - loss: 0.0457 - precision: 0.9924 - recall: 0.9600 - val_accuracy: 1.0000 - val_loss: 5.8280e-08 - val_precision: 1.0000 - val_recall: 1.0000\n",
      "Epoch 36/50\n",
      "\u001b[1m20/20\u001b[0m \u001b[32m━━━━━━━━━━━━━━━━━━━━\u001b[0m\u001b[37m\u001b[0m \u001b[1m0s\u001b[0m 7s/step - accuracy: 0.9866 - loss: 0.0407 - precision: 0.9975 - recall: 0.9655\n",
      "Epoch 36: val_loss did not improve from 0.00000\n",
      "\u001b[1m20/20\u001b[0m \u001b[32m━━━━━━━━━━━━━━━━━━━━\u001b[0m\u001b[37m\u001b[0m \u001b[1m149s\u001b[0m 7s/step - accuracy: 0.9867 - loss: 0.0404 - precision: 0.9975 - recall: 0.9658 - val_accuracy: 1.0000 - val_loss: 6.6182e-06 - val_precision: 1.0000 - val_recall: 1.0000\n",
      "Epoch 37/50\n",
      "\u001b[1m20/20\u001b[0m \u001b[32m━━━━━━━━━━━━━━━━━━━━\u001b[0m\u001b[37m\u001b[0m \u001b[1m0s\u001b[0m 7s/step - accuracy: 0.9917 - loss: 0.0408 - precision: 0.9984 - recall: 0.9689\n",
      "Epoch 37: val_loss did not improve from 0.00000\n",
      "\u001b[1m20/20\u001b[0m \u001b[32m━━━━━━━━━━━━━━━━━━━━\u001b[0m\u001b[37m\u001b[0m \u001b[1m149s\u001b[0m 7s/step - accuracy: 0.9917 - loss: 0.0411 - precision: 0.9984 - recall: 0.9688 - val_accuracy: 1.0000 - val_loss: 3.8926e-06 - val_precision: 1.0000 - val_recall: 1.0000\n",
      "Epoch 38/50\n",
      "\u001b[1m20/20\u001b[0m \u001b[32m━━━━━━━━━━━━━━━━━━━━\u001b[0m\u001b[37m\u001b[0m \u001b[1m0s\u001b[0m 7s/step - accuracy: 0.9949 - loss: 0.0434 - precision: 0.9978 - recall: 0.9605\n",
      "Epoch 38: val_loss did not improve from 0.00000\n",
      "\u001b[1m20/20\u001b[0m \u001b[32m━━━━━━━━━━━━━━━━━━━━\u001b[0m\u001b[37m\u001b[0m \u001b[1m149s\u001b[0m 7s/step - accuracy: 0.9948 - loss: 0.0433 - precision: 0.9979 - recall: 0.9607 - val_accuracy: 1.0000 - val_loss: 1.3716e-05 - val_precision: 1.0000 - val_recall: 1.0000\n",
      "Epoch 39/50\n",
      "\u001b[1m20/20\u001b[0m \u001b[32m━━━━━━━━━━━━━━━━━━━━\u001b[0m\u001b[37m\u001b[0m \u001b[1m0s\u001b[0m 7s/step - accuracy: 0.9832 - loss: 0.0497 - precision: 0.9968 - recall: 0.9573\n",
      "Epoch 39: val_loss did not improve from 0.00000\n",
      "\u001b[1m20/20\u001b[0m \u001b[32m━━━━━━━━━━━━━━━━━━━━\u001b[0m\u001b[37m\u001b[0m \u001b[1m149s\u001b[0m 7s/step - accuracy: 0.9832 - loss: 0.0496 - precision: 0.9968 - recall: 0.9573 - val_accuracy: 1.0000 - val_loss: 0.0020 - val_precision: 1.0000 - val_recall: 1.0000\n",
      "Epoch 40/50\n",
      "\u001b[1m20/20\u001b[0m \u001b[32m━━━━━━━━━━━━━━━━━━━━\u001b[0m\u001b[37m\u001b[0m \u001b[1m0s\u001b[0m 7s/step - accuracy: 0.9871 - loss: 0.0476 - precision: 0.9978 - recall: 0.9615\n",
      "Epoch 40: val_loss did not improve from 0.00000\n",
      "\u001b[1m20/20\u001b[0m \u001b[32m━━━━━━━━━━━━━━━━━━━━\u001b[0m\u001b[37m\u001b[0m \u001b[1m149s\u001b[0m 7s/step - accuracy: 0.9871 - loss: 0.0476 - precision: 0.9978 - recall: 0.9614 - val_accuracy: 1.0000 - val_loss: 1.4631e-04 - val_precision: 1.0000 - val_recall: 1.0000\n",
      "Epoch 41/50\n",
      "\u001b[1m20/20\u001b[0m \u001b[32m━━━━━━━━━━━━━━━━━━━━\u001b[0m\u001b[37m\u001b[0m \u001b[1m0s\u001b[0m 7s/step - accuracy: 0.9904 - loss: 0.0316 - precision: 0.9978 - recall: 0.9712\n",
      "Epoch 41: val_loss did not improve from 0.00000\n",
      "\u001b[1m20/20\u001b[0m \u001b[32m━━━━━━━━━━━━━━━━━━━━\u001b[0m\u001b[37m\u001b[0m \u001b[1m149s\u001b[0m 7s/step - accuracy: 0.9903 - loss: 0.0317 - precision: 0.9978 - recall: 0.9712 - val_accuracy: 1.0000 - val_loss: 4.5894e-05 - val_precision: 1.0000 - val_recall: 1.0000\n",
      "Epoch 42/50\n",
      "\u001b[1m20/20\u001b[0m \u001b[32m━━━━━━━━━━━━━━━━━━━━\u001b[0m\u001b[37m\u001b[0m \u001b[1m0s\u001b[0m 7s/step - accuracy: 0.9817 - loss: 0.0515 - precision: 0.9972 - recall: 0.9531\n",
      "Epoch 42: val_loss did not improve from 0.00000\n",
      "\u001b[1m20/20\u001b[0m \u001b[32m━━━━━━━━━━━━━━━━━━━━\u001b[0m\u001b[37m\u001b[0m \u001b[1m149s\u001b[0m 7s/step - accuracy: 0.9818 - loss: 0.0511 - precision: 0.9972 - recall: 0.9535 - val_accuracy: 1.0000 - val_loss: 3.1977e-07 - val_precision: 1.0000 - val_recall: 1.0000\n",
      "Epoch 43/50\n",
      "\u001b[1m20/20\u001b[0m \u001b[32m━━━━━━━━━━━━━━━━━━━━\u001b[0m\u001b[37m\u001b[0m \u001b[1m0s\u001b[0m 7s/step - accuracy: 0.9953 - loss: 0.0267 - precision: 0.9999 - recall: 0.9763\n",
      "Epoch 43: val_loss did not improve from 0.00000\n",
      "\u001b[1m20/20\u001b[0m \u001b[32m━━━━━━━━━━━━━━━━━━━━\u001b[0m\u001b[37m\u001b[0m \u001b[1m149s\u001b[0m 7s/step - accuracy: 0.9952 - loss: 0.0269 - precision: 0.9998 - recall: 0.9761 - val_accuracy: 1.0000 - val_loss: 4.4729e-07 - val_precision: 1.0000 - val_recall: 1.0000\n",
      "Epoch 44/50\n",
      "\u001b[1m20/20\u001b[0m \u001b[32m━━━━━━━━━━━━━━━━━━━━\u001b[0m\u001b[37m\u001b[0m \u001b[1m0s\u001b[0m 7s/step - accuracy: 0.9971 - loss: 0.0275 - precision: 0.9989 - recall: 0.9750\n",
      "Epoch 44: val_loss did not improve from 0.00000\n",
      "\u001b[1m20/20\u001b[0m \u001b[32m━━━━━━━━━━━━━━━━━━━━\u001b[0m\u001b[37m\u001b[0m \u001b[1m149s\u001b[0m 7s/step - accuracy: 0.9970 - loss: 0.0277 - precision: 0.9988 - recall: 0.9749 - val_accuracy: 1.0000 - val_loss: 7.9539e-07 - val_precision: 1.0000 - val_recall: 1.0000\n",
      "Epoch 45/50\n",
      "\u001b[1m20/20\u001b[0m \u001b[32m━━━━━━━━━━━━━━━━━━━━\u001b[0m\u001b[37m\u001b[0m \u001b[1m0s\u001b[0m 7s/step - accuracy: 0.9923 - loss: 0.0259 - precision: 0.9983 - recall: 0.9764\n",
      "Epoch 45: val_loss did not improve from 0.00000\n",
      "\u001b[1m20/20\u001b[0m \u001b[32m━━━━━━━━━━━━━━━━━━━━\u001b[0m\u001b[37m\u001b[0m \u001b[1m149s\u001b[0m 7s/step - accuracy: 0.9921 - loss: 0.0263 - precision: 0.9982 - recall: 0.9761 - val_accuracy: 1.0000 - val_loss: 5.4037e-07 - val_precision: 1.0000 - val_recall: 1.0000\n",
      "Epoch 46/50\n",
      "\u001b[1m20/20\u001b[0m \u001b[32m━━━━━━━━━━━━━━━━━━━━\u001b[0m\u001b[37m\u001b[0m \u001b[1m0s\u001b[0m 7s/step - accuracy: 0.9910 - loss: 0.0419 - precision: 0.9978 - recall: 0.9640\n",
      "Epoch 46: val_loss did not improve from 0.00000\n",
      "\u001b[1m20/20\u001b[0m \u001b[32m━━━━━━━━━━━━━━━━━━━━\u001b[0m\u001b[37m\u001b[0m \u001b[1m149s\u001b[0m 7s/step - accuracy: 0.9910 - loss: 0.0419 - precision: 0.9978 - recall: 0.9639 - val_accuracy: 1.0000 - val_loss: 7.4127e-04 - val_precision: 1.0000 - val_recall: 1.0000\n",
      "Epoch 47/50\n",
      "\u001b[1m20/20\u001b[0m \u001b[32m━━━━━━━━━━━━━━━━━━━━\u001b[0m\u001b[37m\u001b[0m \u001b[1m0s\u001b[0m 7s/step - accuracy: 0.9903 - loss: 0.1165 - precision: 0.9956 - recall: 0.9670\n",
      "Epoch 47: val_loss did not improve from 0.00000\n",
      "\u001b[1m20/20\u001b[0m \u001b[32m━━━━━━━━━━━━━━━━━━━━\u001b[0m\u001b[37m\u001b[0m \u001b[1m149s\u001b[0m 7s/step - accuracy: 0.9902 - loss: 0.1152 - precision: 0.9955 - recall: 0.9666 - val_accuracy: 0.9556 - val_loss: 0.1417 - val_precision: 0.9643 - val_recall: 0.9429\n",
      "Epoch 48/50\n",
      "\u001b[1m20/20\u001b[0m \u001b[32m━━━━━━━━━━━━━━━━━━━━\u001b[0m\u001b[37m\u001b[0m \u001b[1m0s\u001b[0m 7s/step - accuracy: 0.9888 - loss: 0.0323 - precision: 0.9994 - recall: 0.9715\n",
      "Epoch 48: val_loss did not improve from 0.00000\n",
      "\u001b[1m20/20\u001b[0m \u001b[32m━━━━━━━━━━━━━━━━━━━━\u001b[0m\u001b[37m\u001b[0m \u001b[1m149s\u001b[0m 7s/step - accuracy: 0.9889 - loss: 0.0325 - precision: 0.9994 - recall: 0.9713 - val_accuracy: 0.9905 - val_loss: 0.0201 - val_precision: 0.9936 - val_recall: 0.9873\n",
      "Epoch 49/50\n",
      "\u001b[1m20/20\u001b[0m \u001b[32m━━━━━━━━━━━━━━━━━━━━\u001b[0m\u001b[37m\u001b[0m \u001b[1m0s\u001b[0m 7s/step - accuracy: 0.9868 - loss: 0.1113 - precision: 0.9949 - recall: 0.9572\n",
      "Epoch 49: val_loss did not improve from 0.00000\n",
      "\u001b[1m20/20\u001b[0m \u001b[32m━━━━━━━━━━━━━━━━━━━━\u001b[0m\u001b[37m\u001b[0m \u001b[1m149s\u001b[0m 7s/step - accuracy: 0.9868 - loss: 0.1095 - precision: 0.9949 - recall: 0.9575 - val_accuracy: 0.9937 - val_loss: 0.0188 - val_precision: 0.9937 - val_recall: 0.9937\n",
      "Epoch 50/50\n",
      "\u001b[1m20/20\u001b[0m \u001b[32m━━━━━━━━━━━━━━━━━━━━\u001b[0m\u001b[37m\u001b[0m \u001b[1m0s\u001b[0m 7s/step - accuracy: 0.9874 - loss: 0.0387 - precision: 0.9995 - recall: 0.9656\n",
      "Epoch 50: val_loss did not improve from 0.00000\n",
      "\u001b[1m20/20\u001b[0m \u001b[32m━━━━━━━━━━━━━━━━━━━━\u001b[0m\u001b[37m\u001b[0m \u001b[1m149s\u001b[0m 7s/step - accuracy: 0.9872 - loss: 0.0390 - precision: 0.9994 - recall: 0.9654 - val_accuracy: 0.9937 - val_loss: 0.0279 - val_precision: 0.9936 - val_recall: 0.9905\n"
     ]
    },
    {
     "name": "stderr",
     "output_type": "stream",
     "text": [
      "WARNING:absl:You are saving your model as an HDF5 file via `model.save()` or `keras.saving.save_model(model)`. This file format is considered legacy. We recommend using instead the native Keras format, e.g. `model.save('my_model.keras')` or `keras.saving.save_model(model, 'my_model.keras')`. \n"
     ]
    }
   ],
   "source": [
    "# Checkpoint\n",
    "filepath = \"./models/Baru/MobileNetV2-RGB.keras\"\n",
    "checkpoint = ModelCheckpoint(filepath, monitor='val_loss', mode='min', save_best_only=True, verbose=1)\n",
    "callback_list = [checkpoint]\n",
    "\n",
    "# Train the model\n",
    "history = model.fit(train_generator,\n",
    "                    validation_data=validation_generator,\n",
    "                    epochs=50,\n",
    "                    callbacks=callback_list)\n",
    "\n",
    "# Save the final model\n",
    "model.save(\"./models/Baru/MobileNetV2-RGB.h5\")"
   ]
  },
  {
   "cell_type": "code",
   "execution_count": 7,
   "metadata": {},
   "outputs": [
    {
     "data": {
      "image/png": "[encoded data removed]",
      "text/plain": [
       "<Figure size 1008x432 with 2 Axes>"
      ]
     },
     "metadata": {
      "needs_background": "light"
     },
     "output_type": "display_data"
    }
   ],
   "source": [
    "# Plotting\n",
    "loss = history.history['loss']\n",
    "val_loss = history.history['val_loss']\n",
    "acc = history.history['accuracy']\n",
    "val_acc = history.history['val_accuracy']\n",
    "epochs = range(1, len(loss) + 1)\n",
    "\n",
    "fig, (ax1, ax2) = plt.subplots(1, 2, figsize=(14, 6))\n",
    "\n",
    "# Plotting Training and Validation Loss\n",
    "ax1.plot(epochs, loss, 'y', label='Training loss')\n",
    "ax1.plot(epochs, val_loss, 'r', label='Validation loss')\n",
    "ax1.set_title('Training and Validation Loss')\n",
    "ax1.set_xlabel('Epochs')\n",
    "ax1.set_ylabel('Loss')\n",
    "ax1.legend()\n",
    "\n",
    "# Plotting Training and Validation Accuracy\n",
    "ax2.plot(epochs, acc, 'y', label='Training accuracy')\n",
    "ax2.plot(epochs, val_acc, 'r', label='Validation accuracy')\n",
    "ax2.set_title('Training and Validation Accuracy')\n",
    "ax2.set_xlabel('Epochs')\n",
    "ax2.set_ylabel('Accuracy')\n",
    "ax2.legend()\n",
    "\n",
    "plt.show()"
   ]
  }
 ],
 "metadata": {
  "kernelspec": {
   "display_name": "Python 3",
   "language": "python",
   "name": "python3"
  },
  "language_info": {
   "codemirror_mode": {
    "name": "ipython",
    "version": 3
   },
   "file_extension": ".py",
   "mimetype": "text/x-python",
   "name": "python",
   "nbconvert_exporter": "python",
   "pygments_lexer": "ipython3",
   "version": "3.9.2"
  }
 },
 "nbformat": 4,
 "nbformat_minor": 2
}
