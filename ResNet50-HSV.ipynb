{
 "cells": [
  {
   "cell_type": "code",
   "execution_count": 1,
   "metadata": {},
   "outputs": [],
   "source": [
    "import numpy as np\n",
    "import matplotlib.pyplot as plt\n",
    "import tensorflow as tf\n",
    "from tensorflow.keras.preprocessing.image import ImageDataGenerator\n",
    "from tensorflow.keras.applications import ResNet50\n",
    "from tensorflow.keras.layers import Dense, Flatten, Dropout\n",
    "from tensorflow.keras.models import Sequential\n",
    "from tensorflow.keras.callbacks import ModelCheckpoint"
   ]
  },
  {
   "cell_type": "code",
   "execution_count": 2,
   "metadata": {},
   "outputs": [],
   "source": [
    "# Path ke direktori dataset\n",
    "train_dir = \"./dataset/hsv_masking/train\"\n",
    "validation_dir = \"./dataset/rgb/val\""
   ]
  },
  {
   "cell_type": "code",
   "execution_count": 3,
   "metadata": {},
   "outputs": [
    {
     "name": "stdout",
     "output_type": "stream",
     "text": [
      "Found 1252 images belonging to 3 classes.\n",
      "Found 315 images belonging to 3 classes.\n"
     ]
    }
   ],
   "source": [
    "# Parameter augmentasi gambar\n",
    "train_datagen = ImageDataGenerator(\n",
    "    rescale=1.0 / 255,\n",
    "    rotation_range=40,\n",
    "    width_shift_range=0.2,\n",
    "    height_shift_range=0.2,\n",
    "    shear_range=0.2,\n",
    "    zoom_range=0.2,\n",
    "    horizontal_flip=True,\n",
    "    fill_mode='nearest'\n",
    ")\n",
    "\n",
    "test_datagen = ImageDataGenerator(rescale=1.0 / 255)\n",
    "\n",
    "# Load data latih\n",
    "train_generator = train_datagen.flow_from_directory(\n",
    "    train_dir,\n",
    "    target_size=(300, 300),\n",
    "    batch_size=64,\n",
    "    class_mode='categorical'\n",
    ")\n",
    "\n",
    "# Load data validasi\n",
    "validation_generator = test_datagen.flow_from_directory(\n",
    "    validation_dir,\n",
    "    target_size=(300, 300),\n",
    "    batch_size=64,\n",
    "    class_mode='categorical'\n",
    ")"
   ]
  },
  {
   "cell_type": "code",
   "execution_count": 4,
   "metadata": {},
   "outputs": [
    {
     "data": {
      "text/html": [
       "<pre style=\"white-space:pre;overflow-x:auto;line-height:normal;font-family:Menlo,'DejaVu Sans Mono',consolas,'Courier New',monospace\"><span style=\"font-weight: bold\">Model: \"sequential\"</span>\n",
       "</pre>\n"
      ],
      "text/plain": [
       "\u001b[1mModel: \"sequential\"\u001b[0m\n"
      ]
     },
     "metadata": {},
     "output_type": "display_data"
    },
    {
     "data": {
      "text/html": [
       "<pre style=\"white-space:pre;overflow-x:auto;line-height:normal;font-family:Menlo,'DejaVu Sans Mono',consolas,'Courier New',monospace\">┏━━━━━━━━━━━━━━━━━━━━━━━━━━━━━━━━━┳━━━━━━━━━━━━━━━━━━━━━━━━┳━━━━━━━━━━━━━━━┓\n",
       "┃<span style=\"font-weight: bold\"> Layer (type)                    </span>┃<span style=\"font-weight: bold\"> Output Shape           </span>┃<span style=\"font-weight: bold\">       Param # </span>┃\n",
       "┡━━━━━━━━━━━━━━━━━━━━━━━━━━━━━━━━━╇━━━━━━━━━━━━━━━━━━━━━━━━╇━━━━━━━━━━━━━━━┩\n",
       "│ resnet50 (<span style=\"color: #0087ff; text-decoration-color: #0087ff\">Functional</span>)           │ ?                      │    <span style=\"color: #00af00; text-decoration-color: #00af00\">23,587,712</span> │\n",
       "├─────────────────────────────────┼────────────────────────┼───────────────┤\n",
       "│ flatten (<span style=\"color: #0087ff; text-decoration-color: #0087ff\">Flatten</span>)               │ ?                      │   <span style=\"color: #00af00; text-decoration-color: #00af00\">0</span> (unbuilt) │\n",
       "├─────────────────────────────────┼────────────────────────┼───────────────┤\n",
       "│ dropout (<span style=\"color: #0087ff; text-decoration-color: #0087ff\">Dropout</span>)               │ ?                      │   <span style=\"color: #00af00; text-decoration-color: #00af00\">0</span> (unbuilt) │\n",
       "├─────────────────────────────────┼────────────────────────┼───────────────┤\n",
       "│ dense (<span style=\"color: #0087ff; text-decoration-color: #0087ff\">Dense</span>)                   │ ?                      │   <span style=\"color: #00af00; text-decoration-color: #00af00\">0</span> (unbuilt) │\n",
       "├─────────────────────────────────┼────────────────────────┼───────────────┤\n",
       "│ dropout_1 (<span style=\"color: #0087ff; text-decoration-color: #0087ff\">Dropout</span>)             │ ?                      │   <span style=\"color: #00af00; text-decoration-color: #00af00\">0</span> (unbuilt) │\n",
       "├─────────────────────────────────┼────────────────────────┼───────────────┤\n",
       "│ dense_1 (<span style=\"color: #0087ff; text-decoration-color: #0087ff\">Dense</span>)                 │ ?                      │   <span style=\"color: #00af00; text-decoration-color: #00af00\">0</span> (unbuilt) │\n",
       "└─────────────────────────────────┴────────────────────────┴───────────────┘\n",
       "</pre>\n"
      ],
      "text/plain": [
       "┏━━━━━━━━━━━━━━━━━━━━━━━━━━━━━━━━━┳━━━━━━━━━━━━━━━━━━━━━━━━┳━━━━━━━━━━━━━━━┓\n",
       "┃\u001b[1m \u001b[0m\u001b[1mLayer (type)                   \u001b[0m\u001b[1m \u001b[0m┃\u001b[1m \u001b[0m\u001b[1mOutput Shape          \u001b[0m\u001b[1m \u001b[0m┃\u001b[1m \u001b[0m\u001b[1m      Param #\u001b[0m\u001b[1m \u001b[0m┃\n",
       "┡━━━━━━━━━━━━━━━━━━━━━━━━━━━━━━━━━╇━━━━━━━━━━━━━━━━━━━━━━━━╇━━━━━━━━━━━━━━━┩\n",
       "│ resnet50 (\u001b[38;5;33mFunctional\u001b[0m)           │ ?                      │    \u001b[38;5;34m23,587,712\u001b[0m │\n",
       "├─────────────────────────────────┼────────────────────────┼───────────────┤\n",
       "│ flatten (\u001b[38;5;33mFlatten\u001b[0m)               │ ?                      │   \u001b[38;5;34m0\u001b[0m (unbuilt) │\n",
       "├─────────────────────────────────┼────────────────────────┼───────────────┤\n",
       "│ dropout (\u001b[38;5;33mDropout\u001b[0m)               │ ?                      │   \u001b[38;5;34m0\u001b[0m (unbuilt) │\n",
       "├─────────────────────────────────┼────────────────────────┼───────────────┤\n",
       "│ dense (\u001b[38;5;33mDense\u001b[0m)                   │ ?                      │   \u001b[38;5;34m0\u001b[0m (unbuilt) │\n",
       "├─────────────────────────────────┼────────────────────────┼───────────────┤\n",
       "│ dropout_1 (\u001b[38;5;33mDropout\u001b[0m)             │ ?                      │   \u001b[38;5;34m0\u001b[0m (unbuilt) │\n",
       "├─────────────────────────────────┼────────────────────────┼───────────────┤\n",
       "│ dense_1 (\u001b[38;5;33mDense\u001b[0m)                 │ ?                      │   \u001b[38;5;34m0\u001b[0m (unbuilt) │\n",
       "└─────────────────────────────────┴────────────────────────┴───────────────┘\n"
      ]
     },
     "metadata": {},
     "output_type": "display_data"
    },
    {
     "data": {
      "text/html": [
       "<pre style=\"white-space:pre;overflow-x:auto;line-height:normal;font-family:Menlo,'DejaVu Sans Mono',consolas,'Courier New',monospace\"><span style=\"font-weight: bold\"> Total params: </span><span style=\"color: #00af00; text-decoration-color: #00af00\">23,587,712</span> (89.98 MB)\n",
       "</pre>\n"
      ],
      "text/plain": [
       "\u001b[1m Total params: \u001b[0m\u001b[38;5;34m23,587,712\u001b[0m (89.98 MB)\n"
      ]
     },
     "metadata": {},
     "output_type": "display_data"
    },
    {
     "data": {
      "text/html": [
       "<pre style=\"white-space:pre;overflow-x:auto;line-height:normal;font-family:Menlo,'DejaVu Sans Mono',consolas,'Courier New',monospace\"><span style=\"font-weight: bold\"> Trainable params: </span><span style=\"color: #00af00; text-decoration-color: #00af00\">23,534,592</span> (89.78 MB)\n",
       "</pre>\n"
      ],
      "text/plain": [
       "\u001b[1m Trainable params: \u001b[0m\u001b[38;5;34m23,534,592\u001b[0m (89.78 MB)\n"
      ]
     },
     "metadata": {},
     "output_type": "display_data"
    },
    {
     "data": {
      "text/html": [
       "<pre style=\"white-space:pre;overflow-x:auto;line-height:normal;font-family:Menlo,'DejaVu Sans Mono',consolas,'Courier New',monospace\"><span style=\"font-weight: bold\"> Non-trainable params: </span><span style=\"color: #00af00; text-decoration-color: #00af00\">53,120</span> (207.50 KB)\n",
       "</pre>\n"
      ],
      "text/plain": [
       "\u001b[1m Non-trainable params: \u001b[0m\u001b[38;5;34m53,120\u001b[0m (207.50 KB)\n"
      ]
     },
     "metadata": {},
     "output_type": "display_data"
    }
   ],
   "source": [
    "# Define the model\n",
    "base_model = ResNet50(weights='imagenet', include_top=False, input_shape=(300, 300, 3))\n",
    "model = Sequential([\n",
    "    base_model,\n",
    "    Flatten(),\n",
    "    Dropout(0.5),\n",
    "    Dense(16, activation='relu'),\n",
    "    Dropout(0.5),\n",
    "    Dense(3, activation='softmax')\n",
    "])\n",
    "\n",
    "model.summary()\n",
    "\n",
    "# Compile the model\n",
    "model.compile(optimizer=tf.keras.optimizers.Adam(learning_rate=0.0001),\n",
    "              loss='categorical_crossentropy',\n",
    "              metrics=['accuracy', tf.keras.metrics.Precision(), tf.keras.metrics.Recall()])"
   ]
  },
  {
   "cell_type": "code",
   "execution_count": 5,
   "metadata": {},
   "outputs": [
    {
     "name": "stdout",
     "output_type": "stream",
     "text": [
      "Epoch 1/50\n"
     ]
    },
    {
     "name": "stderr",
     "output_type": "stream",
     "text": [
      "c:\\Users\\CATUR WARGA COMPUTER\\AppData\\Local\\Programs\\Python\\Python39\\lib\\site-packages\\keras\\src\\trainers\\data_adapters\\py_dataset_adapter.py:121: UserWarning: Your `PyDataset` class should call `super().__init__(**kwargs)` in its constructor. `**kwargs` can include `workers`, `use_multiprocessing`, `max_queue_size`. Do not pass these arguments to `fit()`, as they will be ignored.\n",
      "  self._warn_if_super_not_called()\n"
     ]
    },
    {
     "name": "stdout",
     "output_type": "stream",
     "text": [
      "\u001b[1m20/20\u001b[0m \u001b[32m━━━━━━━━━━━━━━━━━━━━\u001b[0m\u001b[37m\u001b[0m \u001b[1m0s\u001b[0m 19s/step - accuracy: 0.6405 - loss: 1.0817 - precision: 0.6836 - recall: 0.5528 \n",
      "Epoch 1: val_loss improved from inf to 1.55788, saving model to ./models/Baru/ResNet50-HSV.keras\n",
      "\u001b[1m20/20\u001b[0m \u001b[32m━━━━━━━━━━━━━━━━━━━━\u001b[0m\u001b[37m\u001b[0m \u001b[1m422s\u001b[0m 20s/step - accuracy: 0.6471 - loss: 1.0569 - precision: 0.6907 - recall: 0.5606 - val_accuracy: 0.3175 - val_loss: 1.5579 - val_precision: 0.1513 - val_recall: 0.0730\n",
      "Epoch 2/50\n",
      "\u001b[1m20/20\u001b[0m \u001b[32m━━━━━━━━━━━━━━━━━━━━\u001b[0m\u001b[37m\u001b[0m \u001b[1m0s\u001b[0m 17s/step - accuracy: 0.9436 - loss: 0.1680 - precision: 0.9577 - recall: 0.9180 \n",
      "Epoch 2: val_loss did not improve from 1.55788\n",
      "\u001b[1m20/20\u001b[0m \u001b[32m━━━━━━━━━━━━━━━━━━━━\u001b[0m\u001b[37m\u001b[0m \u001b[1m372s\u001b[0m 18s/step - accuracy: 0.9442 - loss: 0.1664 - precision: 0.9583 - recall: 0.9185 - val_accuracy: 0.3333 - val_loss: 3.8294 - val_precision: 0.3333 - val_recall: 0.3333\n",
      "Epoch 3/50\n",
      "\u001b[1m20/20\u001b[0m \u001b[32m━━━━━━━━━━━━━━━━━━━━\u001b[0m\u001b[37m\u001b[0m \u001b[1m0s\u001b[0m 18s/step - accuracy: 0.9671 - loss: 0.1051 - precision: 0.9822 - recall: 0.9402 \n",
      "Epoch 3: val_loss did not improve from 1.55788\n",
      "\u001b[1m20/20\u001b[0m \u001b[32m━━━━━━━━━━━━━━━━━━━━\u001b[0m\u001b[37m\u001b[0m \u001b[1m375s\u001b[0m 18s/step - accuracy: 0.9671 - loss: 0.1048 - precision: 0.9822 - recall: 0.9400 - val_accuracy: 0.3333 - val_loss: 3.6603 - val_precision: 0.3333 - val_recall: 0.3333\n",
      "Epoch 4/50\n",
      "\u001b[1m20/20\u001b[0m \u001b[32m━━━━━━━━━━━━━━━━━━━━\u001b[0m\u001b[37m\u001b[0m \u001b[1m0s\u001b[0m 18s/step - accuracy: 0.9683 - loss: 0.0936 - precision: 0.9809 - recall: 0.9314 \n",
      "Epoch 4: val_loss did not improve from 1.55788\n",
      "\u001b[1m20/20\u001b[0m \u001b[32m━━━━━━━━━━━━━━━━━━━━\u001b[0m\u001b[37m\u001b[0m \u001b[1m380s\u001b[0m 19s/step - accuracy: 0.9686 - loss: 0.0932 - precision: 0.9811 - recall: 0.9318 - val_accuracy: 0.3333 - val_loss: 3.3277 - val_precision: 0.3333 - val_recall: 0.3333\n",
      "Epoch 5/50\n",
      "\u001b[1m20/20\u001b[0m \u001b[32m━━━━━━━━━━━━━━━━━━━━\u001b[0m\u001b[37m\u001b[0m \u001b[1m0s\u001b[0m 17s/step - accuracy: 0.9716 - loss: 0.0793 - precision: 0.9805 - recall: 0.9394 \n",
      "Epoch 5: val_loss did not improve from 1.55788\n",
      "\u001b[1m20/20\u001b[0m \u001b[32m━━━━━━━━━━━━━━━━━━━━\u001b[0m\u001b[37m\u001b[0m \u001b[1m373s\u001b[0m 18s/step - accuracy: 0.9717 - loss: 0.0793 - precision: 0.9805 - recall: 0.9396 - val_accuracy: 0.3333 - val_loss: 6.2303 - val_precision: 0.3333 - val_recall: 0.3333\n",
      "Epoch 6/50\n",
      "\u001b[1m20/20\u001b[0m \u001b[32m━━━━━━━━━━━━━━━━━━━━\u001b[0m\u001b[37m\u001b[0m \u001b[1m0s\u001b[0m 18s/step - accuracy: 0.9700 - loss: 0.0899 - precision: 0.9796 - recall: 0.9483 \n",
      "Epoch 6: val_loss did not improve from 1.55788\n",
      "\u001b[1m20/20\u001b[0m \u001b[32m━━━━━━━━━━━━━━━━━━━━\u001b[0m\u001b[37m\u001b[0m \u001b[1m375s\u001b[0m 18s/step - accuracy: 0.9702 - loss: 0.0897 - precision: 0.9796 - recall: 0.9480 - val_accuracy: 0.1778 - val_loss: 3.7248 - val_precision: 0.1778 - val_recall: 0.1778\n",
      "Epoch 7/50\n",
      "\u001b[1m20/20\u001b[0m \u001b[32m━━━━━━━━━━━━━━━━━━━━\u001b[0m\u001b[37m\u001b[0m \u001b[1m0s\u001b[0m 17s/step - accuracy: 0.9789 - loss: 0.0747 - precision: 0.9884 - recall: 0.9382 \n",
      "Epoch 7: val_loss did not improve from 1.55788\n",
      "\u001b[1m20/20\u001b[0m \u001b[32m━━━━━━━━━━━━━━━━━━━━\u001b[0m\u001b[37m\u001b[0m \u001b[1m372s\u001b[0m 18s/step - accuracy: 0.9788 - loss: 0.0749 - precision: 0.9884 - recall: 0.9381 - val_accuracy: 0.3333 - val_loss: 4.9473 - val_precision: 0.3333 - val_recall: 0.3333\n",
      "Epoch 8/50\n",
      "\u001b[1m20/20\u001b[0m \u001b[32m━━━━━━━━━━━━━━━━━━━━\u001b[0m\u001b[37m\u001b[0m \u001b[1m0s\u001b[0m 17s/step - accuracy: 0.9836 - loss: 0.0735 - precision: 0.9927 - recall: 0.9450 \n",
      "Epoch 8: val_loss did not improve from 1.55788\n",
      "\u001b[1m20/20\u001b[0m \u001b[32m━━━━━━━━━━━━━━━━━━━━\u001b[0m\u001b[37m\u001b[0m \u001b[1m372s\u001b[0m 18s/step - accuracy: 0.9835 - loss: 0.0736 - precision: 0.9927 - recall: 0.9449 - val_accuracy: 0.3333 - val_loss: 6.0799 - val_precision: 0.3333 - val_recall: 0.3333\n",
      "Epoch 9/50\n",
      "\u001b[1m20/20\u001b[0m \u001b[32m━━━━━━━━━━━━━━━━━━━━\u001b[0m\u001b[37m\u001b[0m \u001b[1m0s\u001b[0m 17s/step - accuracy: 0.9772 - loss: 0.0618 - precision: 0.9872 - recall: 0.9507 \n",
      "Epoch 9: val_loss did not improve from 1.55788\n",
      "\u001b[1m20/20\u001b[0m \u001b[32m━━━━━━━━━━━━━━━━━━━━\u001b[0m\u001b[37m\u001b[0m \u001b[1m372s\u001b[0m 18s/step - accuracy: 0.9773 - loss: 0.0618 - precision: 0.9872 - recall: 0.9507 - val_accuracy: 0.3333 - val_loss: 4.7823 - val_precision: 0.3333 - val_recall: 0.3333\n",
      "Epoch 10/50\n",
      "\u001b[1m20/20\u001b[0m \u001b[32m━━━━━━━━━━━━━━━━━━━━\u001b[0m\u001b[37m\u001b[0m \u001b[1m0s\u001b[0m 17s/step - accuracy: 0.9775 - loss: 0.0614 - precision: 0.9888 - recall: 0.9481 \n",
      "Epoch 10: val_loss did not improve from 1.55788\n",
      "\u001b[1m20/20\u001b[0m \u001b[32m━━━━━━━━━━━━━━━━━━━━\u001b[0m\u001b[37m\u001b[0m \u001b[1m373s\u001b[0m 18s/step - accuracy: 0.9778 - loss: 0.0615 - precision: 0.9889 - recall: 0.9479 - val_accuracy: 0.3333 - val_loss: 6.9366 - val_precision: 0.3333 - val_recall: 0.3333\n",
      "Epoch 11/50\n",
      "\u001b[1m20/20\u001b[0m \u001b[32m━━━━━━━━━━━━━━━━━━━━\u001b[0m\u001b[37m\u001b[0m \u001b[1m0s\u001b[0m 17s/step - accuracy: 0.9742 - loss: 0.0943 - precision: 0.9756 - recall: 0.9209 \n",
      "Epoch 11: val_loss did not improve from 1.55788\n",
      "\u001b[1m20/20\u001b[0m \u001b[32m━━━━━━━━━━━━━━━━━━━━\u001b[0m\u001b[37m\u001b[0m \u001b[1m372s\u001b[0m 18s/step - accuracy: 0.9745 - loss: 0.0936 - precision: 0.9760 - recall: 0.9214 - val_accuracy: 0.3333 - val_loss: 3.0797 - val_precision: 0.3333 - val_recall: 0.3333\n",
      "Epoch 12/50\n",
      "\u001b[1m20/20\u001b[0m \u001b[32m━━━━━━━━━━━━━━━━━━━━\u001b[0m\u001b[37m\u001b[0m \u001b[1m0s\u001b[0m 18s/step - accuracy: 0.9788 - loss: 0.0792 - precision: 0.9870 - recall: 0.9360 \n",
      "Epoch 12: val_loss did not improve from 1.55788\n",
      "\u001b[1m20/20\u001b[0m \u001b[32m━━━━━━━━━━━━━━━━━━━━\u001b[0m\u001b[37m\u001b[0m \u001b[1m374s\u001b[0m 18s/step - accuracy: 0.9789 - loss: 0.0790 - precision: 0.9872 - recall: 0.9362 - val_accuracy: 0.3333 - val_loss: 5.4579 - val_precision: 0.3333 - val_recall: 0.3333\n",
      "Epoch 13/50\n",
      "\u001b[1m20/20\u001b[0m \u001b[32m━━━━━━━━━━━━━━━━━━━━\u001b[0m\u001b[37m\u001b[0m \u001b[1m0s\u001b[0m 17s/step - accuracy: 0.9804 - loss: 0.0770 - precision: 0.9861 - recall: 0.9313 \n",
      "Epoch 13: val_loss did not improve from 1.55788\n",
      "\u001b[1m20/20\u001b[0m \u001b[32m━━━━━━━━━━━━━━━━━━━━\u001b[0m\u001b[37m\u001b[0m \u001b[1m371s\u001b[0m 18s/step - accuracy: 0.9802 - loss: 0.0768 - precision: 0.9860 - recall: 0.9316 - val_accuracy: 0.3333 - val_loss: 4.1889 - val_precision: 0.3333 - val_recall: 0.3333\n",
      "Epoch 14/50\n",
      "\u001b[1m20/20\u001b[0m \u001b[32m━━━━━━━━━━━━━━━━━━━━\u001b[0m\u001b[37m\u001b[0m \u001b[1m0s\u001b[0m 17s/step - accuracy: 0.9727 - loss: 0.0729 - precision: 0.9829 - recall: 0.9340 \n",
      "Epoch 14: val_loss did not improve from 1.55788\n",
      "\u001b[1m20/20\u001b[0m \u001b[32m━━━━━━━━━━━━━━━━━━━━\u001b[0m\u001b[37m\u001b[0m \u001b[1m372s\u001b[0m 18s/step - accuracy: 0.9730 - loss: 0.0729 - precision: 0.9832 - recall: 0.9341 - val_accuracy: 0.3333 - val_loss: 3.4951 - val_precision: 0.3333 - val_recall: 0.3333\n",
      "Epoch 15/50\n",
      "\u001b[1m20/20\u001b[0m \u001b[32m━━━━━━━━━━━━━━━━━━━━\u001b[0m\u001b[37m\u001b[0m \u001b[1m0s\u001b[0m 17s/step - accuracy: 0.9833 - loss: 0.0712 - precision: 0.9901 - recall: 0.9344 \n",
      "Epoch 15: val_loss did not improve from 1.55788\n",
      "\u001b[1m20/20\u001b[0m \u001b[32m━━━━━━━━━━━━━━━━━━━━\u001b[0m\u001b[37m\u001b[0m \u001b[1m372s\u001b[0m 18s/step - accuracy: 0.9833 - loss: 0.0714 - precision: 0.9902 - recall: 0.9343 - val_accuracy: 0.3524 - val_loss: 2.9906 - val_precision: 0.3524 - val_recall: 0.3524\n",
      "Epoch 16/50\n",
      "\u001b[1m20/20\u001b[0m \u001b[32m━━━━━━━━━━━━━━━━━━━━\u001b[0m\u001b[37m\u001b[0m \u001b[1m0s\u001b[0m 17s/step - accuracy: 0.9848 - loss: 0.0567 - precision: 0.9925 - recall: 0.9509 \n",
      "Epoch 16: val_loss did not improve from 1.55788\n",
      "\u001b[1m20/20\u001b[0m \u001b[32m━━━━━━━━━━━━━━━━━━━━\u001b[0m\u001b[37m\u001b[0m \u001b[1m372s\u001b[0m 18s/step - accuracy: 0.9846 - loss: 0.0574 - precision: 0.9924 - recall: 0.9502 - val_accuracy: 0.3937 - val_loss: 2.6742 - val_precision: 0.3937 - val_recall: 0.3937\n",
      "Epoch 17/50\n",
      "\u001b[1m20/20\u001b[0m \u001b[32m━━━━━━━━━━━━━━━━━━━━\u001b[0m\u001b[37m\u001b[0m \u001b[1m0s\u001b[0m 17s/step - accuracy: 0.9755 - loss: 0.1008 - precision: 0.9857 - recall: 0.9226 \n",
      "Epoch 17: val_loss did not improve from 1.55788\n",
      "\u001b[1m20/20\u001b[0m \u001b[32m━━━━━━━━━━━━━━━━━━━━\u001b[0m\u001b[37m\u001b[0m \u001b[1m373s\u001b[0m 18s/step - accuracy: 0.9756 - loss: 0.1006 - precision: 0.9856 - recall: 0.9228 - val_accuracy: 0.3333 - val_loss: 3.5284 - val_precision: 0.3333 - val_recall: 0.3333\n",
      "Epoch 18/50\n",
      "\u001b[1m20/20\u001b[0m \u001b[32m━━━━━━━━━━━━━━━━━━━━\u001b[0m\u001b[37m\u001b[0m \u001b[1m0s\u001b[0m 17s/step - accuracy: 0.9843 - loss: 0.0817 - precision: 0.9936 - recall: 0.9272 \n",
      "Epoch 18: val_loss did not improve from 1.55788\n",
      "\u001b[1m20/20\u001b[0m \u001b[32m━━━━━━━━━━━━━━━━━━━━\u001b[0m\u001b[37m\u001b[0m \u001b[1m371s\u001b[0m 18s/step - accuracy: 0.9844 - loss: 0.0813 - precision: 0.9937 - recall: 0.9276 - val_accuracy: 0.4222 - val_loss: 2.0964 - val_precision: 0.4249 - val_recall: 0.4222\n",
      "Epoch 19/50\n",
      "\u001b[1m20/20\u001b[0m \u001b[32m━━━━━━━━━━━━━━━━━━━━\u001b[0m\u001b[37m\u001b[0m \u001b[1m0s\u001b[0m 17s/step - accuracy: 0.9792 - loss: 0.0733 - precision: 0.9933 - recall: 0.9386 \n",
      "Epoch 19: val_loss did not improve from 1.55788\n",
      "\u001b[1m20/20\u001b[0m \u001b[32m━━━━━━━━━━━━━━━━━━━━\u001b[0m\u001b[37m\u001b[0m \u001b[1m373s\u001b[0m 18s/step - accuracy: 0.9793 - loss: 0.0733 - precision: 0.9932 - recall: 0.9387 - val_accuracy: 0.4127 - val_loss: 1.8972 - val_precision: 0.4188 - val_recall: 0.4095\n",
      "Epoch 20/50\n",
      "\u001b[1m20/20\u001b[0m \u001b[32m━━━━━━━━━━━━━━━━━━━━\u001b[0m\u001b[37m\u001b[0m \u001b[1m0s\u001b[0m 17s/step - accuracy: 0.9860 - loss: 0.0638 - precision: 0.9938 - recall: 0.9519 \n",
      "Epoch 20: val_loss did not improve from 1.55788\n",
      "\u001b[1m20/20\u001b[0m \u001b[32m━━━━━━━━━━━━━━━━━━━━\u001b[0m\u001b[37m\u001b[0m \u001b[1m371s\u001b[0m 18s/step - accuracy: 0.9859 - loss: 0.0642 - precision: 0.9938 - recall: 0.9514 - val_accuracy: 0.3365 - val_loss: 2.4649 - val_precision: 0.3376 - val_recall: 0.3365\n",
      "Epoch 21/50\n",
      "\u001b[1m20/20\u001b[0m \u001b[32m━━━━━━━━━━━━━━━━━━━━\u001b[0m\u001b[37m\u001b[0m \u001b[1m0s\u001b[0m 17s/step - accuracy: 0.9871 - loss: 0.0747 - precision: 0.9948 - recall: 0.9373 \n",
      "Epoch 21: val_loss did not improve from 1.55788\n",
      "\u001b[1m20/20\u001b[0m \u001b[32m━━━━━━━━━━━━━━━━━━━━\u001b[0m\u001b[37m\u001b[0m \u001b[1m373s\u001b[0m 18s/step - accuracy: 0.9872 - loss: 0.0742 - precision: 0.9948 - recall: 0.9378 - val_accuracy: 0.3619 - val_loss: 1.9102 - val_precision: 0.3631 - val_recall: 0.3619\n",
      "Epoch 22/50\n",
      "\u001b[1m20/20\u001b[0m \u001b[32m━━━━━━━━━━━━━━━━━━━━\u001b[0m\u001b[37m\u001b[0m \u001b[1m0s\u001b[0m 17s/step - accuracy: 0.9918 - loss: 0.0585 - precision: 0.9983 - recall: 0.9499 \n",
      "Epoch 22: val_loss did not improve from 1.55788\n",
      "\u001b[1m20/20\u001b[0m \u001b[32m━━━━━━━━━━━━━━━━━━━━\u001b[0m\u001b[37m\u001b[0m \u001b[1m371s\u001b[0m 18s/step - accuracy: 0.9917 - loss: 0.0587 - precision: 0.9982 - recall: 0.9498 - val_accuracy: 0.3714 - val_loss: 2.2011 - val_precision: 0.3714 - val_recall: 0.3714\n",
      "Epoch 23/50\n",
      "\u001b[1m20/20\u001b[0m \u001b[32m━━━━━━━━━━━━━━━━━━━━\u001b[0m\u001b[37m\u001b[0m \u001b[1m0s\u001b[0m 17s/step - accuracy: 0.9826 - loss: 0.0530 - precision: 0.9941 - recall: 0.9553 \n",
      "Epoch 23: val_loss did not improve from 1.55788\n",
      "\u001b[1m20/20\u001b[0m \u001b[32m━━━━━━━━━━━━━━━━━━━━\u001b[0m\u001b[37m\u001b[0m \u001b[1m372s\u001b[0m 18s/step - accuracy: 0.9828 - loss: 0.0532 - precision: 0.9941 - recall: 0.9552 - val_accuracy: 0.4000 - val_loss: 1.9010 - val_precision: 0.4013 - val_recall: 0.4000\n",
      "Epoch 24/50\n",
      "\u001b[1m20/20\u001b[0m \u001b[32m━━━━━━━━━━━━━━━━━━━━\u001b[0m\u001b[37m\u001b[0m \u001b[1m0s\u001b[0m 17s/step - accuracy: 0.9840 - loss: 0.0648 - precision: 0.9920 - recall: 0.9422 \n",
      "Epoch 24: val_loss did not improve from 1.55788\n",
      "\u001b[1m20/20\u001b[0m \u001b[32m━━━━━━━━━━━━━━━━━━━━\u001b[0m\u001b[37m\u001b[0m \u001b[1m372s\u001b[0m 18s/step - accuracy: 0.9839 - loss: 0.0651 - precision: 0.9920 - recall: 0.9421 - val_accuracy: 0.3460 - val_loss: 1.8123 - val_precision: 0.3471 - val_recall: 0.3460\n",
      "Epoch 25/50\n",
      "\u001b[1m20/20\u001b[0m \u001b[32m━━━━━━━━━━━━━━━━━━━━\u001b[0m\u001b[37m\u001b[0m \u001b[1m0s\u001b[0m 17s/step - accuracy: 0.9783 - loss: 0.0996 - precision: 0.9899 - recall: 0.9282 \n",
      "Epoch 25: val_loss improved from 1.55788 to 0.76357, saving model to ./models/Baru/ResNet50-HSV.keras\n",
      "\u001b[1m20/20\u001b[0m \u001b[32m━━━━━━━━━━━━━━━━━━━━\u001b[0m\u001b[37m\u001b[0m \u001b[1m373s\u001b[0m 18s/step - accuracy: 0.9782 - loss: 0.0998 - precision: 0.9897 - recall: 0.9284 - val_accuracy: 0.4698 - val_loss: 0.7636 - val_precision: 0.4754 - val_recall: 0.4603\n",
      "Epoch 26/50\n",
      "\u001b[1m20/20\u001b[0m \u001b[32m━━━━━━━━━━━━━━━━━━━━\u001b[0m\u001b[37m\u001b[0m \u001b[1m0s\u001b[0m 17s/step - accuracy: 0.9809 - loss: 0.0794 - precision: 0.9959 - recall: 0.9351 \n",
      "Epoch 26: val_loss did not improve from 0.76357\n",
      "\u001b[1m20/20\u001b[0m \u001b[32m━━━━━━━━━━━━━━━━━━━━\u001b[0m\u001b[37m\u001b[0m \u001b[1m372s\u001b[0m 18s/step - accuracy: 0.9809 - loss: 0.0793 - precision: 0.9959 - recall: 0.9351 - val_accuracy: 0.4413 - val_loss: 1.9372 - val_precision: 0.4419 - val_recall: 0.4222\n",
      "Epoch 27/50\n",
      "\u001b[1m20/20\u001b[0m \u001b[32m━━━━━━━━━━━━━━━━━━━━\u001b[0m\u001b[37m\u001b[0m \u001b[1m0s\u001b[0m 17s/step - accuracy: 0.9838 - loss: 0.0668 - precision: 0.9952 - recall: 0.9394 \n",
      "Epoch 27: val_loss did not improve from 0.76357\n",
      "\u001b[1m20/20\u001b[0m \u001b[32m━━━━━━━━━━━━━━━━━━━━\u001b[0m\u001b[37m\u001b[0m \u001b[1m372s\u001b[0m 18s/step - accuracy: 0.9838 - loss: 0.0670 - precision: 0.9952 - recall: 0.9393 - val_accuracy: 0.5905 - val_loss: 0.8859 - val_precision: 0.5896 - val_recall: 0.5746\n",
      "Epoch 28/50\n",
      "\u001b[1m20/20\u001b[0m \u001b[32m━━━━━━━━━━━━━━━━━━━━\u001b[0m\u001b[37m\u001b[0m \u001b[1m0s\u001b[0m 17s/step - accuracy: 0.9894 - loss: 0.0633 - precision: 0.9963 - recall: 0.9425 \n",
      "Epoch 28: val_loss improved from 0.76357 to 0.45253, saving model to ./models/Baru/ResNet50-HSV.keras\n",
      "\u001b[1m20/20\u001b[0m \u001b[32m━━━━━━━━━━━━━━━━━━━━\u001b[0m\u001b[37m\u001b[0m \u001b[1m375s\u001b[0m 18s/step - accuracy: 0.9894 - loss: 0.0633 - precision: 0.9963 - recall: 0.9426 - val_accuracy: 0.7587 - val_loss: 0.4525 - val_precision: 0.7588 - val_recall: 0.7492\n",
      "Epoch 29/50\n",
      "\u001b[1m20/20\u001b[0m \u001b[32m━━━━━━━━━━━━━━━━━━━━\u001b[0m\u001b[37m\u001b[0m \u001b[1m0s\u001b[0m 18s/step - accuracy: 0.9920 - loss: 0.0503 - precision: 0.9952 - recall: 0.9544 \n",
      "Epoch 29: val_loss improved from 0.45253 to 0.33241, saving model to ./models/Baru/ResNet50-HSV.keras\n",
      "\u001b[1m20/20\u001b[0m \u001b[32m━━━━━━━━━━━━━━━━━━━━\u001b[0m\u001b[37m\u001b[0m \u001b[1m377s\u001b[0m 19s/step - accuracy: 0.9919 - loss: 0.0506 - precision: 0.9953 - recall: 0.9541 - val_accuracy: 0.8317 - val_loss: 0.3324 - val_precision: 0.8424 - val_recall: 0.8317\n",
      "Epoch 30/50\n",
      "\u001b[1m20/20\u001b[0m \u001b[32m━━━━━━━━━━━━━━━━━━━━\u001b[0m\u001b[37m\u001b[0m \u001b[1m0s\u001b[0m 17s/step - accuracy: 0.9939 - loss: 0.0552 - precision: 0.9960 - recall: 0.9506 \n",
      "Epoch 30: val_loss improved from 0.33241 to 0.28792, saving model to ./models/Baru/ResNet50-HSV.keras\n",
      "\u001b[1m20/20\u001b[0m \u001b[32m━━━━━━━━━━━━━━━━━━━━\u001b[0m\u001b[37m\u001b[0m \u001b[1m375s\u001b[0m 18s/step - accuracy: 0.9938 - loss: 0.0554 - precision: 0.9960 - recall: 0.9504 - val_accuracy: 0.8603 - val_loss: 0.2879 - val_precision: 0.8673 - val_recall: 0.8508\n",
      "Epoch 31/50\n",
      "\u001b[1m20/20\u001b[0m \u001b[32m━━━━━━━━━━━━━━━━━━━━\u001b[0m\u001b[37m\u001b[0m \u001b[1m0s\u001b[0m 17s/step - accuracy: 0.9857 - loss: 0.0681 - precision: 0.9984 - recall: 0.9369 \n",
      "Epoch 31: val_loss did not improve from 0.28792\n",
      "\u001b[1m20/20\u001b[0m \u001b[32m━━━━━━━━━━━━━━━━━━━━\u001b[0m\u001b[37m\u001b[0m \u001b[1m371s\u001b[0m 18s/step - accuracy: 0.9857 - loss: 0.0681 - precision: 0.9983 - recall: 0.9369 - val_accuracy: 0.8254 - val_loss: 0.3397 - val_precision: 0.8328 - val_recall: 0.8222\n",
      "Epoch 32/50\n",
      "\u001b[1m20/20\u001b[0m \u001b[32m━━━━━━━━━━━━━━━━━━━━\u001b[0m\u001b[37m\u001b[0m \u001b[1m0s\u001b[0m 17s/step - accuracy: 0.9826 - loss: 0.0644 - precision: 0.9968 - recall: 0.9424 \n",
      "Epoch 32: val_loss improved from 0.28792 to 0.11835, saving model to ./models/Baru/ResNet50-HSV.keras\n",
      "\u001b[1m20/20\u001b[0m \u001b[32m━━━━━━━━━━━━━━━━━━━━\u001b[0m\u001b[37m\u001b[0m \u001b[1m376s\u001b[0m 18s/step - accuracy: 0.9829 - loss: 0.0642 - precision: 0.9969 - recall: 0.9425 - val_accuracy: 0.9556 - val_loss: 0.1183 - val_precision: 0.9614 - val_recall: 0.9492\n",
      "Epoch 33/50\n",
      "\u001b[1m20/20\u001b[0m \u001b[32m━━━━━━━━━━━━━━━━━━━━\u001b[0m\u001b[37m\u001b[0m \u001b[1m0s\u001b[0m 17s/step - accuracy: 0.9888 - loss: 0.0616 - precision: 0.9970 - recall: 0.9426 \n",
      "Epoch 33: val_loss did not improve from 0.11835\n",
      "\u001b[1m20/20\u001b[0m \u001b[32m━━━━━━━━━━━━━━━━━━━━\u001b[0m\u001b[37m\u001b[0m \u001b[1m373s\u001b[0m 18s/step - accuracy: 0.9886 - loss: 0.0618 - precision: 0.9969 - recall: 0.9424 - val_accuracy: 0.9333 - val_loss: 0.1827 - val_precision: 0.9421 - val_recall: 0.9302\n",
      "Epoch 34/50\n",
      "\u001b[1m20/20\u001b[0m \u001b[32m━━━━━━━━━━━━━━━━━━━━\u001b[0m\u001b[37m\u001b[0m \u001b[1m0s\u001b[0m 18s/step - accuracy: 0.9885 - loss: 0.0633 - precision: 0.9985 - recall: 0.9443 \n",
      "Epoch 34: val_loss did not improve from 0.11835\n",
      "\u001b[1m20/20\u001b[0m \u001b[32m━━━━━━━━━━━━━━━━━━━━\u001b[0m\u001b[37m\u001b[0m \u001b[1m375s\u001b[0m 18s/step - accuracy: 0.9884 - loss: 0.0637 - precision: 0.9985 - recall: 0.9443 - val_accuracy: 0.6159 - val_loss: 2.4614 - val_precision: 0.6159 - val_recall: 0.6159\n",
      "Epoch 35/50\n",
      "\u001b[1m20/20\u001b[0m \u001b[32m━━━━━━━━━━━━━━━━━━━━\u001b[0m\u001b[37m\u001b[0m \u001b[1m0s\u001b[0m 17s/step - accuracy: 0.9856 - loss: 0.0799 - precision: 0.9938 - recall: 0.9384 \n",
      "Epoch 35: val_loss did not improve from 0.11835\n",
      "\u001b[1m20/20\u001b[0m \u001b[32m━━━━━━━━━━━━━━━━━━━━\u001b[0m\u001b[37m\u001b[0m \u001b[1m373s\u001b[0m 18s/step - accuracy: 0.9856 - loss: 0.0794 - precision: 0.9939 - recall: 0.9386 - val_accuracy: 0.9619 - val_loss: 0.1269 - val_precision: 0.9838 - val_recall: 0.9619\n",
      "Epoch 36/50\n",
      "\u001b[1m20/20\u001b[0m \u001b[32m━━━━━━━━━━━━━━━━━━━━\u001b[0m\u001b[37m\u001b[0m \u001b[1m0s\u001b[0m 17s/step - accuracy: 0.9810 - loss: 0.0614 - precision: 0.9982 - recall: 0.9438 \n",
      "Epoch 36: val_loss improved from 0.11835 to 0.05479, saving model to ./models/Baru/ResNet50-HSV.keras\n",
      "\u001b[1m20/20\u001b[0m \u001b[32m━━━━━━━━━━━━━━━━━━━━\u001b[0m\u001b[37m\u001b[0m \u001b[1m375s\u001b[0m 18s/step - accuracy: 0.9813 - loss: 0.0613 - precision: 0.9981 - recall: 0.9438 - val_accuracy: 0.9968 - val_loss: 0.0548 - val_precision: 0.9968 - val_recall: 0.9968\n",
      "Epoch 37/50\n",
      "\u001b[1m20/20\u001b[0m \u001b[32m━━━━━━━━━━━━━━━━━━━━\u001b[0m\u001b[37m\u001b[0m \u001b[1m0s\u001b[0m 18s/step - accuracy: 0.9836 - loss: 0.0661 - precision: 0.9967 - recall: 0.9481 \n",
      "Epoch 37: val_loss did not improve from 0.05479\n",
      "\u001b[1m20/20\u001b[0m \u001b[32m━━━━━━━━━━━━━━━━━━━━\u001b[0m\u001b[37m\u001b[0m \u001b[1m373s\u001b[0m 19s/step - accuracy: 0.9833 - loss: 0.0667 - precision: 0.9966 - recall: 0.9476 - val_accuracy: 0.9302 - val_loss: 0.1859 - val_precision: 0.9444 - val_recall: 0.9175\n",
      "Epoch 38/50\n",
      "\u001b[1m20/20\u001b[0m \u001b[32m━━━━━━━━━━━━━━━━━━━━\u001b[0m\u001b[37m\u001b[0m \u001b[1m0s\u001b[0m 17s/step - accuracy: 0.9693 - loss: 0.1309 - precision: 0.9879 - recall: 0.9312 \n",
      "Epoch 38: val_loss did not improve from 0.05479\n",
      "\u001b[1m20/20\u001b[0m \u001b[32m━━━━━━━━━━━━━━━━━━━━\u001b[0m\u001b[37m\u001b[0m \u001b[1m372s\u001b[0m 18s/step - accuracy: 0.9696 - loss: 0.1289 - precision: 0.9881 - recall: 0.9314 - val_accuracy: 0.9778 - val_loss: 0.1015 - val_precision: 0.9778 - val_recall: 0.9778\n",
      "Epoch 39/50\n",
      "\u001b[1m20/20\u001b[0m \u001b[32m━━━━━━━━━━━━━━━━━━━━\u001b[0m\u001b[37m\u001b[0m \u001b[1m0s\u001b[0m 18s/step - accuracy: 0.9814 - loss: 0.0657 - precision: 0.9968 - recall: 0.9450 \n",
      "Epoch 39: val_loss did not improve from 0.05479\n",
      "\u001b[1m20/20\u001b[0m \u001b[32m━━━━━━━━━━━━━━━━━━━━\u001b[0m\u001b[37m\u001b[0m \u001b[1m374s\u001b[0m 18s/step - accuracy: 0.9812 - loss: 0.0674 - precision: 0.9965 - recall: 0.9448 - val_accuracy: 0.9175 - val_loss: 0.2616 - val_precision: 0.9408 - val_recall: 0.9079\n",
      "Epoch 40/50\n",
      "\u001b[1m20/20\u001b[0m \u001b[32m━━━━━━━━━━━━━━━━━━━━\u001b[0m\u001b[37m\u001b[0m \u001b[1m0s\u001b[0m 17s/step - accuracy: 0.9784 - loss: 0.1111 - precision: 0.9907 - recall: 0.9379 \n",
      "Epoch 40: val_loss did not improve from 0.05479\n",
      "\u001b[1m20/20\u001b[0m \u001b[32m━━━━━━━━━━━━━━━━━━━━\u001b[0m\u001b[37m\u001b[0m \u001b[1m373s\u001b[0m 18s/step - accuracy: 0.9784 - loss: 0.1101 - precision: 0.9908 - recall: 0.9379 - val_accuracy: 0.8730 - val_loss: 0.8302 - val_precision: 0.8778 - val_recall: 0.8667\n",
      "Epoch 41/50\n",
      "\u001b[1m20/20\u001b[0m \u001b[32m━━━━━━━━━━━━━━━━━━━━\u001b[0m\u001b[37m\u001b[0m \u001b[1m0s\u001b[0m 17s/step - accuracy: 0.9809 - loss: 0.0645 - precision: 0.9994 - recall: 0.9447 \n",
      "Epoch 41: val_loss did not improve from 0.05479\n",
      "\u001b[1m20/20\u001b[0m \u001b[32m━━━━━━━━━━━━━━━━━━━━\u001b[0m\u001b[37m\u001b[0m \u001b[1m373s\u001b[0m 18s/step - accuracy: 0.9810 - loss: 0.0643 - precision: 0.9994 - recall: 0.9448 - val_accuracy: 0.7810 - val_loss: 3.4904 - val_precision: 0.7810 - val_recall: 0.7810\n",
      "Epoch 42/50\n",
      "\u001b[1m20/20\u001b[0m \u001b[32m━━━━━━━━━━━━━━━━━━━━\u001b[0m\u001b[37m\u001b[0m \u001b[1m0s\u001b[0m 18s/step - accuracy: 0.9885 - loss: 0.0622 - precision: 0.9984 - recall: 0.9434 \n",
      "Epoch 42: val_loss did not improve from 0.05479\n",
      "\u001b[1m20/20\u001b[0m \u001b[32m━━━━━━━━━━━━━━━━━━━━\u001b[0m\u001b[37m\u001b[0m \u001b[1m375s\u001b[0m 18s/step - accuracy: 0.9883 - loss: 0.0624 - precision: 0.9984 - recall: 0.9432 - val_accuracy: 0.5651 - val_loss: 8.1430 - val_precision: 0.5651 - val_recall: 0.5651\n",
      "Epoch 43/50\n",
      "\u001b[1m20/20\u001b[0m \u001b[32m━━━━━━━━━━━━━━━━━━━━\u001b[0m\u001b[37m\u001b[0m \u001b[1m0s\u001b[0m 17s/step - accuracy: 0.9864 - loss: 0.0713 - precision: 0.9973 - recall: 0.9344 \n",
      "Epoch 43: val_loss did not improve from 0.05479\n",
      "\u001b[1m20/20\u001b[0m \u001b[32m━━━━━━━━━━━━━━━━━━━━\u001b[0m\u001b[37m\u001b[0m \u001b[1m373s\u001b[0m 18s/step - accuracy: 0.9863 - loss: 0.0711 - precision: 0.9973 - recall: 0.9346 - val_accuracy: 0.4603 - val_loss: 11.7315 - val_precision: 0.4603 - val_recall: 0.4603\n",
      "Epoch 44/50\n",
      "\u001b[1m20/20\u001b[0m \u001b[32m━━━━━━━━━━━━━━━━━━━━\u001b[0m\u001b[37m\u001b[0m \u001b[1m0s\u001b[0m 18s/step - accuracy: 0.9891 - loss: 0.0482 - precision: 0.9987 - recall: 0.9560 \n",
      "Epoch 44: val_loss did not improve from 0.05479\n",
      "\u001b[1m20/20\u001b[0m \u001b[32m━━━━━━━━━━━━━━━━━━━━\u001b[0m\u001b[37m\u001b[0m \u001b[1m373s\u001b[0m 19s/step - accuracy: 0.9891 - loss: 0.0482 - precision: 0.9987 - recall: 0.9560 - val_accuracy: 0.4730 - val_loss: 12.1900 - val_precision: 0.4730 - val_recall: 0.4730\n",
      "Epoch 45/50\n",
      "\u001b[1m20/20\u001b[0m \u001b[32m━━━━━━━━━━━━━━━━━━━━\u001b[0m\u001b[37m\u001b[0m \u001b[1m0s\u001b[0m 18s/step - accuracy: 0.9930 - loss: 0.0508 - precision: 0.9986 - recall: 0.9537 \n",
      "Epoch 45: val_loss did not improve from 0.05479\n",
      "\u001b[1m20/20\u001b[0m \u001b[32m━━━━━━━━━━━━━━━━━━━━\u001b[0m\u001b[37m\u001b[0m \u001b[1m375s\u001b[0m 18s/step - accuracy: 0.9928 - loss: 0.0512 - precision: 0.9985 - recall: 0.9536 - val_accuracy: 0.5111 - val_loss: 11.4197 - val_precision: 0.5111 - val_recall: 0.5111\n",
      "Epoch 46/50\n",
      "\u001b[1m20/20\u001b[0m \u001b[32m━━━━━━━━━━━━━━━━━━━━\u001b[0m\u001b[37m\u001b[0m \u001b[1m0s\u001b[0m 17s/step - accuracy: 0.9936 - loss: 0.0644 - precision: 0.9979 - recall: 0.9510 \n",
      "Epoch 46: val_loss did not improve from 0.05479\n",
      "\u001b[1m20/20\u001b[0m \u001b[32m━━━━━━━━━━━━━━━━━━━━\u001b[0m\u001b[37m\u001b[0m \u001b[1m373s\u001b[0m 18s/step - accuracy: 0.9933 - loss: 0.0658 - precision: 0.9977 - recall: 0.9510 - val_accuracy: 0.6794 - val_loss: 8.1542 - val_precision: 0.6794 - val_recall: 0.6794\n",
      "Epoch 47/50\n",
      "\u001b[1m20/20\u001b[0m \u001b[32m━━━━━━━━━━━━━━━━━━━━\u001b[0m\u001b[37m\u001b[0m \u001b[1m0s\u001b[0m 18s/step - accuracy: 0.9923 - loss: 0.0553 - precision: 0.9974 - recall: 0.9507 \n",
      "Epoch 47: val_loss did not improve from 0.05479\n",
      "\u001b[1m20/20\u001b[0m \u001b[32m━━━━━━━━━━━━━━━━━━━━\u001b[0m\u001b[37m\u001b[0m \u001b[1m373s\u001b[0m 19s/step - accuracy: 0.9922 - loss: 0.0560 - precision: 0.9974 - recall: 0.9501 - val_accuracy: 0.7048 - val_loss: 8.9088 - val_precision: 0.7048 - val_recall: 0.7048\n",
      "Epoch 48/50\n",
      "\u001b[1m20/20\u001b[0m \u001b[32m━━━━━━━━━━━━━━━━━━━━\u001b[0m\u001b[37m\u001b[0m \u001b[1m0s\u001b[0m 17s/step - accuracy: 0.9838 - loss: 0.0587 - precision: 1.0000 - recall: 0.9475 \n",
      "Epoch 48: val_loss did not improve from 0.05479\n",
      "\u001b[1m20/20\u001b[0m \u001b[32m━━━━━━━━━━━━━━━━━━━━\u001b[0m\u001b[37m\u001b[0m \u001b[1m373s\u001b[0m 18s/step - accuracy: 0.9841 - loss: 0.0584 - precision: 1.0000 - recall: 0.9477 - val_accuracy: 0.7333 - val_loss: 8.0330 - val_precision: 0.7333 - val_recall: 0.7333\n",
      "Epoch 49/50\n",
      "\u001b[1m20/20\u001b[0m \u001b[32m━━━━━━━━━━━━━━━━━━━━\u001b[0m\u001b[37m\u001b[0m \u001b[1m0s\u001b[0m 17s/step - accuracy: 0.9950 - loss: 0.0568 - precision: 0.9993 - recall: 0.9487 \n",
      "Epoch 49: val_loss did not improve from 0.05479\n",
      "\u001b[1m20/20\u001b[0m \u001b[32m━━━━━━━━━━━━━━━━━━━━\u001b[0m\u001b[37m\u001b[0m \u001b[1m373s\u001b[0m 18s/step - accuracy: 0.9949 - loss: 0.0569 - precision: 0.9992 - recall: 0.9487 - val_accuracy: 0.6571 - val_loss: 12.1280 - val_precision: 0.6571 - val_recall: 0.6571\n",
      "Epoch 50/50\n",
      "\u001b[1m20/20\u001b[0m \u001b[32m━━━━━━━━━━━━━━━━━━━━\u001b[0m\u001b[37m\u001b[0m \u001b[1m0s\u001b[0m 17s/step - accuracy: 0.9896 - loss: 0.0556 - precision: 0.9992 - recall: 0.9472 \n",
      "Epoch 50: val_loss did not improve from 0.05479\n",
      "\u001b[1m20/20\u001b[0m \u001b[32m━━━━━━━━━━━━━━━━━━━━\u001b[0m\u001b[37m\u001b[0m \u001b[1m372s\u001b[0m 18s/step - accuracy: 0.9896 - loss: 0.0555 - precision: 0.9991 - recall: 0.9474 - val_accuracy: 0.4603 - val_loss: 22.2913 - val_precision: 0.4603 - val_recall: 0.4603\n"
     ]
    },
    {
     "name": "stderr",
     "output_type": "stream",
     "text": [
      "WARNING:absl:You are saving your model as an HDF5 file via `model.save()` or `keras.saving.save_model(model)`. This file format is considered legacy. We recommend using instead the native Keras format, e.g. `model.save('my_model.keras')` or `keras.saving.save_model(model, 'my_model.keras')`. \n"
     ]
    }
   ],
   "source": [
    "# Checkpoint\n",
    "filepath = \"./models/Baru/ResNet50-HSV.keras\"\n",
    "checkpoint = ModelCheckpoint(filepath, monitor='val_loss', mode='min', save_best_only=True, verbose=1)\n",
    "callback_list = [checkpoint]\n",
    "\n",
    "# Train the model\n",
    "history = model.fit(train_generator,\n",
    "                    validation_data=validation_generator,\n",
    "                    epochs=50,\n",
    "                    callbacks=callback_list)\n",
    "\n",
    "# Save the final model\n",
    "model.save(\"./models/Baru/ResNet50-HSV.h5\")"
   ]
  },
  {
   "cell_type": "code",
   "execution_count": 6,
   "metadata": {},
   "outputs": [
    {
     "data": {
      "image/png": "[encoded data removed]",
      "text/plain": [
       "<Figure size 1008x432 with 2 Axes>"
      ]
     },
     "metadata": {
      "needs_background": "light"
     },
     "output_type": "display_data"
    }
   ],
   "source": [
    "# Plotting\n",
    "loss = history.history['loss']\n",
    "val_loss = history.history['val_loss']\n",
    "acc = history.history['accuracy']\n",
    "val_acc = history.history['val_accuracy']\n",
    "epochs = range(1, len(loss) + 1)\n",
    "\n",
    "fig, (ax1, ax2) = plt.subplots(1, 2, figsize=(14, 6))\n",
    "\n",
    "# Plotting Training and Validation Loss\n",
    "ax1.plot(epochs, loss, 'y', label='Training loss')\n",
    "ax1.plot(epochs, val_loss, 'r', label='Validation loss')\n",
    "ax1.set_title('Training and Validation Loss')\n",
    "ax1.set_xlabel('Epochs')\n",
    "ax1.set_ylabel('Loss')\n",
    "ax1.legend()\n",
    "\n",
    "# Plotting Training and Validation Accuracy\n",
    "ax2.plot(epochs, acc, 'y', label='Training accuracy')\n",
    "ax2.plot(epochs, val_acc, 'r', label='Validation accuracy')\n",
    "ax2.set_title('Training and Validation Accuracy')\n",
    "ax2.set_xlabel('Epochs')\n",
    "ax2.set_ylabel('Accuracy')\n",
    "ax2.legend()\n",
    "\n",
    "plt.show()"
   ]
  }
 ],
 "metadata": {
  "kernelspec": {
   "display_name": "Python 3",
   "language": "python",
   "name": "python3"
  },
  "language_info": {
   "codemirror_mode": {
    "name": "ipython",
    "version": 3
   },
   "file_extension": ".py",
   "mimetype": "text/x-python",
   "name": "python",
   "nbconvert_exporter": "python",
   "pygments_lexer": "ipython3",
   "version": "3.9.2"
  }
 },
 "nbformat": 4,
 "nbformat_minor": 2
}
