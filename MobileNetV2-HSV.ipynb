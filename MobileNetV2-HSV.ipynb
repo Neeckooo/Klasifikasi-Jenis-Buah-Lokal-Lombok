{
 "cells": [
  {
   "cell_type": "code",
   "execution_count": 1,
   "metadata": {},
   "outputs": [],
   "source": [
    "import numpy as np\n",
    "import matplotlib.pyplot as plt\n",
    "import tensorflow as tf\n",
    "from tensorflow.keras.preprocessing.image import ImageDataGenerator\n",
    "from tensorflow.keras.applications import MobileNetV2\n",
    "from tensorflow.keras.layers import Dense, Flatten, Dropout\n",
    "from tensorflow.keras.models import Sequential\n",
    "from tensorflow.keras.callbacks import ModelCheckpoint"
   ]
  },
  {
   "cell_type": "code",
   "execution_count": 2,
   "metadata": {},
   "outputs": [],
   "source": [
    "# Path ke direktori dataset\n",
    "train_dir = \"./dataset/hsv_masking/train\"\n",
    "validation_dir = \"./dataset/rgb/val\""
   ]
  },
  {
   "cell_type": "code",
   "execution_count": 3,
   "metadata": {},
   "outputs": [
    {
     "name": "stdout",
     "output_type": "stream",
     "text": [
      "Found 1252 images belonging to 3 classes.\n",
      "Found 315 images belonging to 3 classes.\n"
     ]
    }
   ],
   "source": [
    "# Parameter augmentasi gambar\n",
    "train_datagen = ImageDataGenerator(\n",
    "    rescale=1.0 / 255,\n",
    "    rotation_range=40,\n",
    "    width_shift_range=0.2,\n",
    "    height_shift_range=0.2,\n",
    "    shear_range=0.2,\n",
    "    zoom_range=0.2,\n",
    "    horizontal_flip=True,\n",
    "    fill_mode='nearest'\n",
    ")\n",
    "\n",
    "test_datagen = ImageDataGenerator(rescale=1.0 / 255)\n",
    "\n",
    "# Load data latih\n",
    "train_generator = train_datagen.flow_from_directory(\n",
    "    train_dir,\n",
    "    target_size=(300, 300),\n",
    "    batch_size=64,\n",
    "    class_mode='categorical'\n",
    ")\n",
    "\n",
    "# Load data validasi\n",
    "validation_generator = test_datagen.flow_from_directory(\n",
    "    validation_dir,\n",
    "    target_size=(300, 300),\n",
    "    batch_size=64,\n",
    "    class_mode='categorical'\n",
    ")"
   ]
  },
  {
   "cell_type": "code",
   "execution_count": 4,
   "metadata": {},
   "outputs": [
    {
     "name": "stderr",
     "output_type": "stream",
     "text": [
      "<ipython-input-4-70eda4ad62ba>:2: UserWarning: `input_shape` is undefined or non-square, or `rows` is not in [96, 128, 160, 192, 224]. Weights for input shape (224, 224) will be loaded as the default.\n",
      "  base_model = MobileNetV2(weights='imagenet', include_top=False, input_shape=(300, 300, 3))\n"
     ]
    },
    {
     "name": "stdout",
     "output_type": "stream",
     "text": [
      "Downloading data from https://storage.googleapis.com/tensorflow/keras-applications/mobilenet_v2/mobilenet_v2_weights_tf_dim_ordering_tf_kernels_1.0_224_no_top.h5\n",
      "\u001b[1m9406464/9406464\u001b[0m \u001b[32m━━━━━━━━━━━━━━━━━━━━\u001b[0m\u001b[37m\u001b[0m \u001b[1m2s\u001b[0m 0us/step\n"
     ]
    },
    {
     "data": {
      "text/html": [
       "<pre style=\"white-space:pre;overflow-x:auto;line-height:normal;font-family:Menlo,'DejaVu Sans Mono',consolas,'Courier New',monospace\"><span style=\"font-weight: bold\">Model: \"sequential\"</span>\n",
       "</pre>\n"
      ],
      "text/plain": [
       "\u001b[1mModel: \"sequential\"\u001b[0m\n"
      ]
     },
     "metadata": {},
     "output_type": "display_data"
    },
    {
     "data": {
      "text/html": [
       "<pre style=\"white-space:pre;overflow-x:auto;line-height:normal;font-family:Menlo,'DejaVu Sans Mono',consolas,'Courier New',monospace\">┏━━━━━━━━━━━━━━━━━━━━━━━━━━━━━━━━━┳━━━━━━━━━━━━━━━━━━━━━━━━┳━━━━━━━━━━━━━━━┓\n",
       "┃<span style=\"font-weight: bold\"> Layer (type)                    </span>┃<span style=\"font-weight: bold\"> Output Shape           </span>┃<span style=\"font-weight: bold\">       Param # </span>┃\n",
       "┡━━━━━━━━━━━━━━━━━━━━━━━━━━━━━━━━━╇━━━━━━━━━━━━━━━━━━━━━━━━╇━━━━━━━━━━━━━━━┩\n",
       "│ mobilenetv2_1.00_224            │ ?                      │     <span style=\"color: #00af00; text-decoration-color: #00af00\">2,257,984</span> │\n",
       "│ (<span style=\"color: #0087ff; text-decoration-color: #0087ff\">Functional</span>)                    │                        │               │\n",
       "├─────────────────────────────────┼────────────────────────┼───────────────┤\n",
       "│ flatten (<span style=\"color: #0087ff; text-decoration-color: #0087ff\">Flatten</span>)               │ ?                      │   <span style=\"color: #00af00; text-decoration-color: #00af00\">0</span> (unbuilt) │\n",
       "├─────────────────────────────────┼────────────────────────┼───────────────┤\n",
       "│ dropout (<span style=\"color: #0087ff; text-decoration-color: #0087ff\">Dropout</span>)               │ ?                      │   <span style=\"color: #00af00; text-decoration-color: #00af00\">0</span> (unbuilt) │\n",
       "├─────────────────────────────────┼────────────────────────┼───────────────┤\n",
       "│ dense (<span style=\"color: #0087ff; text-decoration-color: #0087ff\">Dense</span>)                   │ ?                      │   <span style=\"color: #00af00; text-decoration-color: #00af00\">0</span> (unbuilt) │\n",
       "├─────────────────────────────────┼────────────────────────┼───────────────┤\n",
       "│ dropout_1 (<span style=\"color: #0087ff; text-decoration-color: #0087ff\">Dropout</span>)             │ ?                      │   <span style=\"color: #00af00; text-decoration-color: #00af00\">0</span> (unbuilt) │\n",
       "├─────────────────────────────────┼────────────────────────┼───────────────┤\n",
       "│ dense_1 (<span style=\"color: #0087ff; text-decoration-color: #0087ff\">Dense</span>)                 │ ?                      │   <span style=\"color: #00af00; text-decoration-color: #00af00\">0</span> (unbuilt) │\n",
       "└─────────────────────────────────┴────────────────────────┴───────────────┘\n",
       "</pre>\n"
      ],
      "text/plain": [
       "┏━━━━━━━━━━━━━━━━━━━━━━━━━━━━━━━━━┳━━━━━━━━━━━━━━━━━━━━━━━━┳━━━━━━━━━━━━━━━┓\n",
       "┃\u001b[1m \u001b[0m\u001b[1mLayer (type)                   \u001b[0m\u001b[1m \u001b[0m┃\u001b[1m \u001b[0m\u001b[1mOutput Shape          \u001b[0m\u001b[1m \u001b[0m┃\u001b[1m \u001b[0m\u001b[1m      Param #\u001b[0m\u001b[1m \u001b[0m┃\n",
       "┡━━━━━━━━━━━━━━━━━━━━━━━━━━━━━━━━━╇━━━━━━━━━━━━━━━━━━━━━━━━╇━━━━━━━━━━━━━━━┩\n",
       "│ mobilenetv2_1.00_224            │ ?                      │     \u001b[38;5;34m2,257,984\u001b[0m │\n",
       "│ (\u001b[38;5;33mFunctional\u001b[0m)                    │                        │               │\n",
       "├─────────────────────────────────┼────────────────────────┼───────────────┤\n",
       "│ flatten (\u001b[38;5;33mFlatten\u001b[0m)               │ ?                      │   \u001b[38;5;34m0\u001b[0m (unbuilt) │\n",
       "├─────────────────────────────────┼────────────────────────┼───────────────┤\n",
       "│ dropout (\u001b[38;5;33mDropout\u001b[0m)               │ ?                      │   \u001b[38;5;34m0\u001b[0m (unbuilt) │\n",
       "├─────────────────────────────────┼────────────────────────┼───────────────┤\n",
       "│ dense (\u001b[38;5;33mDense\u001b[0m)                   │ ?                      │   \u001b[38;5;34m0\u001b[0m (unbuilt) │\n",
       "├─────────────────────────────────┼────────────────────────┼───────────────┤\n",
       "│ dropout_1 (\u001b[38;5;33mDropout\u001b[0m)             │ ?                      │   \u001b[38;5;34m0\u001b[0m (unbuilt) │\n",
       "├─────────────────────────────────┼────────────────────────┼───────────────┤\n",
       "│ dense_1 (\u001b[38;5;33mDense\u001b[0m)                 │ ?                      │   \u001b[38;5;34m0\u001b[0m (unbuilt) │\n",
       "└─────────────────────────────────┴────────────────────────┴───────────────┘\n"
      ]
     },
     "metadata": {},
     "output_type": "display_data"
    },
    {
     "data": {
      "text/html": [
       "<pre style=\"white-space:pre;overflow-x:auto;line-height:normal;font-family:Menlo,'DejaVu Sans Mono',consolas,'Courier New',monospace\"><span style=\"font-weight: bold\"> Total params: </span><span style=\"color: #00af00; text-decoration-color: #00af00\">2,257,984</span> (8.61 MB)\n",
       "</pre>\n"
      ],
      "text/plain": [
       "\u001b[1m Total params: \u001b[0m\u001b[38;5;34m2,257,984\u001b[0m (8.61 MB)\n"
      ]
     },
     "metadata": {},
     "output_type": "display_data"
    },
    {
     "data": {
      "text/html": [
       "<pre style=\"white-space:pre;overflow-x:auto;line-height:normal;font-family:Menlo,'DejaVu Sans Mono',consolas,'Courier New',monospace\"><span style=\"font-weight: bold\"> Trainable params: </span><span style=\"color: #00af00; text-decoration-color: #00af00\">2,223,872</span> (8.48 MB)\n",
       "</pre>\n"
      ],
      "text/plain": [
       "\u001b[1m Trainable params: \u001b[0m\u001b[38;5;34m2,223,872\u001b[0m (8.48 MB)\n"
      ]
     },
     "metadata": {},
     "output_type": "display_data"
    },
    {
     "data": {
      "text/html": [
       "<pre style=\"white-space:pre;overflow-x:auto;line-height:normal;font-family:Menlo,'DejaVu Sans Mono',consolas,'Courier New',monospace\"><span style=\"font-weight: bold\"> Non-trainable params: </span><span style=\"color: #00af00; text-decoration-color: #00af00\">34,112</span> (133.25 KB)\n",
       "</pre>\n"
      ],
      "text/plain": [
       "\u001b[1m Non-trainable params: \u001b[0m\u001b[38;5;34m34,112\u001b[0m (133.25 KB)\n"
      ]
     },
     "metadata": {},
     "output_type": "display_data"
    }
   ],
   "source": [
    "# Define the model\n",
    "base_model = MobileNetV2(weights='imagenet', include_top=False, input_shape=(300, 300, 3))\n",
    "model = Sequential([\n",
    "    base_model,\n",
    "    Flatten(),\n",
    "    Dropout(0.5),\n",
    "    Dense(16, activation='relu'),\n",
    "    Dropout(0.5),\n",
    "    Dense(3, activation='softmax')\n",
    "])\n",
    "\n",
    "model.summary()\n",
    "\n",
    "# Compile the model\n",
    "model.compile(optimizer=tf.keras.optimizers.Adam(learning_rate=0.0001),\n",
    "              loss='categorical_crossentropy',\n",
    "              metrics=['accuracy', tf.keras.metrics.Precision(), tf.keras.metrics.Recall()])"
   ]
  },
  {
   "cell_type": "code",
   "execution_count": 5,
   "metadata": {},
   "outputs": [
    {
     "name": "stdout",
     "output_type": "stream",
     "text": [
      "Epoch 1/50\n"
     ]
    },
    {
     "name": "stderr",
     "output_type": "stream",
     "text": [
      "c:\\Users\\CATUR WARGA COMPUTER\\AppData\\Local\\Programs\\Python\\Python39\\lib\\site-packages\\keras\\src\\trainers\\data_adapters\\py_dataset_adapter.py:121: UserWarning: Your `PyDataset` class should call `super().__init__(**kwargs)` in its constructor. `**kwargs` can include `workers`, `use_multiprocessing`, `max_queue_size`. Do not pass these arguments to `fit()`, as they will be ignored.\n",
      "  self._warn_if_super_not_called()\n"
     ]
    },
    {
     "name": "stdout",
     "output_type": "stream",
     "text": [
      "\u001b[1m20/20\u001b[0m \u001b[32m━━━━━━━━━━━━━━━━━━━━\u001b[0m\u001b[37m\u001b[0m \u001b[1m0s\u001b[0m 7s/step - accuracy: 0.6059 - loss: 1.1347 - precision: 0.6407 - recall: 0.5200\n",
      "Epoch 1: val_loss improved from inf to 0.17987, saving model to ./models/Baru/MobileNetV2-HSV.keras\n",
      "\u001b[1m20/20\u001b[0m \u001b[32m━━━━━━━━━━━━━━━━━━━━\u001b[0m\u001b[37m\u001b[0m \u001b[1m200s\u001b[0m 8s/step - accuracy: 0.6128 - loss: 1.1116 - precision: 0.6479 - recall: 0.5277 - val_accuracy: 0.9714 - val_loss: 0.1799 - val_precision: 0.9838 - val_recall: 0.9651\n",
      "Epoch 2/50\n",
      "\u001b[1m20/20\u001b[0m \u001b[32m━━━━━━━━━━━━━━━━━━━━\u001b[0m\u001b[37m\u001b[0m \u001b[1m0s\u001b[0m 7s/step - accuracy: 0.9023 - loss: 0.2113 - precision: 0.9293 - recall: 0.8865\n",
      "Epoch 2: val_loss improved from 0.17987 to 0.02527, saving model to ./models/Baru/MobileNetV2-HSV.keras\n",
      "\u001b[1m20/20\u001b[0m \u001b[32m━━━━━━━━━━━━━━━━━━━━\u001b[0m\u001b[37m\u001b[0m \u001b[1m155s\u001b[0m 7s/step - accuracy: 0.9033 - loss: 0.2092 - precision: 0.9300 - recall: 0.8879 - val_accuracy: 0.9968 - val_loss: 0.0253 - val_precision: 0.9968 - val_recall: 0.9968\n",
      "Epoch 3/50\n",
      "\u001b[1m20/20\u001b[0m \u001b[32m━━━━━━━━━━━━━━━━━━━━\u001b[0m\u001b[37m\u001b[0m \u001b[1m0s\u001b[0m 7s/step - accuracy: 0.9369 - loss: 0.1124 - precision: 0.9542 - recall: 0.9338\n",
      "Epoch 3: val_loss improved from 0.02527 to 0.01464, saving model to ./models/Baru/MobileNetV2-HSV.keras\n",
      "\u001b[1m20/20\u001b[0m \u001b[32m━━━━━━━━━━━━━━━━━━━━\u001b[0m\u001b[37m\u001b[0m \u001b[1m154s\u001b[0m 7s/step - accuracy: 0.9370 - loss: 0.1120 - precision: 0.9543 - recall: 0.9339 - val_accuracy: 0.9968 - val_loss: 0.0146 - val_precision: 0.9968 - val_recall: 0.9968\n",
      "Epoch 4/50\n",
      "\u001b[1m20/20\u001b[0m \u001b[32m━━━━━━━━━━━━━━━━━━━━\u001b[0m\u001b[37m\u001b[0m \u001b[1m0s\u001b[0m 7s/step - accuracy: 0.9597 - loss: 0.0804 - precision: 0.9695 - recall: 0.9534\n",
      "Epoch 4: val_loss improved from 0.01464 to 0.00091, saving model to ./models/Baru/MobileNetV2-HSV.keras\n",
      "\u001b[1m20/20\u001b[0m \u001b[32m━━━━━━━━━━━━━━━━━━━━\u001b[0m\u001b[37m\u001b[0m \u001b[1m155s\u001b[0m 8s/step - accuracy: 0.9597 - loss: 0.0803 - precision: 0.9696 - recall: 0.9534 - val_accuracy: 1.0000 - val_loss: 9.1178e-04 - val_precision: 1.0000 - val_recall: 1.0000\n",
      "Epoch 5/50\n",
      "\u001b[1m20/20\u001b[0m \u001b[32m━━━━━━━━━━━━━━━━━━━━\u001b[0m\u001b[37m\u001b[0m \u001b[1m0s\u001b[0m 7s/step - accuracy: 0.9702 - loss: 0.0539 - precision: 0.9741 - recall: 0.9650\n",
      "Epoch 5: val_loss improved from 0.00091 to 0.00072, saving model to ./models/Baru/MobileNetV2-HSV.keras\n",
      "\u001b[1m20/20\u001b[0m \u001b[32m━━━━━━━━━━━━━━━━━━━━\u001b[0m\u001b[37m\u001b[0m \u001b[1m155s\u001b[0m 8s/step - accuracy: 0.9702 - loss: 0.0541 - precision: 0.9742 - recall: 0.9649 - val_accuracy: 1.0000 - val_loss: 7.2274e-04 - val_precision: 1.0000 - val_recall: 1.0000\n",
      "Epoch 6/50\n",
      "\u001b[1m20/20\u001b[0m \u001b[32m━━━━━━━━━━━━━━━━━━━━\u001b[0m\u001b[37m\u001b[0m \u001b[1m0s\u001b[0m 7s/step - accuracy: 0.9679 - loss: 0.0621 - precision: 0.9814 - recall: 0.9616\n",
      "Epoch 6: val_loss improved from 0.00072 to 0.00066, saving model to ./models/Baru/MobileNetV2-HSV.keras\n",
      "\u001b[1m20/20\u001b[0m \u001b[32m━━━━━━━━━━━━━━━━━━━━\u001b[0m\u001b[37m\u001b[0m \u001b[1m155s\u001b[0m 7s/step - accuracy: 0.9679 - loss: 0.0620 - precision: 0.9813 - recall: 0.9615 - val_accuracy: 1.0000 - val_loss: 6.6130e-04 - val_precision: 1.0000 - val_recall: 1.0000\n",
      "Epoch 7/50\n",
      "\u001b[1m20/20\u001b[0m \u001b[32m━━━━━━━━━━━━━━━━━━━━\u001b[0m\u001b[37m\u001b[0m \u001b[1m0s\u001b[0m 7s/step - accuracy: 0.9641 - loss: 0.0563 - precision: 0.9721 - recall: 0.9580\n",
      "Epoch 7: val_loss improved from 0.00066 to 0.00060, saving model to ./models/Baru/MobileNetV2-HSV.keras\n",
      "\u001b[1m20/20\u001b[0m \u001b[32m━━━━━━━━━━━━━━━━━━━━\u001b[0m\u001b[37m\u001b[0m \u001b[1m159s\u001b[0m 8s/step - accuracy: 0.9641 - loss: 0.0565 - precision: 0.9721 - recall: 0.9580 - val_accuracy: 1.0000 - val_loss: 5.9821e-04 - val_precision: 1.0000 - val_recall: 1.0000\n",
      "Epoch 8/50\n",
      "\u001b[1m20/20\u001b[0m \u001b[32m━━━━━━━━━━━━━━━━━━━━\u001b[0m\u001b[37m\u001b[0m \u001b[1m0s\u001b[0m 7s/step - accuracy: 0.9680 - loss: 0.0513 - precision: 0.9773 - recall: 0.9596\n",
      "Epoch 8: val_loss did not improve from 0.00060\n",
      "\u001b[1m20/20\u001b[0m \u001b[32m━━━━━━━━━━━━━━━━━━━━\u001b[0m\u001b[37m\u001b[0m \u001b[1m153s\u001b[0m 7s/step - accuracy: 0.9677 - loss: 0.0518 - precision: 0.9773 - recall: 0.9593 - val_accuracy: 1.0000 - val_loss: 6.0940e-04 - val_precision: 1.0000 - val_recall: 1.0000\n",
      "Epoch 9/50\n",
      "\u001b[1m20/20\u001b[0m \u001b[32m━━━━━━━━━━━━━━━━━━━━\u001b[0m\u001b[37m\u001b[0m \u001b[1m0s\u001b[0m 7s/step - accuracy: 0.9669 - loss: 0.0545 - precision: 0.9794 - recall: 0.9597\n",
      "Epoch 9: val_loss improved from 0.00060 to 0.00015, saving model to ./models/Baru/MobileNetV2-HSV.keras\n",
      "\u001b[1m20/20\u001b[0m \u001b[32m━━━━━━━━━━━━━━━━━━━━\u001b[0m\u001b[37m\u001b[0m \u001b[1m153s\u001b[0m 7s/step - accuracy: 0.9668 - loss: 0.0547 - precision: 0.9791 - recall: 0.9596 - val_accuracy: 1.0000 - val_loss: 1.4886e-04 - val_precision: 1.0000 - val_recall: 1.0000\n",
      "Epoch 10/50\n",
      "\u001b[1m20/20\u001b[0m \u001b[32m━━━━━━━━━━━━━━━━━━━━\u001b[0m\u001b[37m\u001b[0m \u001b[1m0s\u001b[0m 7s/step - accuracy: 0.9698 - loss: 0.0523 - precision: 0.9822 - recall: 0.9595\n",
      "Epoch 10: val_loss improved from 0.00015 to 0.00015, saving model to ./models/Baru/MobileNetV2-HSV.keras\n",
      "\u001b[1m20/20\u001b[0m \u001b[32m━━━━━━━━━━━━━━━━━━━━\u001b[0m\u001b[37m\u001b[0m \u001b[1m153s\u001b[0m 7s/step - accuracy: 0.9697 - loss: 0.0525 - precision: 0.9820 - recall: 0.9595 - val_accuracy: 1.0000 - val_loss: 1.4701e-04 - val_precision: 1.0000 - val_recall: 1.0000\n",
      "Epoch 11/50\n",
      "\u001b[1m20/20\u001b[0m \u001b[32m━━━━━━━━━━━━━━━━━━━━\u001b[0m\u001b[37m\u001b[0m \u001b[1m0s\u001b[0m 7s/step - accuracy: 0.9607 - loss: 0.0584 - precision: 0.9723 - recall: 0.9565\n",
      "Epoch 11: val_loss did not improve from 0.00015\n",
      "\u001b[1m20/20\u001b[0m \u001b[32m━━━━━━━━━━━━━━━━━━━━\u001b[0m\u001b[37m\u001b[0m \u001b[1m154s\u001b[0m 7s/step - accuracy: 0.9610 - loss: 0.0581 - precision: 0.9726 - recall: 0.9569 - val_accuracy: 0.9968 - val_loss: 0.0025 - val_precision: 0.9968 - val_recall: 0.9968\n",
      "Epoch 12/50\n",
      "\u001b[1m20/20\u001b[0m \u001b[32m━━━━━━━━━━━━━━━━━━━━\u001b[0m\u001b[37m\u001b[0m \u001b[1m0s\u001b[0m 7s/step - accuracy: 0.9618 - loss: 0.0614 - precision: 0.9741 - recall: 0.9551\n",
      "Epoch 12: val_loss did not improve from 0.00015\n",
      "\u001b[1m20/20\u001b[0m \u001b[32m━━━━━━━━━━━━━━━━━━━━\u001b[0m\u001b[37m\u001b[0m \u001b[1m157s\u001b[0m 7s/step - accuracy: 0.9619 - loss: 0.0617 - precision: 0.9742 - recall: 0.9551 - val_accuracy: 1.0000 - val_loss: 0.0018 - val_precision: 1.0000 - val_recall: 1.0000\n",
      "Epoch 13/50\n",
      "\u001b[1m20/20\u001b[0m \u001b[32m━━━━━━━━━━━━━━━━━━━━\u001b[0m\u001b[37m\u001b[0m \u001b[1m0s\u001b[0m 7s/step - accuracy: 0.9533 - loss: 0.0755 - precision: 0.9680 - recall: 0.9434\n",
      "Epoch 13: val_loss did not improve from 0.00015\n",
      "\u001b[1m20/20\u001b[0m \u001b[32m━━━━━━━━━━━━━━━━━━━━\u001b[0m\u001b[37m\u001b[0m \u001b[1m152s\u001b[0m 7s/step - accuracy: 0.9536 - loss: 0.0752 - precision: 0.9681 - recall: 0.9437 - val_accuracy: 0.9968 - val_loss: 0.0052 - val_precision: 0.9968 - val_recall: 0.9968\n",
      "Epoch 14/50\n",
      "\u001b[1m20/20\u001b[0m \u001b[32m━━━━━━━━━━━━━━━━━━━━\u001b[0m\u001b[37m\u001b[0m \u001b[1m0s\u001b[0m 7s/step - accuracy: 0.9653 - loss: 0.0598 - precision: 0.9745 - recall: 0.9527\n",
      "Epoch 14: val_loss did not improve from 0.00015\n",
      "\u001b[1m20/20\u001b[0m \u001b[32m━━━━━━━━━━━━━━━━━━━━\u001b[0m\u001b[37m\u001b[0m \u001b[1m152s\u001b[0m 7s/step - accuracy: 0.9655 - loss: 0.0594 - precision: 0.9748 - recall: 0.9532 - val_accuracy: 1.0000 - val_loss: 0.0022 - val_precision: 1.0000 - val_recall: 1.0000\n",
      "Epoch 15/50\n",
      "\u001b[1m20/20\u001b[0m \u001b[32m━━━━━━━━━━━━━━━━━━━━\u001b[0m\u001b[37m\u001b[0m \u001b[1m0s\u001b[0m 7s/step - accuracy: 0.9628 - loss: 0.0580 - precision: 0.9747 - recall: 0.9518\n",
      "Epoch 15: val_loss did not improve from 0.00015\n",
      "\u001b[1m20/20\u001b[0m \u001b[32m━━━━━━━━━━━━━━━━━━━━\u001b[0m\u001b[37m\u001b[0m \u001b[1m153s\u001b[0m 7s/step - accuracy: 0.9631 - loss: 0.0578 - precision: 0.9749 - recall: 0.9522 - val_accuracy: 1.0000 - val_loss: 8.1588e-04 - val_precision: 1.0000 - val_recall: 1.0000\n",
      "Epoch 16/50\n",
      "\u001b[1m20/20\u001b[0m \u001b[32m━━━━━━━━━━━━━━━━━━━━\u001b[0m\u001b[37m\u001b[0m \u001b[1m0s\u001b[0m 7s/step - accuracy: 0.9753 - loss: 0.0479 - precision: 0.9833 - recall: 0.9619\n",
      "Epoch 16: val_loss did not improve from 0.00015\n",
      "\u001b[1m20/20\u001b[0m \u001b[32m━━━━━━━━━━━━━━━━━━━━\u001b[0m\u001b[37m\u001b[0m \u001b[1m155s\u001b[0m 7s/step - accuracy: 0.9753 - loss: 0.0479 - precision: 0.9833 - recall: 0.9621 - val_accuracy: 1.0000 - val_loss: 1.9086e-04 - val_precision: 1.0000 - val_recall: 1.0000\n",
      "Epoch 17/50\n",
      "\u001b[1m20/20\u001b[0m \u001b[32m━━━━━━━━━━━━━━━━━━━━\u001b[0m\u001b[37m\u001b[0m \u001b[1m0s\u001b[0m 7s/step - accuracy: 0.9594 - loss: 0.0667 - precision: 0.9732 - recall: 0.9467\n",
      "Epoch 17: val_loss did not improve from 0.00015\n",
      "\u001b[1m20/20\u001b[0m \u001b[32m━━━━━━━━━━━━━━━━━━━━\u001b[0m\u001b[37m\u001b[0m \u001b[1m156s\u001b[0m 7s/step - accuracy: 0.9594 - loss: 0.0666 - precision: 0.9732 - recall: 0.9468 - val_accuracy: 1.0000 - val_loss: 1.7556e-04 - val_precision: 1.0000 - val_recall: 1.0000\n",
      "Epoch 18/50\n",
      "\u001b[1m20/20\u001b[0m \u001b[32m━━━━━━━━━━━━━━━━━━━━\u001b[0m\u001b[37m\u001b[0m \u001b[1m0s\u001b[0m 7s/step - accuracy: 0.9726 - loss: 0.0465 - precision: 0.9784 - recall: 0.9655\n",
      "Epoch 18: val_loss improved from 0.00015 to 0.00009, saving model to ./models/Baru/MobileNetV2-HSV.keras\n",
      "\u001b[1m20/20\u001b[0m \u001b[32m━━━━━━━━━━━━━━━━━━━━\u001b[0m\u001b[37m\u001b[0m \u001b[1m157s\u001b[0m 7s/step - accuracy: 0.9726 - loss: 0.0467 - precision: 0.9784 - recall: 0.9653 - val_accuracy: 1.0000 - val_loss: 8.6152e-05 - val_precision: 1.0000 - val_recall: 1.0000\n",
      "Epoch 19/50\n",
      "\u001b[1m20/20\u001b[0m \u001b[32m━━━━━━━━━━━━━━━━━━━━\u001b[0m\u001b[37m\u001b[0m \u001b[1m0s\u001b[0m 7s/step - accuracy: 0.9730 - loss: 0.0458 - precision: 0.9843 - recall: 0.9653\n",
      "Epoch 19: val_loss improved from 0.00009 to 0.00006, saving model to ./models/Baru/MobileNetV2-HSV.keras\n",
      "\u001b[1m20/20\u001b[0m \u001b[32m━━━━━━━━━━━━━━━━━━━━\u001b[0m\u001b[37m\u001b[0m \u001b[1m156s\u001b[0m 7s/step - accuracy: 0.9730 - loss: 0.0459 - precision: 0.9843 - recall: 0.9652 - val_accuracy: 1.0000 - val_loss: 6.3115e-05 - val_precision: 1.0000 - val_recall: 1.0000\n",
      "Epoch 20/50\n",
      "\u001b[1m20/20\u001b[0m \u001b[32m━━━━━━━━━━━━━━━━━━━━\u001b[0m\u001b[37m\u001b[0m \u001b[1m0s\u001b[0m 7s/step - accuracy: 0.9800 - loss: 0.0443 - precision: 0.9852 - recall: 0.9661\n",
      "Epoch 20: val_loss improved from 0.00006 to 0.00003, saving model to ./models/Baru/MobileNetV2-HSV.keras\n",
      "\u001b[1m20/20\u001b[0m \u001b[32m━━━━━━━━━━━━━━━━━━━━\u001b[0m\u001b[37m\u001b[0m \u001b[1m156s\u001b[0m 7s/step - accuracy: 0.9797 - loss: 0.0441 - precision: 0.9849 - recall: 0.9661 - val_accuracy: 1.0000 - val_loss: 2.7115e-05 - val_precision: 1.0000 - val_recall: 1.0000\n",
      "Epoch 21/50\n",
      "\u001b[1m20/20\u001b[0m \u001b[32m━━━━━━━━━━━━━━━━━━━━\u001b[0m\u001b[37m\u001b[0m \u001b[1m0s\u001b[0m 7s/step - accuracy: 0.9617 - loss: 0.0639 - precision: 0.9736 - recall: 0.9591\n",
      "Epoch 21: val_loss did not improve from 0.00003\n",
      "\u001b[1m20/20\u001b[0m \u001b[32m━━━━━━━━━━━━━━━━━━━━\u001b[0m\u001b[37m\u001b[0m \u001b[1m154s\u001b[0m 7s/step - accuracy: 0.9620 - loss: 0.0639 - precision: 0.9739 - recall: 0.9594 - val_accuracy: 1.0000 - val_loss: 1.0793e-04 - val_precision: 1.0000 - val_recall: 1.0000\n",
      "Epoch 22/50\n",
      "\u001b[1m20/20\u001b[0m \u001b[32m━━━━━━━━━━━━━━━━━━━━\u001b[0m\u001b[37m\u001b[0m \u001b[1m0s\u001b[0m 7s/step - accuracy: 0.9732 - loss: 0.0427 - precision: 0.9864 - recall: 0.9680\n",
      "Epoch 22: val_loss did not improve from 0.00003\n",
      "\u001b[1m20/20\u001b[0m \u001b[32m━━━━━━━━━━━━━━━━━━━━\u001b[0m\u001b[37m\u001b[0m \u001b[1m155s\u001b[0m 7s/step - accuracy: 0.9734 - loss: 0.0424 - precision: 0.9863 - recall: 0.9681 - val_accuracy: 1.0000 - val_loss: 1.5230e-04 - val_precision: 1.0000 - val_recall: 1.0000\n",
      "Epoch 23/50\n",
      "\u001b[1m20/20\u001b[0m \u001b[32m━━━━━━━━━━━━━━━━━━━━\u001b[0m\u001b[37m\u001b[0m \u001b[1m0s\u001b[0m 7s/step - accuracy: 0.9707 - loss: 0.0527 - precision: 0.9801 - recall: 0.9561\n",
      "Epoch 23: val_loss did not improve from 0.00003\n",
      "\u001b[1m20/20\u001b[0m \u001b[32m━━━━━━━━━━━━━━━━━━━━\u001b[0m\u001b[37m\u001b[0m \u001b[1m155s\u001b[0m 7s/step - accuracy: 0.9706 - loss: 0.0525 - precision: 0.9802 - recall: 0.9562 - val_accuracy: 1.0000 - val_loss: 0.0023 - val_precision: 1.0000 - val_recall: 1.0000\n",
      "Epoch 24/50\n",
      "\u001b[1m20/20\u001b[0m \u001b[32m━━━━━━━━━━━━━━━━━━━━\u001b[0m\u001b[37m\u001b[0m \u001b[1m0s\u001b[0m 7s/step - accuracy: 0.9743 - loss: 0.0477 - precision: 0.9805 - recall: 0.9602\n",
      "Epoch 24: val_loss did not improve from 0.00003\n",
      "\u001b[1m20/20\u001b[0m \u001b[32m━━━━━━━━━━━━━━━━━━━━\u001b[0m\u001b[37m\u001b[0m \u001b[1m154s\u001b[0m 7s/step - accuracy: 0.9742 - loss: 0.0477 - precision: 0.9804 - recall: 0.9601 - val_accuracy: 1.0000 - val_loss: 0.0059 - val_precision: 1.0000 - val_recall: 1.0000\n",
      "Epoch 25/50\n",
      "\u001b[1m20/20\u001b[0m \u001b[32m━━━━━━━━━━━━━━━━━━━━\u001b[0m\u001b[37m\u001b[0m \u001b[1m0s\u001b[0m 7s/step - accuracy: 0.9709 - loss: 0.0517 - precision: 0.9778 - recall: 0.9631\n",
      "Epoch 25: val_loss did not improve from 0.00003\n",
      "\u001b[1m20/20\u001b[0m \u001b[32m━━━━━━━━━━━━━━━━━━━━\u001b[0m\u001b[37m\u001b[0m \u001b[1m154s\u001b[0m 7s/step - accuracy: 0.9711 - loss: 0.0512 - precision: 0.9780 - recall: 0.9632 - val_accuracy: 0.9937 - val_loss: 0.0193 - val_precision: 0.9937 - val_recall: 0.9937\n",
      "Epoch 26/50\n",
      "\u001b[1m20/20\u001b[0m \u001b[32m━━━━━━━━━━━━━━━━━━━━\u001b[0m\u001b[37m\u001b[0m \u001b[1m0s\u001b[0m 7s/step - accuracy: 0.9737 - loss: 0.0357 - precision: 0.9802 - recall: 0.9671\n",
      "Epoch 26: val_loss did not improve from 0.00003\n",
      "\u001b[1m20/20\u001b[0m \u001b[32m━━━━━━━━━━━━━━━━━━━━\u001b[0m\u001b[37m\u001b[0m \u001b[1m154s\u001b[0m 8s/step - accuracy: 0.9735 - loss: 0.0361 - precision: 0.9801 - recall: 0.9668 - val_accuracy: 0.9968 - val_loss: 0.0113 - val_precision: 0.9968 - val_recall: 0.9968\n",
      "Epoch 27/50\n",
      "\u001b[1m20/20\u001b[0m \u001b[32m━━━━━━━━━━━━━━━━━━━━\u001b[0m\u001b[37m\u001b[0m \u001b[1m0s\u001b[0m 7s/step - accuracy: 0.9711 - loss: 0.0416 - precision: 0.9779 - recall: 0.9620\n",
      "Epoch 27: val_loss did not improve from 0.00003\n",
      "\u001b[1m20/20\u001b[0m \u001b[32m━━━━━━━━━━━━━━━━━━━━\u001b[0m\u001b[37m\u001b[0m \u001b[1m155s\u001b[0m 7s/step - accuracy: 0.9715 - loss: 0.0412 - precision: 0.9783 - recall: 0.9624 - val_accuracy: 1.0000 - val_loss: 0.0065 - val_precision: 1.0000 - val_recall: 1.0000\n",
      "Epoch 28/50\n",
      "\u001b[1m20/20\u001b[0m \u001b[32m━━━━━━━━━━━━━━━━━━━━\u001b[0m\u001b[37m\u001b[0m \u001b[1m0s\u001b[0m 7s/step - accuracy: 0.9811 - loss: 0.0363 - precision: 0.9889 - recall: 0.9691\n",
      "Epoch 28: val_loss did not improve from 0.00003\n",
      "\u001b[1m20/20\u001b[0m \u001b[32m━━━━━━━━━━━━━━━━━━━━\u001b[0m\u001b[37m\u001b[0m \u001b[1m154s\u001b[0m 7s/step - accuracy: 0.9807 - loss: 0.0367 - precision: 0.9887 - recall: 0.9687 - val_accuracy: 1.0000 - val_loss: 0.0043 - val_precision: 1.0000 - val_recall: 1.0000\n",
      "Epoch 29/50\n",
      "\u001b[1m20/20\u001b[0m \u001b[32m━━━━━━━━━━━━━━━━━━━━\u001b[0m\u001b[37m\u001b[0m \u001b[1m0s\u001b[0m 7s/step - accuracy: 0.9720 - loss: 0.0417 - precision: 0.9769 - recall: 0.9609\n",
      "Epoch 29: val_loss did not improve from 0.00003\n",
      "\u001b[1m20/20\u001b[0m \u001b[32m━━━━━━━━━━━━━━━━━━━━\u001b[0m\u001b[37m\u001b[0m \u001b[1m154s\u001b[0m 7s/step - accuracy: 0.9721 - loss: 0.0415 - precision: 0.9771 - recall: 0.9612 - val_accuracy: 1.0000 - val_loss: 0.0021 - val_precision: 1.0000 - val_recall: 1.0000\n",
      "Epoch 30/50\n",
      "\u001b[1m20/20\u001b[0m \u001b[32m━━━━━━━━━━━━━━━━━━━━\u001b[0m\u001b[37m\u001b[0m \u001b[1m0s\u001b[0m 7s/step - accuracy: 0.9680 - loss: 0.0448 - precision: 0.9772 - recall: 0.9576\n",
      "Epoch 30: val_loss did not improve from 0.00003\n",
      "\u001b[1m20/20\u001b[0m \u001b[32m━━━━━━━━━━━━━━━━━━━━\u001b[0m\u001b[37m\u001b[0m \u001b[1m163s\u001b[0m 8s/step - accuracy: 0.9679 - loss: 0.0449 - precision: 0.9774 - recall: 0.9575 - val_accuracy: 1.0000 - val_loss: 0.0013 - val_precision: 1.0000 - val_recall: 1.0000\n",
      "Epoch 31/50\n",
      "\u001b[1m20/20\u001b[0m \u001b[32m━━━━━━━━━━━━━━━━━━━━\u001b[0m\u001b[37m\u001b[0m \u001b[1m0s\u001b[0m 7s/step - accuracy: 0.9700 - loss: 0.0410 - precision: 0.9803 - recall: 0.9615\n",
      "Epoch 31: val_loss did not improve from 0.00003\n",
      "\u001b[1m20/20\u001b[0m \u001b[32m━━━━━━━━━━━━━━━━━━━━\u001b[0m\u001b[37m\u001b[0m \u001b[1m161s\u001b[0m 8s/step - accuracy: 0.9700 - loss: 0.0409 - precision: 0.9804 - recall: 0.9617 - val_accuracy: 1.0000 - val_loss: 5.6568e-04 - val_precision: 1.0000 - val_recall: 1.0000\n",
      "Epoch 32/50\n",
      "\u001b[1m20/20\u001b[0m \u001b[32m━━━━━━━━━━━━━━━━━━━━\u001b[0m\u001b[37m\u001b[0m \u001b[1m0s\u001b[0m 7s/step - accuracy: 0.9718 - loss: 0.0433 - precision: 0.9851 - recall: 0.9603\n",
      "Epoch 32: val_loss did not improve from 0.00003\n",
      "\u001b[1m20/20\u001b[0m \u001b[32m━━━━━━━━━━━━━━━━━━━━\u001b[0m\u001b[37m\u001b[0m \u001b[1m161s\u001b[0m 8s/step - accuracy: 0.9718 - loss: 0.0432 - precision: 0.9852 - recall: 0.9604 - val_accuracy: 1.0000 - val_loss: 3.2365e-04 - val_precision: 1.0000 - val_recall: 1.0000\n",
      "Epoch 33/50\n",
      "\u001b[1m20/20\u001b[0m \u001b[32m━━━━━━━━━━━━━━━━━━━━\u001b[0m\u001b[37m\u001b[0m \u001b[1m0s\u001b[0m 7s/step - accuracy: 0.9694 - loss: 0.0370 - precision: 0.9866 - recall: 0.9655\n",
      "Epoch 33: val_loss did not improve from 0.00003\n",
      "\u001b[1m20/20\u001b[0m \u001b[32m━━━━━━━━━━━━━━━━━━━━\u001b[0m\u001b[37m\u001b[0m \u001b[1m161s\u001b[0m 8s/step - accuracy: 0.9692 - loss: 0.0372 - precision: 0.9865 - recall: 0.9653 - val_accuracy: 1.0000 - val_loss: 1.4420e-04 - val_precision: 1.0000 - val_recall: 1.0000\n",
      "Epoch 34/50\n",
      "\u001b[1m20/20\u001b[0m \u001b[32m━━━━━━━━━━━━━━━━━━━━\u001b[0m\u001b[37m\u001b[0m \u001b[1m0s\u001b[0m 7s/step - accuracy: 0.9653 - loss: 0.0465 - precision: 0.9724 - recall: 0.9560\n",
      "Epoch 34: val_loss did not improve from 0.00003\n",
      "\u001b[1m20/20\u001b[0m \u001b[32m━━━━━━━━━━━━━━━━━━━━\u001b[0m\u001b[37m\u001b[0m \u001b[1m161s\u001b[0m 8s/step - accuracy: 0.9656 - loss: 0.0462 - precision: 0.9728 - recall: 0.9563 - val_accuracy: 1.0000 - val_loss: 1.1061e-04 - val_precision: 1.0000 - val_recall: 1.0000\n",
      "Epoch 35/50\n",
      "\u001b[1m20/20\u001b[0m \u001b[32m━━━━━━━━━━━━━━━━━━━━\u001b[0m\u001b[37m\u001b[0m \u001b[1m0s\u001b[0m 7s/step - accuracy: 0.9786 - loss: 0.0330 - precision: 0.9866 - recall: 0.9739\n",
      "Epoch 35: val_loss did not improve from 0.00003\n",
      "\u001b[1m20/20\u001b[0m \u001b[32m━━━━━━━━━━━━━━━━━━━━\u001b[0m\u001b[37m\u001b[0m \u001b[1m161s\u001b[0m 8s/step - accuracy: 0.9787 - loss: 0.0330 - precision: 0.9866 - recall: 0.9740 - val_accuracy: 1.0000 - val_loss: 4.8455e-05 - val_precision: 1.0000 - val_recall: 1.0000\n",
      "Epoch 36/50\n",
      "\u001b[1m20/20\u001b[0m \u001b[32m━━━━━━━━━━━━━━━━━━━━\u001b[0m\u001b[37m\u001b[0m \u001b[1m0s\u001b[0m 7s/step - accuracy: 0.9768 - loss: 0.0383 - precision: 0.9826 - recall: 0.9644\n",
      "Epoch 36: val_loss did not improve from 0.00003\n",
      "\u001b[1m20/20\u001b[0m \u001b[32m━━━━━━━━━━━━━━━━━━━━\u001b[0m\u001b[37m\u001b[0m \u001b[1m155s\u001b[0m 7s/step - accuracy: 0.9765 - loss: 0.0385 - precision: 0.9825 - recall: 0.9642 - val_accuracy: 1.0000 - val_loss: 3.4479e-05 - val_precision: 1.0000 - val_recall: 1.0000\n",
      "Epoch 37/50\n",
      "\u001b[1m20/20\u001b[0m \u001b[32m━━━━━━━━━━━━━━━━━━━━\u001b[0m\u001b[37m\u001b[0m \u001b[1m0s\u001b[0m 7s/step - accuracy: 0.9751 - loss: 0.0376 - precision: 0.9842 - recall: 0.9653\n",
      "Epoch 37: val_loss did not improve from 0.00003\n",
      "\u001b[1m20/20\u001b[0m \u001b[32m━━━━━━━━━━━━━━━━━━━━\u001b[0m\u001b[37m\u001b[0m \u001b[1m156s\u001b[0m 7s/step - accuracy: 0.9751 - loss: 0.0376 - precision: 0.9842 - recall: 0.9652 - val_accuracy: 1.0000 - val_loss: 4.5698e-05 - val_precision: 1.0000 - val_recall: 1.0000\n",
      "Epoch 38/50\n",
      "\u001b[1m20/20\u001b[0m \u001b[32m━━━━━━━━━━━━━━━━━━━━\u001b[0m\u001b[37m\u001b[0m \u001b[1m0s\u001b[0m 7s/step - accuracy: 0.9709 - loss: 0.0403 - precision: 0.9832 - recall: 0.9613\n",
      "Epoch 38: val_loss did not improve from 0.00003\n",
      "\u001b[1m20/20\u001b[0m \u001b[32m━━━━━━━━━━━━━━━━━━━━\u001b[0m\u001b[37m\u001b[0m \u001b[1m154s\u001b[0m 7s/step - accuracy: 0.9711 - loss: 0.0402 - precision: 0.9833 - recall: 0.9614 - val_accuracy: 1.0000 - val_loss: 8.5590e-05 - val_precision: 1.0000 - val_recall: 1.0000\n",
      "Epoch 39/50\n",
      "\u001b[1m20/20\u001b[0m \u001b[32m━━━━━━━━━━━━━━━━━━━━\u001b[0m\u001b[37m\u001b[0m \u001b[1m0s\u001b[0m 7s/step - accuracy: 0.9593 - loss: 0.0555 - precision: 0.9766 - recall: 0.9465\n",
      "Epoch 39: val_loss did not improve from 0.00003\n",
      "\u001b[1m20/20\u001b[0m \u001b[32m━━━━━━━━━━━━━━━━━━━━\u001b[0m\u001b[37m\u001b[0m \u001b[1m154s\u001b[0m 7s/step - accuracy: 0.9595 - loss: 0.0551 - precision: 0.9767 - recall: 0.9468 - val_accuracy: 1.0000 - val_loss: 9.6880e-05 - val_precision: 1.0000 - val_recall: 1.0000\n",
      "Epoch 40/50\n",
      "\u001b[1m20/20\u001b[0m \u001b[32m━━━━━━━━━━━━━━━━━━━━\u001b[0m\u001b[37m\u001b[0m \u001b[1m0s\u001b[0m 7s/step - accuracy: 0.9819 - loss: 0.0277 - precision: 0.9915 - recall: 0.9748\n",
      "Epoch 40: val_loss did not improve from 0.00003\n",
      "\u001b[1m20/20\u001b[0m \u001b[32m━━━━━━━━━━━━━━━━━━━━\u001b[0m\u001b[37m\u001b[0m \u001b[1m153s\u001b[0m 7s/step - accuracy: 0.9820 - loss: 0.0277 - precision: 0.9916 - recall: 0.9748 - val_accuracy: 1.0000 - val_loss: 5.9822e-05 - val_precision: 1.0000 - val_recall: 1.0000\n",
      "Epoch 41/50\n",
      "\u001b[1m20/20\u001b[0m \u001b[32m━━━━━━━━━━━━━━━━━━━━\u001b[0m\u001b[37m\u001b[0m \u001b[1m0s\u001b[0m 7s/step - accuracy: 0.9774 - loss: 0.0351 - precision: 0.9863 - recall: 0.9664\n",
      "Epoch 41: val_loss did not improve from 0.00003\n",
      "\u001b[1m20/20\u001b[0m \u001b[32m━━━━━━━━━━━━━━━━━━━━\u001b[0m\u001b[37m\u001b[0m \u001b[1m154s\u001b[0m 7s/step - accuracy: 0.9774 - loss: 0.0351 - precision: 0.9864 - recall: 0.9663 - val_accuracy: 1.0000 - val_loss: 1.0069e-04 - val_precision: 1.0000 - val_recall: 1.0000\n",
      "Epoch 42/50\n",
      "\u001b[1m20/20\u001b[0m \u001b[32m━━━━━━━━━━━━━━━━━━━━\u001b[0m\u001b[37m\u001b[0m \u001b[1m0s\u001b[0m 7s/step - accuracy: 0.9776 - loss: 0.0317 - precision: 0.9887 - recall: 0.9711\n",
      "Epoch 42: val_loss did not improve from 0.00003\n",
      "\u001b[1m20/20\u001b[0m \u001b[32m━━━━━━━━━━━━━━━━━━━━\u001b[0m\u001b[37m\u001b[0m \u001b[1m154s\u001b[0m 7s/step - accuracy: 0.9777 - loss: 0.0317 - precision: 0.9888 - recall: 0.9710 - val_accuracy: 1.0000 - val_loss: 6.1638e-05 - val_precision: 1.0000 - val_recall: 1.0000\n",
      "Epoch 43/50\n",
      "\u001b[1m20/20\u001b[0m \u001b[32m━━━━━━━━━━━━━━━━━━━━\u001b[0m\u001b[37m\u001b[0m \u001b[1m0s\u001b[0m 7s/step - accuracy: 0.9641 - loss: 0.0455 - precision: 0.9811 - recall: 0.9565\n",
      "Epoch 43: val_loss did not improve from 0.00003\n",
      "\u001b[1m20/20\u001b[0m \u001b[32m━━━━━━━━━━━━━━━━━━━━\u001b[0m\u001b[37m\u001b[0m \u001b[1m153s\u001b[0m 7s/step - accuracy: 0.9642 - loss: 0.0454 - precision: 0.9811 - recall: 0.9566 - val_accuracy: 1.0000 - val_loss: 6.4701e-05 - val_precision: 1.0000 - val_recall: 1.0000\n",
      "Epoch 44/50\n",
      "\u001b[1m20/20\u001b[0m \u001b[32m━━━━━━━━━━━━━━━━━━━━\u001b[0m\u001b[37m\u001b[0m \u001b[1m0s\u001b[0m 7s/step - accuracy: 0.9606 - loss: 0.0537 - precision: 0.9800 - recall: 0.9497\n",
      "Epoch 44: val_loss did not improve from 0.00003\n",
      "\u001b[1m20/20\u001b[0m \u001b[32m━━━━━━━━━━━━━━━━━━━━\u001b[0m\u001b[37m\u001b[0m \u001b[1m154s\u001b[0m 7s/step - accuracy: 0.9607 - loss: 0.0536 - precision: 0.9800 - recall: 0.9498 - val_accuracy: 1.0000 - val_loss: 5.1527e-05 - val_precision: 1.0000 - val_recall: 1.0000\n",
      "Epoch 45/50\n",
      "\u001b[1m20/20\u001b[0m \u001b[32m━━━━━━━━━━━━━━━━━━━━\u001b[0m\u001b[37m\u001b[0m \u001b[1m0s\u001b[0m 7s/step - accuracy: 0.9760 - loss: 0.0571 - precision: 0.9857 - recall: 0.9600\n",
      "Epoch 45: val_loss did not improve from 0.00003\n",
      "\u001b[1m20/20\u001b[0m \u001b[32m━━━━━━━━━━━━━━━━━━━━\u001b[0m\u001b[37m\u001b[0m \u001b[1m155s\u001b[0m 7s/step - accuracy: 0.9761 - loss: 0.0575 - precision: 0.9858 - recall: 0.9603 - val_accuracy: 1.0000 - val_loss: 4.8289e-04 - val_precision: 1.0000 - val_recall: 1.0000\n",
      "Epoch 46/50\n",
      "\u001b[1m20/20\u001b[0m \u001b[32m━━━━━━━━━━━━━━━━━━━━\u001b[0m\u001b[37m\u001b[0m \u001b[1m0s\u001b[0m 7s/step - accuracy: 0.9702 - loss: 0.0542 - precision: 0.9920 - recall: 0.9553\n",
      "Epoch 46: val_loss did not improve from 0.00003\n",
      "\u001b[1m20/20\u001b[0m \u001b[32m━━━━━━━━━━━━━━━━━━━━\u001b[0m\u001b[37m\u001b[0m \u001b[1m155s\u001b[0m 7s/step - accuracy: 0.9701 - loss: 0.0542 - precision: 0.9920 - recall: 0.9552 - val_accuracy: 1.0000 - val_loss: 0.0010 - val_precision: 1.0000 - val_recall: 1.0000\n",
      "Epoch 47/50\n",
      "\u001b[1m20/20\u001b[0m \u001b[32m━━━━━━━━━━━━━━━━━━━━\u001b[0m\u001b[37m\u001b[0m \u001b[1m0s\u001b[0m 7s/step - accuracy: 0.9737 - loss: 0.0401 - precision: 0.9861 - recall: 0.9661\n",
      "Epoch 47: val_loss did not improve from 0.00003\n",
      "\u001b[1m20/20\u001b[0m \u001b[32m━━━━━━━━━━━━━━━━━━━━\u001b[0m\u001b[37m\u001b[0m \u001b[1m154s\u001b[0m 7s/step - accuracy: 0.9738 - loss: 0.0401 - precision: 0.9861 - recall: 0.9661 - val_accuracy: 1.0000 - val_loss: 2.6952e-04 - val_precision: 1.0000 - val_recall: 1.0000\n",
      "Epoch 48/50\n",
      "\u001b[1m20/20\u001b[0m \u001b[32m━━━━━━━━━━━━━━━━━━━━\u001b[0m\u001b[37m\u001b[0m \u001b[1m0s\u001b[0m 7s/step - accuracy: 0.9714 - loss: 0.0501 - precision: 0.9822 - recall: 0.9624\n",
      "Epoch 48: val_loss did not improve from 0.00003\n",
      "\u001b[1m20/20\u001b[0m \u001b[32m━━━━━━━━━━━━━━━━━━━━\u001b[0m\u001b[37m\u001b[0m \u001b[1m155s\u001b[0m 7s/step - accuracy: 0.9715 - loss: 0.0498 - precision: 0.9823 - recall: 0.9624 - val_accuracy: 1.0000 - val_loss: 2.7686e-05 - val_precision: 1.0000 - val_recall: 1.0000\n",
      "Epoch 49/50\n",
      "\u001b[1m20/20\u001b[0m \u001b[32m━━━━━━━━━━━━━━━━━━━━\u001b[0m\u001b[37m\u001b[0m \u001b[1m0s\u001b[0m 7s/step - accuracy: 0.9757 - loss: 0.0388 - precision: 0.9823 - recall: 0.9647\n",
      "Epoch 49: val_loss improved from 0.00003 to 0.00001, saving model to ./models/Baru/MobileNetV2-HSV.keras\n",
      "\u001b[1m20/20\u001b[0m \u001b[32m━━━━━━━━━━━━━━━━━━━━\u001b[0m\u001b[37m\u001b[0m \u001b[1m157s\u001b[0m 7s/step - accuracy: 0.9756 - loss: 0.0390 - precision: 0.9824 - recall: 0.9646 - val_accuracy: 1.0000 - val_loss: 8.8777e-06 - val_precision: 1.0000 - val_recall: 1.0000\n",
      "Epoch 50/50\n",
      "\u001b[1m20/20\u001b[0m \u001b[32m━━━━━━━━━━━━━━━━━━━━\u001b[0m\u001b[37m\u001b[0m \u001b[1m0s\u001b[0m 7s/step - accuracy: 0.9693 - loss: 0.0436 - precision: 0.9841 - recall: 0.9606\n",
      "Epoch 50: val_loss improved from 0.00001 to 0.00000, saving model to ./models/Baru/MobileNetV2-HSV.keras\n",
      "\u001b[1m20/20\u001b[0m \u001b[32m━━━━━━━━━━━━━━━━━━━━\u001b[0m\u001b[37m\u001b[0m \u001b[1m155s\u001b[0m 7s/step - accuracy: 0.9695 - loss: 0.0434 - precision: 0.9844 - recall: 0.9608 - val_accuracy: 1.0000 - val_loss: 4.1056e-06 - val_precision: 1.0000 - val_recall: 1.0000\n"
     ]
    },
    {
     "name": "stderr",
     "output_type": "stream",
     "text": [
      "WARNING:absl:You are saving your model as an HDF5 file via `model.save()` or `keras.saving.save_model(model)`. This file format is considered legacy. We recommend using instead the native Keras format, e.g. `model.save('my_model.keras')` or `keras.saving.save_model(model, 'my_model.keras')`. \n"
     ]
    }
   ],
   "source": [
    "# Checkpoint\n",
    "filepath = \"./models/Baru/MobileNetV2-HSV.keras\"\n",
    "checkpoint = ModelCheckpoint(filepath, monitor='val_loss', mode='min', save_best_only=True, verbose=1)\n",
    "callback_list = [checkpoint]\n",
    "\n",
    "# Train the model\n",
    "history = model.fit(train_generator,\n",
    "                    validation_data=validation_generator,\n",
    "                    epochs=50,\n",
    "                    callbacks=callback_list)\n",
    "\n",
    "# Save the final model\n",
    "model.save(\"./models/Baru/MobileNetV2-HSV.h5\")"
   ]
  },
  {
   "cell_type": "code",
   "execution_count": 6,
   "metadata": {},
   "outputs": [
    {
     "data": {
      "image/png": "[encoded data removed]",
      "text/plain": [
       "<Figure size 1008x432 with 2 Axes>"
      ]
     },
     "metadata": {
      "needs_background": "light"
     },
     "output_type": "display_data"
    }
   ],
   "source": [
    "# Plotting\n",
    "loss = history.history['loss']\n",
    "val_loss = history.history['val_loss']\n",
    "acc = history.history['accuracy']\n",
    "val_acc = history.history['val_accuracy']\n",
    "epochs = range(1, len(loss) + 1)\n",
    "\n",
    "fig, (ax1, ax2) = plt.subplots(1, 2, figsize=(14, 6))\n",
    "\n",
    "# Plotting Training and Validation Loss\n",
    "ax1.plot(epochs, loss, 'y', label='Training loss')\n",
    "ax1.plot(epochs, val_loss, 'r', label='Validation loss')\n",
    "ax1.set_title('Training and Validation Loss')\n",
    "ax1.set_xlabel('Epochs')\n",
    "ax1.set_ylabel('Loss')\n",
    "ax1.legend()\n",
    "\n",
    "# Plotting Training and Validation Accuracy\n",
    "ax2.plot(epochs, acc, 'y', label='Training accuracy')\n",
    "ax2.plot(epochs, val_acc, 'r', label='Validation accuracy')\n",
    "ax2.set_title('Training and Validation Accuracy')\n",
    "ax2.set_xlabel('Epochs')\n",
    "ax2.set_ylabel('Accuracy')\n",
    "ax2.legend()\n",
    "\n",
    "plt.show()"
   ]
  }
 ],
 "metadata": {
  "kernelspec": {
   "display_name": "Python 3",
   "language": "python",
   "name": "python3"
  },
  "language_info": {
   "codemirror_mode": {
    "name": "ipython",
    "version": 3
   },
   "file_extension": ".py",
   "mimetype": "text/x-python",
   "name": "python",
   "nbconvert_exporter": "python",
   "pygments_lexer": "ipython3",
   "version": "3.9.2"
  }
 },
 "nbformat": 4,
 "nbformat_minor": 2
}
