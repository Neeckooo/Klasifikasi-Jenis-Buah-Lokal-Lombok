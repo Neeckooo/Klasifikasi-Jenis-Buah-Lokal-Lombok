{
 "cells": [
  {
   "cell_type": "code",
   "execution_count": 1,
   "metadata": {},
   "outputs": [],
   "source": [
    "import numpy as np\n",
    "import matplotlib.pyplot as plt\n",
    "import tensorflow as tf\n",
    "from tensorflow.keras.preprocessing.image import ImageDataGenerator\n",
    "from tensorflow.keras.applications import ResNet50\n",
    "from tensorflow.keras.layers import Dense, Flatten, Dropout\n",
    "from tensorflow.keras.models import Sequential\n",
    "from tensorflow.keras.callbacks import ModelCheckpoint"
   ]
  },
  {
   "cell_type": "code",
   "execution_count": 2,
   "metadata": {},
   "outputs": [],
   "source": [
    "# Path ke direktori dataset\n",
    "train_dir = \"./dataset/rgb_masking/train\"\n",
    "validation_dir = \"./dataset/rgb/val\""
   ]
  },
  {
   "cell_type": "code",
   "execution_count": 3,
   "metadata": {},
   "outputs": [
    {
     "name": "stdout",
     "output_type": "stream",
     "text": [
      "Found 1252 images belonging to 3 classes.\n",
      "Found 315 images belonging to 3 classes.\n"
     ]
    }
   ],
   "source": [
    "# Parameter augmentasi gambar\n",
    "train_datagen = ImageDataGenerator(\n",
    "    rescale=1.0 / 255,\n",
    "    rotation_range=40,\n",
    "    width_shift_range=0.2,\n",
    "    height_shift_range=0.2,\n",
    "    shear_range=0.2,\n",
    "    zoom_range=0.2,\n",
    "    horizontal_flip=True,\n",
    "    fill_mode='nearest'\n",
    ")\n",
    "\n",
    "test_datagen = ImageDataGenerator(rescale=1.0 / 255)\n",
    "\n",
    "# Load data latih\n",
    "train_generator = train_datagen.flow_from_directory(\n",
    "    train_dir,\n",
    "    target_size=(300, 300),\n",
    "    batch_size=64,\n",
    "    class_mode='categorical'\n",
    ")\n",
    "\n",
    "# Load data validasi\n",
    "validation_generator = test_datagen.flow_from_directory(\n",
    "    validation_dir,\n",
    "    target_size=(300, 300),\n",
    "    batch_size=64,\n",
    "    class_mode='categorical'\n",
    ")"
   ]
  },
  {
   "cell_type": "code",
   "execution_count": 4,
   "metadata": {},
   "outputs": [
    {
     "data": {
      "text/html": [
       "<pre style=\"white-space:pre;overflow-x:auto;line-height:normal;font-family:Menlo,'DejaVu Sans Mono',consolas,'Courier New',monospace\"><span style=\"font-weight: bold\">Model: \"sequential\"</span>\n",
       "</pre>\n"
      ],
      "text/plain": [
       "\u001b[1mModel: \"sequential\"\u001b[0m\n"
      ]
     },
     "metadata": {},
     "output_type": "display_data"
    },
    {
     "data": {
      "text/html": [
       "<pre style=\"white-space:pre;overflow-x:auto;line-height:normal;font-family:Menlo,'DejaVu Sans Mono',consolas,'Courier New',monospace\">┏━━━━━━━━━━━━━━━━━━━━━━━━━━━━━━━━━┳━━━━━━━━━━━━━━━━━━━━━━━━┳━━━━━━━━━━━━━━━┓\n",
       "┃<span style=\"font-weight: bold\"> Layer (type)                    </span>┃<span style=\"font-weight: bold\"> Output Shape           </span>┃<span style=\"font-weight: bold\">       Param # </span>┃\n",
       "┡━━━━━━━━━━━━━━━━━━━━━━━━━━━━━━━━━╇━━━━━━━━━━━━━━━━━━━━━━━━╇━━━━━━━━━━━━━━━┩\n",
       "│ resnet50 (<span style=\"color: #0087ff; text-decoration-color: #0087ff\">Functional</span>)           │ ?                      │    <span style=\"color: #00af00; text-decoration-color: #00af00\">23,587,712</span> │\n",
       "├─────────────────────────────────┼────────────────────────┼───────────────┤\n",
       "│ flatten (<span style=\"color: #0087ff; text-decoration-color: #0087ff\">Flatten</span>)               │ ?                      │   <span style=\"color: #00af00; text-decoration-color: #00af00\">0</span> (unbuilt) │\n",
       "├─────────────────────────────────┼────────────────────────┼───────────────┤\n",
       "│ dropout (<span style=\"color: #0087ff; text-decoration-color: #0087ff\">Dropout</span>)               │ ?                      │   <span style=\"color: #00af00; text-decoration-color: #00af00\">0</span> (unbuilt) │\n",
       "├─────────────────────────────────┼────────────────────────┼───────────────┤\n",
       "│ dense (<span style=\"color: #0087ff; text-decoration-color: #0087ff\">Dense</span>)                   │ ?                      │   <span style=\"color: #00af00; text-decoration-color: #00af00\">0</span> (unbuilt) │\n",
       "├─────────────────────────────────┼────────────────────────┼───────────────┤\n",
       "│ dropout_1 (<span style=\"color: #0087ff; text-decoration-color: #0087ff\">Dropout</span>)             │ ?                      │   <span style=\"color: #00af00; text-decoration-color: #00af00\">0</span> (unbuilt) │\n",
       "├─────────────────────────────────┼────────────────────────┼───────────────┤\n",
       "│ dense_1 (<span style=\"color: #0087ff; text-decoration-color: #0087ff\">Dense</span>)                 │ ?                      │   <span style=\"color: #00af00; text-decoration-color: #00af00\">0</span> (unbuilt) │\n",
       "└─────────────────────────────────┴────────────────────────┴───────────────┘\n",
       "</pre>\n"
      ],
      "text/plain": [
       "┏━━━━━━━━━━━━━━━━━━━━━━━━━━━━━━━━━┳━━━━━━━━━━━━━━━━━━━━━━━━┳━━━━━━━━━━━━━━━┓\n",
       "┃\u001b[1m \u001b[0m\u001b[1mLayer (type)                   \u001b[0m\u001b[1m \u001b[0m┃\u001b[1m \u001b[0m\u001b[1mOutput Shape          \u001b[0m\u001b[1m \u001b[0m┃\u001b[1m \u001b[0m\u001b[1m      Param #\u001b[0m\u001b[1m \u001b[0m┃\n",
       "┡━━━━━━━━━━━━━━━━━━━━━━━━━━━━━━━━━╇━━━━━━━━━━━━━━━━━━━━━━━━╇━━━━━━━━━━━━━━━┩\n",
       "│ resnet50 (\u001b[38;5;33mFunctional\u001b[0m)           │ ?                      │    \u001b[38;5;34m23,587,712\u001b[0m │\n",
       "├─────────────────────────────────┼────────────────────────┼───────────────┤\n",
       "│ flatten (\u001b[38;5;33mFlatten\u001b[0m)               │ ?                      │   \u001b[38;5;34m0\u001b[0m (unbuilt) │\n",
       "├─────────────────────────────────┼────────────────────────┼───────────────┤\n",
       "│ dropout (\u001b[38;5;33mDropout\u001b[0m)               │ ?                      │   \u001b[38;5;34m0\u001b[0m (unbuilt) │\n",
       "├─────────────────────────────────┼────────────────────────┼───────────────┤\n",
       "│ dense (\u001b[38;5;33mDense\u001b[0m)                   │ ?                      │   \u001b[38;5;34m0\u001b[0m (unbuilt) │\n",
       "├─────────────────────────────────┼────────────────────────┼───────────────┤\n",
       "│ dropout_1 (\u001b[38;5;33mDropout\u001b[0m)             │ ?                      │   \u001b[38;5;34m0\u001b[0m (unbuilt) │\n",
       "├─────────────────────────────────┼────────────────────────┼───────────────┤\n",
       "│ dense_1 (\u001b[38;5;33mDense\u001b[0m)                 │ ?                      │   \u001b[38;5;34m0\u001b[0m (unbuilt) │\n",
       "└─────────────────────────────────┴────────────────────────┴───────────────┘\n"
      ]
     },
     "metadata": {},
     "output_type": "display_data"
    },
    {
     "data": {
      "text/html": [
       "<pre style=\"white-space:pre;overflow-x:auto;line-height:normal;font-family:Menlo,'DejaVu Sans Mono',consolas,'Courier New',monospace\"><span style=\"font-weight: bold\"> Total params: </span><span style=\"color: #00af00; text-decoration-color: #00af00\">23,587,712</span> (89.98 MB)\n",
       "</pre>\n"
      ],
      "text/plain": [
       "\u001b[1m Total params: \u001b[0m\u001b[38;5;34m23,587,712\u001b[0m (89.98 MB)\n"
      ]
     },
     "metadata": {},
     "output_type": "display_data"
    },
    {
     "data": {
      "text/html": [
       "<pre style=\"white-space:pre;overflow-x:auto;line-height:normal;font-family:Menlo,'DejaVu Sans Mono',consolas,'Courier New',monospace\"><span style=\"font-weight: bold\"> Trainable params: </span><span style=\"color: #00af00; text-decoration-color: #00af00\">23,534,592</span> (89.78 MB)\n",
       "</pre>\n"
      ],
      "text/plain": [
       "\u001b[1m Trainable params: \u001b[0m\u001b[38;5;34m23,534,592\u001b[0m (89.78 MB)\n"
      ]
     },
     "metadata": {},
     "output_type": "display_data"
    },
    {
     "data": {
      "text/html": [
       "<pre style=\"white-space:pre;overflow-x:auto;line-height:normal;font-family:Menlo,'DejaVu Sans Mono',consolas,'Courier New',monospace\"><span style=\"font-weight: bold\"> Non-trainable params: </span><span style=\"color: #00af00; text-decoration-color: #00af00\">53,120</span> (207.50 KB)\n",
       "</pre>\n"
      ],
      "text/plain": [
       "\u001b[1m Non-trainable params: \u001b[0m\u001b[38;5;34m53,120\u001b[0m (207.50 KB)\n"
      ]
     },
     "metadata": {},
     "output_type": "display_data"
    }
   ],
   "source": [
    "# Define the model\n",
    "base_model = ResNet50(weights='imagenet', include_top=False, input_shape=(300, 300, 3))\n",
    "model = Sequential([\n",
    "    base_model,\n",
    "    Flatten(),\n",
    "    Dropout(0.5),\n",
    "    Dense(16, activation='relu'),\n",
    "    Dropout(0.5),\n",
    "    Dense(3, activation='softmax')\n",
    "])\n",
    "\n",
    "model.summary()\n",
    "\n",
    "# Compile the model\n",
    "model.compile(optimizer=tf.keras.optimizers.Adam(learning_rate=0.0001),\n",
    "              loss='categorical_crossentropy',\n",
    "              metrics=['accuracy', tf.keras.metrics.Precision(), tf.keras.metrics.Recall()])"
   ]
  },
  {
   "cell_type": "code",
   "execution_count": 5,
   "metadata": {},
   "outputs": [
    {
     "name": "stdout",
     "output_type": "stream",
     "text": [
      "Epoch 1/50\n"
     ]
    },
    {
     "name": "stderr",
     "output_type": "stream",
     "text": [
      "c:\\Users\\CATUR WARGA COMPUTER\\AppData\\Local\\Programs\\Python\\Python39\\lib\\site-packages\\keras\\src\\trainers\\data_adapters\\py_dataset_adapter.py:121: UserWarning: Your `PyDataset` class should call `super().__init__(**kwargs)` in its constructor. `**kwargs` can include `workers`, `use_multiprocessing`, `max_queue_size`. Do not pass these arguments to `fit()`, as they will be ignored.\n",
      "  self._warn_if_super_not_called()\n"
     ]
    },
    {
     "name": "stdout",
     "output_type": "stream",
     "text": [
      "\u001b[1m20/20\u001b[0m \u001b[32m━━━━━━━━━━━━━━━━━━━━\u001b[0m\u001b[37m\u001b[0m \u001b[1m0s\u001b[0m 18s/step - accuracy: 0.6305 - loss: 1.1255 - precision: 0.6869 - recall: 0.5793 \n",
      "Epoch 1: val_loss improved from inf to 3.60282, saving model to ./models/Baru/ResNet50-RGB.keras\n",
      "\u001b[1m20/20\u001b[0m \u001b[32m━━━━━━━━━━━━━━━━━━━━\u001b[0m\u001b[37m\u001b[0m \u001b[1m426s\u001b[0m 19s/step - accuracy: 0.6374 - loss: 1.0983 - precision: 0.6944 - recall: 0.5867 - val_accuracy: 0.3333 - val_loss: 3.6028 - val_precision: 0.3333 - val_recall: 0.3333\n",
      "Epoch 2/50\n",
      "\u001b[1m20/20\u001b[0m \u001b[32m━━━━━━━━━━━━━━━━━━━━\u001b[0m\u001b[37m\u001b[0m \u001b[1m0s\u001b[0m 17s/step - accuracy: 0.9408 - loss: 0.1504 - precision: 0.9601 - recall: 0.9079 \n",
      "Epoch 2: val_loss did not improve from 3.60282\n",
      "\u001b[1m20/20\u001b[0m \u001b[32m━━━━━━━━━━━━━━━━━━━━\u001b[0m\u001b[37m\u001b[0m \u001b[1m371s\u001b[0m 18s/step - accuracy: 0.9412 - loss: 0.1498 - precision: 0.9607 - recall: 0.9080 - val_accuracy: 0.3333 - val_loss: 7.9786 - val_precision: 0.3333 - val_recall: 0.3333\n",
      "Epoch 3/50\n",
      "\u001b[1m20/20\u001b[0m \u001b[32m━━━━━━━━━━━━━━━━━━━━\u001b[0m\u001b[37m\u001b[0m \u001b[1m0s\u001b[0m 17s/step - accuracy: 0.9587 - loss: 0.1348 - precision: 0.9916 - recall: 0.9022 \n",
      "Epoch 3: val_loss did not improve from 3.60282\n",
      "\u001b[1m20/20\u001b[0m \u001b[32m━━━━━━━━━━━━━━━━━━━━\u001b[0m\u001b[37m\u001b[0m \u001b[1m373s\u001b[0m 18s/step - accuracy: 0.9584 - loss: 0.1344 - precision: 0.9915 - recall: 0.9023 - val_accuracy: 0.3333 - val_loss: 5.8962 - val_precision: 0.3333 - val_recall: 0.3333\n",
      "Epoch 4/50\n",
      "\u001b[1m20/20\u001b[0m \u001b[32m━━━━━━━━━━━━━━━━━━━━\u001b[0m\u001b[37m\u001b[0m \u001b[1m0s\u001b[0m 17s/step - accuracy: 0.9651 - loss: 0.0843 - precision: 0.9929 - recall: 0.9289 \n",
      "Epoch 4: val_loss did not improve from 3.60282\n",
      "\u001b[1m20/20\u001b[0m \u001b[32m━━━━━━━━━━━━━━━━━━━━\u001b[0m\u001b[37m\u001b[0m \u001b[1m370s\u001b[0m 18s/step - accuracy: 0.9652 - loss: 0.0844 - precision: 0.9930 - recall: 0.9287 - val_accuracy: 0.3333 - val_loss: 6.7501 - val_precision: 0.3333 - val_recall: 0.3333\n",
      "Epoch 5/50\n",
      "\u001b[1m20/20\u001b[0m \u001b[32m━━━━━━━━━━━━━━━━━━━━\u001b[0m\u001b[37m\u001b[0m \u001b[1m0s\u001b[0m 17s/step - accuracy: 0.9749 - loss: 0.0767 - precision: 0.9980 - recall: 0.9325 \n",
      "Epoch 5: val_loss did not improve from 3.60282\n",
      "\u001b[1m20/20\u001b[0m \u001b[32m━━━━━━━━━━━━━━━━━━━━\u001b[0m\u001b[37m\u001b[0m \u001b[1m370s\u001b[0m 18s/step - accuracy: 0.9747 - loss: 0.0768 - precision: 0.9979 - recall: 0.9324 - val_accuracy: 0.3333 - val_loss: 6.4357 - val_precision: 0.3333 - val_recall: 0.3333\n",
      "Epoch 6/50\n",
      "\u001b[1m20/20\u001b[0m \u001b[32m━━━━━━━━━━━━━━━━━━━━\u001b[0m\u001b[37m\u001b[0m \u001b[1m0s\u001b[0m 17s/step - accuracy: 0.9690 - loss: 0.0830 - precision: 1.0000 - recall: 0.9262 \n",
      "Epoch 6: val_loss did not improve from 3.60282\n",
      "\u001b[1m20/20\u001b[0m \u001b[32m━━━━━━━━━━━━━━━━━━━━\u001b[0m\u001b[37m\u001b[0m \u001b[1m370s\u001b[0m 18s/step - accuracy: 0.9691 - loss: 0.0830 - precision: 1.0000 - recall: 0.9262 - val_accuracy: 0.3333 - val_loss: 5.5633 - val_precision: 0.3333 - val_recall: 0.3333\n",
      "Epoch 7/50\n",
      "\u001b[1m20/20\u001b[0m \u001b[32m━━━━━━━━━━━━━━━━━━━━\u001b[0m\u001b[37m\u001b[0m \u001b[1m0s\u001b[0m 18s/step - accuracy: 0.9625 - loss: 0.0858 - precision: 0.9957 - recall: 0.9221 \n",
      "Epoch 7: val_loss did not improve from 3.60282\n",
      "\u001b[1m20/20\u001b[0m \u001b[32m━━━━━━━━━━━━━━━━━━━━\u001b[0m\u001b[37m\u001b[0m \u001b[1m374s\u001b[0m 18s/step - accuracy: 0.9625 - loss: 0.0861 - precision: 0.9957 - recall: 0.9219 - val_accuracy: 0.3333 - val_loss: 6.5148 - val_precision: 0.3333 - val_recall: 0.3333\n",
      "Epoch 8/50\n",
      "\u001b[1m20/20\u001b[0m \u001b[32m━━━━━━━━━━━━━━━━━━━━\u001b[0m\u001b[37m\u001b[0m \u001b[1m0s\u001b[0m 17s/step - accuracy: 0.9690 - loss: 0.0781 - precision: 0.9968 - recall: 0.9288 \n",
      "Epoch 8: val_loss did not improve from 3.60282\n",
      "\u001b[1m20/20\u001b[0m \u001b[32m━━━━━━━━━━━━━━━━━━━━\u001b[0m\u001b[37m\u001b[0m \u001b[1m372s\u001b[0m 18s/step - accuracy: 0.9690 - loss: 0.0779 - precision: 0.9969 - recall: 0.9290 - val_accuracy: 0.3333 - val_loss: 8.0274 - val_precision: 0.3333 - val_recall: 0.3333\n",
      "Epoch 9/50\n",
      "\u001b[1m20/20\u001b[0m \u001b[32m━━━━━━━━━━━━━━━━━━━━\u001b[0m\u001b[37m\u001b[0m \u001b[1m0s\u001b[0m 17s/step - accuracy: 0.9658 - loss: 0.0647 - precision: 0.9971 - recall: 0.9415 \n",
      "Epoch 9: val_loss did not improve from 3.60282\n",
      "\u001b[1m20/20\u001b[0m \u001b[32m━━━━━━━━━━━━━━━━━━━━\u001b[0m\u001b[37m\u001b[0m \u001b[1m371s\u001b[0m 18s/step - accuracy: 0.9657 - loss: 0.0650 - precision: 0.9969 - recall: 0.9412 - val_accuracy: 0.3333 - val_loss: 7.5189 - val_precision: 0.3333 - val_recall: 0.3333\n",
      "Epoch 10/50\n",
      "\u001b[1m20/20\u001b[0m \u001b[32m━━━━━━━━━━━━━━━━━━━━\u001b[0m\u001b[37m\u001b[0m \u001b[1m0s\u001b[0m 18s/step - accuracy: 0.9576 - loss: 0.0735 - precision: 0.9969 - recall: 0.9328 \n",
      "Epoch 10: val_loss did not improve from 3.60282\n",
      "\u001b[1m20/20\u001b[0m \u001b[32m━━━━━━━━━━━━━━━━━━━━\u001b[0m\u001b[37m\u001b[0m \u001b[1m373s\u001b[0m 18s/step - accuracy: 0.9578 - loss: 0.0735 - precision: 0.9968 - recall: 0.9328 - val_accuracy: 0.3333 - val_loss: 7.0163 - val_precision: 0.3333 - val_recall: 0.3333\n",
      "Epoch 11/50\n",
      "\u001b[1m20/20\u001b[0m \u001b[32m━━━━━━━━━━━━━━━━━━━━\u001b[0m\u001b[37m\u001b[0m \u001b[1m0s\u001b[0m 17s/step - accuracy: 0.9619 - loss: 0.0934 - precision: 0.9931 - recall: 0.9185 \n",
      "Epoch 11: val_loss did not improve from 3.60282\n",
      "\u001b[1m20/20\u001b[0m \u001b[32m━━━━━━━━━━━━━━━━━━━━\u001b[0m\u001b[37m\u001b[0m \u001b[1m372s\u001b[0m 18s/step - accuracy: 0.9620 - loss: 0.0930 - precision: 0.9932 - recall: 0.9187 - val_accuracy: 0.3333 - val_loss: 6.2160 - val_precision: 0.3333 - val_recall: 0.3333\n",
      "Epoch 12/50\n",
      "\u001b[1m20/20\u001b[0m \u001b[32m━━━━━━━━━━━━━━━━━━━━\u001b[0m\u001b[37m\u001b[0m \u001b[1m0s\u001b[0m 17s/step - accuracy: 0.9663 - loss: 0.0791 - precision: 0.9982 - recall: 0.9324 \n",
      "Epoch 12: val_loss did not improve from 3.60282\n",
      "\u001b[1m20/20\u001b[0m \u001b[32m━━━━━━━━━━━━━━━━━━━━\u001b[0m\u001b[37m\u001b[0m \u001b[1m373s\u001b[0m 18s/step - accuracy: 0.9663 - loss: 0.0792 - precision: 0.9982 - recall: 0.9323 - val_accuracy: 0.3333 - val_loss: 10.3309 - val_precision: 0.3333 - val_recall: 0.3333\n",
      "Epoch 13/50\n",
      "\u001b[1m20/20\u001b[0m \u001b[32m━━━━━━━━━━━━━━━━━━━━\u001b[0m\u001b[37m\u001b[0m \u001b[1m0s\u001b[0m 17s/step - accuracy: 0.9668 - loss: 0.0744 - precision: 0.9938 - recall: 0.9360 \n",
      "Epoch 13: val_loss did not improve from 3.60282\n",
      "\u001b[1m20/20\u001b[0m \u001b[32m━━━━━━━━━━━━━━━━━━━━\u001b[0m\u001b[37m\u001b[0m \u001b[1m372s\u001b[0m 18s/step - accuracy: 0.9670 - loss: 0.0744 - precision: 0.9940 - recall: 0.9359 - val_accuracy: 0.3333 - val_loss: 9.7914 - val_precision: 0.3333 - val_recall: 0.3333\n",
      "Epoch 14/50\n",
      "\u001b[1m20/20\u001b[0m \u001b[32m━━━━━━━━━━━━━━━━━━━━\u001b[0m\u001b[37m\u001b[0m \u001b[1m0s\u001b[0m 17s/step - accuracy: 0.9471 - loss: 0.0951 - precision: 0.9949 - recall: 0.9133 \n",
      "Epoch 14: val_loss did not improve from 3.60282\n",
      "\u001b[1m20/20\u001b[0m \u001b[32m━━━━━━━━━━━━━━━━━━━━\u001b[0m\u001b[37m\u001b[0m \u001b[1m371s\u001b[0m 18s/step - accuracy: 0.9479 - loss: 0.0943 - precision: 0.9949 - recall: 0.9140 - val_accuracy: 0.3333 - val_loss: 9.3374 - val_precision: 0.3333 - val_recall: 0.3333\n",
      "Epoch 15/50\n",
      "\u001b[1m20/20\u001b[0m \u001b[32m━━━━━━━━━━━━━━━━━━━━\u001b[0m\u001b[37m\u001b[0m \u001b[1m0s\u001b[0m 17s/step - accuracy: 0.9604 - loss: 0.0942 - precision: 1.0000 - recall: 0.9144 \n",
      "Epoch 15: val_loss did not improve from 3.60282\n",
      "\u001b[1m20/20\u001b[0m \u001b[32m━━━━━━━━━━━━━━━━━━━━\u001b[0m\u001b[37m\u001b[0m \u001b[1m371s\u001b[0m 18s/step - accuracy: 0.9605 - loss: 0.0939 - precision: 1.0000 - recall: 0.9147 - val_accuracy: 0.3333 - val_loss: 9.7548 - val_precision: 0.3333 - val_recall: 0.3333\n",
      "Epoch 16/50\n",
      "\u001b[1m20/20\u001b[0m \u001b[32m━━━━━━━━━━━━━━━━━━━━\u001b[0m\u001b[37m\u001b[0m \u001b[1m0s\u001b[0m 17s/step - accuracy: 0.9639 - loss: 0.0772 - precision: 0.9995 - recall: 0.9290 \n",
      "Epoch 16: val_loss did not improve from 3.60282\n",
      "\u001b[1m20/20\u001b[0m \u001b[32m━━━━━━━━━━━━━━━━━━━━\u001b[0m\u001b[37m\u001b[0m \u001b[1m374s\u001b[0m 18s/step - accuracy: 0.9635 - loss: 0.0776 - precision: 0.9995 - recall: 0.9287 - val_accuracy: 0.3333 - val_loss: 9.2627 - val_precision: 0.3333 - val_recall: 0.3333\n",
      "Epoch 17/50\n",
      "\u001b[1m20/20\u001b[0m \u001b[32m━━━━━━━━━━━━━━━━━━━━\u001b[0m\u001b[37m\u001b[0m \u001b[1m0s\u001b[0m 17s/step - accuracy: 0.9533 - loss: 0.0932 - precision: 0.9929 - recall: 0.9200 \n",
      "Epoch 17: val_loss did not improve from 3.60282\n",
      "\u001b[1m20/20\u001b[0m \u001b[32m━━━━━━━━━━━━━━━━━━━━\u001b[0m\u001b[37m\u001b[0m \u001b[1m371s\u001b[0m 18s/step - accuracy: 0.9535 - loss: 0.0927 - precision: 0.9928 - recall: 0.9203 - val_accuracy: 0.3333 - val_loss: 9.3867 - val_precision: 0.3333 - val_recall: 0.3333\n",
      "Epoch 18/50\n",
      "\u001b[1m20/20\u001b[0m \u001b[32m━━━━━━━━━━━━━━━━━━━━\u001b[0m\u001b[37m\u001b[0m \u001b[1m0s\u001b[0m 17s/step - accuracy: 0.9662 - loss: 0.0699 - precision: 0.9900 - recall: 0.9348 \n",
      "Epoch 18: val_loss did not improve from 3.60282\n",
      "\u001b[1m20/20\u001b[0m \u001b[32m━━━━━━━━━━━━━━━━━━━━\u001b[0m\u001b[37m\u001b[0m \u001b[1m372s\u001b[0m 18s/step - accuracy: 0.9664 - loss: 0.0700 - precision: 0.9903 - recall: 0.9348 - val_accuracy: 0.3333 - val_loss: 9.0917 - val_precision: 0.3333 - val_recall: 0.3333\n",
      "Epoch 19/50\n",
      "\u001b[1m20/20\u001b[0m \u001b[32m━━━━━━━━━━━━━━━━━━━━\u001b[0m\u001b[37m\u001b[0m \u001b[1m0s\u001b[0m 17s/step - accuracy: 0.9639 - loss: 0.0664 - precision: 0.9917 - recall: 0.9384 \n",
      "Epoch 19: val_loss did not improve from 3.60282\n",
      "\u001b[1m20/20\u001b[0m \u001b[32m━━━━━━━━━━━━━━━━━━━━\u001b[0m\u001b[37m\u001b[0m \u001b[1m371s\u001b[0m 18s/step - accuracy: 0.9638 - loss: 0.0669 - precision: 0.9918 - recall: 0.9380 - val_accuracy: 0.3333 - val_loss: 9.2327 - val_precision: 0.3333 - val_recall: 0.3333\n",
      "Epoch 20/50\n",
      "\u001b[1m20/20\u001b[0m \u001b[32m━━━━━━━━━━━━━━━━━━━━\u001b[0m\u001b[37m\u001b[0m \u001b[1m0s\u001b[0m 18s/step - accuracy: 0.9681 - loss: 0.0874 - precision: 0.9961 - recall: 0.9208 \n",
      "Epoch 20: val_loss did not improve from 3.60282\n",
      "\u001b[1m20/20\u001b[0m \u001b[32m━━━━━━━━━━━━━━━━━━━━\u001b[0m\u001b[37m\u001b[0m \u001b[1m374s\u001b[0m 18s/step - accuracy: 0.9675 - loss: 0.0876 - precision: 0.9957 - recall: 0.9207 - val_accuracy: 0.3333 - val_loss: 5.8274 - val_precision: 0.3333 - val_recall: 0.3333\n",
      "Epoch 21/50\n",
      "\u001b[1m20/20\u001b[0m \u001b[32m━━━━━━━━━━━━━━━━━━━━\u001b[0m\u001b[37m\u001b[0m \u001b[1m0s\u001b[0m 18s/step - accuracy: 0.9615 - loss: 0.0695 - precision: 0.9963 - recall: 0.9401 \n",
      "Epoch 21: val_loss did not improve from 3.60282\n",
      "\u001b[1m20/20\u001b[0m \u001b[32m━━━━━━━━━━━━━━━━━━━━\u001b[0m\u001b[37m\u001b[0m \u001b[1m374s\u001b[0m 18s/step - accuracy: 0.9615 - loss: 0.0700 - precision: 0.9964 - recall: 0.9397 - val_accuracy: 0.3333 - val_loss: 5.6660 - val_precision: 0.3333 - val_recall: 0.3333\n",
      "Epoch 22/50\n",
      "\u001b[1m20/20\u001b[0m \u001b[32m━━━━━━━━━━━━━━━━━━━━\u001b[0m\u001b[37m\u001b[0m \u001b[1m0s\u001b[0m 17s/step - accuracy: 0.9723 - loss: 0.0687 - precision: 0.9964 - recall: 0.9381 \n",
      "Epoch 22: val_loss did not improve from 3.60282\n",
      "\u001b[1m20/20\u001b[0m \u001b[32m━━━━━━━━━━━━━━━━━━━━\u001b[0m\u001b[37m\u001b[0m \u001b[1m372s\u001b[0m 18s/step - accuracy: 0.9722 - loss: 0.0689 - precision: 0.9963 - recall: 0.9379 - val_accuracy: 0.3333 - val_loss: 6.2760 - val_precision: 0.3333 - val_recall: 0.3333\n",
      "Epoch 23/50\n",
      "\u001b[1m20/20\u001b[0m \u001b[32m━━━━━━━━━━━━━━━━━━━━\u001b[0m\u001b[37m\u001b[0m \u001b[1m0s\u001b[0m 17s/step - accuracy: 0.9661 - loss: 0.0747 - precision: 0.9982 - recall: 0.9328 \n",
      "Epoch 23: val_loss improved from 3.60282 to 3.48943, saving model to ./models/Baru/ResNet50-RGB.keras\n",
      "\u001b[1m20/20\u001b[0m \u001b[32m━━━━━━━━━━━━━━━━━━━━\u001b[0m\u001b[37m\u001b[0m \u001b[1m374s\u001b[0m 18s/step - accuracy: 0.9658 - loss: 0.0752 - precision: 0.9980 - recall: 0.9324 - val_accuracy: 0.3333 - val_loss: 3.4894 - val_precision: 0.3333 - val_recall: 0.3333\n",
      "Epoch 24/50\n",
      "\u001b[1m20/20\u001b[0m \u001b[32m━━━━━━━━━━━━━━━━━━━━\u001b[0m\u001b[37m\u001b[0m \u001b[1m0s\u001b[0m 17s/step - accuracy: 0.9667 - loss: 0.0695 - precision: 0.9918 - recall: 0.9388 \n",
      "Epoch 24: val_loss improved from 3.48943 to 2.70260, saving model to ./models/Baru/ResNet50-RGB.keras\n",
      "\u001b[1m20/20\u001b[0m \u001b[32m━━━━━━━━━━━━━━━━━━━━\u001b[0m\u001b[37m\u001b[0m \u001b[1m373s\u001b[0m 18s/step - accuracy: 0.9665 - loss: 0.0699 - precision: 0.9919 - recall: 0.9384 - val_accuracy: 0.3397 - val_loss: 2.7026 - val_precision: 0.3397 - val_recall: 0.3397\n",
      "Epoch 25/50\n",
      "\u001b[1m20/20\u001b[0m \u001b[32m━━━━━━━━━━━━━━━━━━━━\u001b[0m\u001b[37m\u001b[0m \u001b[1m0s\u001b[0m 17s/step - accuracy: 0.9686 - loss: 0.0875 - precision: 0.9979 - recall: 0.9199 \n",
      "Epoch 25: val_loss improved from 2.70260 to 2.35095, saving model to ./models/Baru/ResNet50-RGB.keras\n",
      "\u001b[1m20/20\u001b[0m \u001b[32m━━━━━━━━━━━━━━━━━━━━\u001b[0m\u001b[37m\u001b[0m \u001b[1m374s\u001b[0m 18s/step - accuracy: 0.9686 - loss: 0.0872 - precision: 0.9978 - recall: 0.9203 - val_accuracy: 0.3746 - val_loss: 2.3510 - val_precision: 0.3819 - val_recall: 0.3746\n",
      "Epoch 26/50\n",
      "\u001b[1m20/20\u001b[0m \u001b[32m━━━━━━━━━━━━━━━━━━━━\u001b[0m\u001b[37m\u001b[0m \u001b[1m0s\u001b[0m 18s/step - accuracy: 0.9786 - loss: 0.0468 - precision: 1.0000 - recall: 0.9573 \n",
      "Epoch 26: val_loss improved from 2.35095 to 1.97037, saving model to ./models/Baru/ResNet50-RGB.keras\n",
      "\u001b[1m20/20\u001b[0m \u001b[32m━━━━━━━━━━━━━━━━━━━━\u001b[0m\u001b[37m\u001b[0m \u001b[1m377s\u001b[0m 19s/step - accuracy: 0.9784 - loss: 0.0476 - precision: 1.0000 - recall: 0.9566 - val_accuracy: 0.4063 - val_loss: 1.9704 - val_precision: 0.4129 - val_recall: 0.4063\n",
      "Epoch 27/50\n",
      "\u001b[1m20/20\u001b[0m \u001b[32m━━━━━━━━━━━━━━━━━━━━\u001b[0m\u001b[37m\u001b[0m \u001b[1m0s\u001b[0m 17s/step - accuracy: 0.9685 - loss: 0.0839 - precision: 0.9996 - recall: 0.9233 \n",
      "Epoch 27: val_loss improved from 1.97037 to 1.42246, saving model to ./models/Baru/ResNet50-RGB.keras\n",
      "\u001b[1m20/20\u001b[0m \u001b[32m━━━━━━━━━━━━━━━━━━━━\u001b[0m\u001b[37m\u001b[0m \u001b[1m374s\u001b[0m 18s/step - accuracy: 0.9685 - loss: 0.0840 - precision: 0.9995 - recall: 0.9233 - val_accuracy: 0.4889 - val_loss: 1.4225 - val_precision: 0.5049 - val_recall: 0.4889\n",
      "Epoch 28/50\n",
      "\u001b[1m20/20\u001b[0m \u001b[32m━━━━━━━━━━━━━━━━━━━━\u001b[0m\u001b[37m\u001b[0m \u001b[1m0s\u001b[0m 17s/step - accuracy: 0.9756 - loss: 0.0652 - precision: 0.9998 - recall: 0.9404 \n",
      "Epoch 28: val_loss did not improve from 1.42246\n",
      "\u001b[1m20/20\u001b[0m \u001b[32m━━━━━━━━━━━━━━━━━━━━\u001b[0m\u001b[37m\u001b[0m \u001b[1m372s\u001b[0m 18s/step - accuracy: 0.9755 - loss: 0.0655 - precision: 0.9997 - recall: 0.9401 - val_accuracy: 0.4540 - val_loss: 1.8234 - val_precision: 0.4704 - val_recall: 0.4540\n",
      "Epoch 29/50\n",
      "\u001b[1m20/20\u001b[0m \u001b[32m━━━━━━━━━━━━━━━━━━━━\u001b[0m\u001b[37m\u001b[0m \u001b[1m0s\u001b[0m 17s/step - accuracy: 0.9606 - loss: 0.0795 - precision: 0.9993 - recall: 0.9285 \n",
      "Epoch 29: val_loss did not improve from 1.42246\n",
      "\u001b[1m20/20\u001b[0m \u001b[32m━━━━━━━━━━━━━━━━━━━━\u001b[0m\u001b[37m\u001b[0m \u001b[1m374s\u001b[0m 18s/step - accuracy: 0.9608 - loss: 0.0795 - precision: 0.9992 - recall: 0.9284 - val_accuracy: 0.4032 - val_loss: 1.9857 - val_precision: 0.4045 - val_recall: 0.4032\n",
      "Epoch 30/50\n",
      "\u001b[1m20/20\u001b[0m \u001b[32m━━━━━━━━━━━━━━━━━━━━\u001b[0m\u001b[37m\u001b[0m \u001b[1m0s\u001b[0m 18s/step - accuracy: 0.9662 - loss: 0.0873 - precision: 0.9978 - recall: 0.9215 \n",
      "Epoch 30: val_loss improved from 1.42246 to 0.62795, saving model to ./models/Baru/ResNet50-RGB.keras\n",
      "\u001b[1m20/20\u001b[0m \u001b[32m━━━━━━━━━━━━━━━━━━━━\u001b[0m\u001b[37m\u001b[0m \u001b[1m377s\u001b[0m 19s/step - accuracy: 0.9660 - loss: 0.0874 - precision: 0.9978 - recall: 0.9215 - val_accuracy: 0.6921 - val_loss: 0.6280 - val_precision: 0.8346 - val_recall: 0.6730\n",
      "Epoch 31/50\n",
      "\u001b[1m20/20\u001b[0m \u001b[32m━━━━━━━━━━━━━━━━━━━━\u001b[0m\u001b[37m\u001b[0m \u001b[1m0s\u001b[0m 17s/step - accuracy: 0.9606 - loss: 0.0788 - precision: 0.9995 - recall: 0.9290 \n",
      "Epoch 31: val_loss improved from 0.62795 to 0.48994, saving model to ./models/Baru/ResNet50-RGB.keras\n",
      "\u001b[1m20/20\u001b[0m \u001b[32m━━━━━━━━━━━━━━━━━━━━\u001b[0m\u001b[37m\u001b[0m \u001b[1m375s\u001b[0m 18s/step - accuracy: 0.9606 - loss: 0.0792 - precision: 0.9995 - recall: 0.9286 - val_accuracy: 0.7651 - val_loss: 0.4899 - val_precision: 0.8598 - val_recall: 0.7206\n",
      "Epoch 32/50\n",
      "\u001b[1m20/20\u001b[0m \u001b[32m━━━━━━━━━━━━━━━━━━━━\u001b[0m\u001b[37m\u001b[0m \u001b[1m0s\u001b[0m 18s/step - accuracy: 0.9731 - loss: 0.0736 - precision: 1.0000 - recall: 0.9326 \n",
      "Epoch 32: val_loss improved from 0.48994 to 0.37067, saving model to ./models/Baru/ResNet50-RGB.keras\n",
      "\u001b[1m20/20\u001b[0m \u001b[32m━━━━━━━━━━━━━━━━━━━━\u001b[0m\u001b[37m\u001b[0m \u001b[1m373s\u001b[0m 19s/step - accuracy: 0.9731 - loss: 0.0739 - precision: 0.9999 - recall: 0.9324 - val_accuracy: 0.8159 - val_loss: 0.3707 - val_precision: 0.8785 - val_recall: 0.8032\n",
      "Epoch 33/50\n",
      "\u001b[1m20/20\u001b[0m \u001b[32m━━━━━━━━━━━━━━━━━━━━\u001b[0m\u001b[37m\u001b[0m \u001b[1m0s\u001b[0m 17s/step - accuracy: 0.9669 - loss: 0.0764 - precision: 0.9996 - recall: 0.9301 \n",
      "Epoch 33: val_loss did not improve from 0.37067\n",
      "\u001b[1m20/20\u001b[0m \u001b[32m━━━━━━━━━━━━━━━━━━━━\u001b[0m\u001b[37m\u001b[0m \u001b[1m372s\u001b[0m 18s/step - accuracy: 0.9669 - loss: 0.0763 - precision: 0.9996 - recall: 0.9303 - val_accuracy: 0.8063 - val_loss: 0.3883 - val_precision: 0.8777 - val_recall: 0.7746\n",
      "Epoch 34/50\n",
      "\u001b[1m20/20\u001b[0m \u001b[32m━━━━━━━━━━━━━━━━━━━━\u001b[0m\u001b[37m\u001b[0m \u001b[1m0s\u001b[0m 17s/step - accuracy: 0.9721 - loss: 0.0761 - precision: 0.9992 - recall: 0.9304 \n",
      "Epoch 34: val_loss did not improve from 0.37067\n",
      "\u001b[1m20/20\u001b[0m \u001b[32m━━━━━━━━━━━━━━━━━━━━\u001b[0m\u001b[37m\u001b[0m \u001b[1m371s\u001b[0m 18s/step - accuracy: 0.9720 - loss: 0.0763 - precision: 0.9992 - recall: 0.9303 - val_accuracy: 0.7556 - val_loss: 0.5744 - val_precision: 0.7826 - val_recall: 0.7429\n",
      "Epoch 35/50\n",
      "\u001b[1m20/20\u001b[0m \u001b[32m━━━━━━━━━━━━━━━━━━━━\u001b[0m\u001b[37m\u001b[0m \u001b[1m0s\u001b[0m 17s/step - accuracy: 0.9800 - loss: 0.0806 - precision: 0.9998 - recall: 0.9268 \n",
      "Epoch 35: val_loss improved from 0.37067 to 0.07965, saving model to ./models/Baru/ResNet50-RGB.keras\n",
      "\u001b[1m20/20\u001b[0m \u001b[32m━━━━━━━━━━━━━━━━━━━━\u001b[0m\u001b[37m\u001b[0m \u001b[1m376s\u001b[0m 18s/step - accuracy: 0.9799 - loss: 0.0806 - precision: 0.9997 - recall: 0.9268 - val_accuracy: 0.9714 - val_loss: 0.0796 - val_precision: 0.9714 - val_recall: 0.9714\n",
      "Epoch 36/50\n",
      "\u001b[1m20/20\u001b[0m \u001b[32m━━━━━━━━━━━━━━━━━━━━\u001b[0m\u001b[37m\u001b[0m \u001b[1m0s\u001b[0m 17s/step - accuracy: 0.9613 - loss: 0.0898 - precision: 0.9977 - recall: 0.9264 \n",
      "Epoch 36: val_loss did not improve from 0.07965\n",
      "\u001b[1m20/20\u001b[0m \u001b[32m━━━━━━━━━━━━━━━━━━━━\u001b[0m\u001b[37m\u001b[0m \u001b[1m372s\u001b[0m 18s/step - accuracy: 0.9613 - loss: 0.0902 - precision: 0.9976 - recall: 0.9263 - val_accuracy: 0.6571 - val_loss: 2.1931 - val_precision: 0.6571 - val_recall: 0.6571\n",
      "Epoch 37/50\n",
      "\u001b[1m20/20\u001b[0m \u001b[32m━━━━━━━━━━━━━━━━━━━━\u001b[0m\u001b[37m\u001b[0m \u001b[1m0s\u001b[0m 17s/step - accuracy: 0.9608 - loss: 0.0942 - precision: 0.9932 - recall: 0.9282 \n",
      "Epoch 37: val_loss did not improve from 0.07965\n",
      "\u001b[1m20/20\u001b[0m \u001b[32m━━━━━━━━━━━━━━━━━━━━\u001b[0m\u001b[37m\u001b[0m \u001b[1m371s\u001b[0m 18s/step - accuracy: 0.9609 - loss: 0.0948 - precision: 0.9933 - recall: 0.9281 - val_accuracy: 0.7397 - val_loss: 0.9893 - val_precision: 0.7468 - val_recall: 0.7302\n",
      "Epoch 38/50\n",
      "\u001b[1m20/20\u001b[0m \u001b[32m━━━━━━━━━━━━━━━━━━━━\u001b[0m\u001b[37m\u001b[0m \u001b[1m0s\u001b[0m 17s/step - accuracy: 0.9637 - loss: 0.0842 - precision: 0.9976 - recall: 0.9331 \n",
      "Epoch 38: val_loss did not improve from 0.07965\n",
      "\u001b[1m20/20\u001b[0m \u001b[32m━━━━━━━━━━━━━━━━━━━━\u001b[0m\u001b[37m\u001b[0m \u001b[1m372s\u001b[0m 18s/step - accuracy: 0.9635 - loss: 0.0844 - precision: 0.9976 - recall: 0.9330 - val_accuracy: 0.9016 - val_loss: 0.2062 - val_precision: 0.9183 - val_recall: 0.8921\n",
      "Epoch 39/50\n",
      "\u001b[1m20/20\u001b[0m \u001b[32m━━━━━━━━━━━━━━━━━━━━\u001b[0m\u001b[37m\u001b[0m \u001b[1m0s\u001b[0m 18s/step - accuracy: 0.9624 - loss: 0.0597 - precision: 0.9985 - recall: 0.9468 \n",
      "Epoch 39: val_loss did not improve from 0.07965\n",
      "\u001b[1m20/20\u001b[0m \u001b[32m━━━━━━━━━━━━━━━━━━━━\u001b[0m\u001b[37m\u001b[0m \u001b[1m375s\u001b[0m 18s/step - accuracy: 0.9629 - loss: 0.0596 - precision: 0.9986 - recall: 0.9469 - val_accuracy: 0.9238 - val_loss: 0.2007 - val_precision: 0.9293 - val_recall: 0.9175\n",
      "Epoch 40/50\n",
      "\u001b[1m20/20\u001b[0m \u001b[32m━━━━━━━━━━━━━━━━━━━━\u001b[0m\u001b[37m\u001b[0m \u001b[1m0s\u001b[0m 17s/step - accuracy: 0.9703 - loss: 0.0609 - precision: 0.9992 - recall: 0.9481 \n",
      "Epoch 40: val_loss did not improve from 0.07965\n",
      "\u001b[1m20/20\u001b[0m \u001b[32m━━━━━━━━━━━━━━━━━━━━\u001b[0m\u001b[37m\u001b[0m \u001b[1m372s\u001b[0m 18s/step - accuracy: 0.9705 - loss: 0.0605 - precision: 0.9992 - recall: 0.9485 - val_accuracy: 0.7556 - val_loss: 0.3417 - val_precision: 0.7726 - val_recall: 0.7333\n",
      "Epoch 41/50\n",
      "\u001b[1m20/20\u001b[0m \u001b[32m━━━━━━━━━━━━━━━━━━━━\u001b[0m\u001b[37m\u001b[0m \u001b[1m0s\u001b[0m 17s/step - accuracy: 0.9692 - loss: 0.0473 - precision: 0.9989 - recall: 0.9591 \n",
      "Epoch 41: val_loss did not improve from 0.07965\n",
      "\u001b[1m20/20\u001b[0m \u001b[32m━━━━━━━━━━━━━━━━━━━━\u001b[0m\u001b[37m\u001b[0m \u001b[1m372s\u001b[0m 18s/step - accuracy: 0.9692 - loss: 0.0476 - precision: 0.9989 - recall: 0.9588 - val_accuracy: 0.8349 - val_loss: 0.3159 - val_precision: 0.8741 - val_recall: 0.7937\n",
      "Epoch 42/50\n",
      "\u001b[1m20/20\u001b[0m \u001b[32m━━━━━━━━━━━━━━━━━━━━\u001b[0m\u001b[37m\u001b[0m \u001b[1m0s\u001b[0m 17s/step - accuracy: 0.9677 - loss: 0.0597 - precision: 1.0000 - recall: 0.9453 \n",
      "Epoch 42: val_loss did not improve from 0.07965\n",
      "\u001b[1m20/20\u001b[0m \u001b[32m━━━━━━━━━━━━━━━━━━━━\u001b[0m\u001b[37m\u001b[0m \u001b[1m372s\u001b[0m 18s/step - accuracy: 0.9681 - loss: 0.0591 - precision: 1.0000 - recall: 0.9458 - val_accuracy: 0.7683 - val_loss: 0.3964 - val_precision: 0.7841 - val_recall: 0.7492\n",
      "Epoch 43/50\n",
      "\u001b[1m20/20\u001b[0m \u001b[32m━━━━━━━━━━━━━━━━━━━━\u001b[0m\u001b[37m\u001b[0m \u001b[1m0s\u001b[0m 18s/step - accuracy: 0.9633 - loss: 0.0684 - precision: 0.9996 - recall: 0.9379 \n",
      "Epoch 43: val_loss did not improve from 0.07965\n",
      "\u001b[1m20/20\u001b[0m \u001b[32m━━━━━━━━━━━━━━━━━━━━\u001b[0m\u001b[37m\u001b[0m \u001b[1m373s\u001b[0m 19s/step - accuracy: 0.9637 - loss: 0.0677 - precision: 0.9996 - recall: 0.9386 - val_accuracy: 0.6794 - val_loss: 0.6691 - val_precision: 0.6871 - val_recall: 0.6762\n",
      "Epoch 44/50\n",
      "\u001b[1m20/20\u001b[0m \u001b[32m━━━━━━━━━━━━━━━━━━━━\u001b[0m\u001b[37m\u001b[0m \u001b[1m0s\u001b[0m 17s/step - accuracy: 0.9718 - loss: 0.0564 - precision: 1.0000 - recall: 0.9492 \n",
      "Epoch 44: val_loss did not improve from 0.07965\n",
      "\u001b[1m20/20\u001b[0m \u001b[32m━━━━━━━━━━━━━━━━━━━━\u001b[0m\u001b[37m\u001b[0m \u001b[1m372s\u001b[0m 18s/step - accuracy: 0.9718 - loss: 0.0562 - precision: 1.0000 - recall: 0.9494 - val_accuracy: 0.6667 - val_loss: 1.0451 - val_precision: 0.6774 - val_recall: 0.6667\n",
      "Epoch 45/50\n",
      "\u001b[1m20/20\u001b[0m \u001b[32m━━━━━━━━━━━━━━━━━━━━\u001b[0m\u001b[37m\u001b[0m \u001b[1m0s\u001b[0m 17s/step - accuracy: 0.9729 - loss: 0.0470 - precision: 0.9981 - recall: 0.9571 \n",
      "Epoch 45: val_loss did not improve from 0.07965\n",
      "\u001b[1m20/20\u001b[0m \u001b[32m━━━━━━━━━━━━━━━━━━━━\u001b[0m\u001b[37m\u001b[0m \u001b[1m373s\u001b[0m 18s/step - accuracy: 0.9729 - loss: 0.0471 - precision: 0.9981 - recall: 0.9570 - val_accuracy: 0.6667 - val_loss: 1.3960 - val_precision: 0.6752 - val_recall: 0.6667\n",
      "Epoch 46/50\n",
      "\u001b[1m20/20\u001b[0m \u001b[32m━━━━━━━━━━━━━━━━━━━━\u001b[0m\u001b[37m\u001b[0m \u001b[1m0s\u001b[0m 18s/step - accuracy: 0.9561 - loss: 0.0735 - precision: 0.9974 - recall: 0.9372 \n",
      "Epoch 46: val_loss did not improve from 0.07965\n",
      "\u001b[1m20/20\u001b[0m \u001b[32m━━━━━━━━━━━━━━━━━━━━\u001b[0m\u001b[37m\u001b[0m \u001b[1m372s\u001b[0m 19s/step - accuracy: 0.9565 - loss: 0.0730 - precision: 0.9974 - recall: 0.9375 - val_accuracy: 0.6413 - val_loss: 2.3101 - val_precision: 0.6454 - val_recall: 0.6413\n",
      "Epoch 47/50\n",
      "\u001b[1m20/20\u001b[0m \u001b[32m━━━━━━━━━━━━━━━━━━━━\u001b[0m\u001b[37m\u001b[0m \u001b[1m0s\u001b[0m 17s/step - accuracy: 0.9712 - loss: 0.0467 - precision: 0.9994 - recall: 0.9576 \n",
      "Epoch 47: val_loss did not improve from 0.07965\n",
      "\u001b[1m20/20\u001b[0m \u001b[32m━━━━━━━━━━━━━━━━━━━━\u001b[0m\u001b[37m\u001b[0m \u001b[1m371s\u001b[0m 18s/step - accuracy: 0.9713 - loss: 0.0469 - precision: 0.9994 - recall: 0.9575 - val_accuracy: 0.6222 - val_loss: 3.2078 - val_precision: 0.6222 - val_recall: 0.6222\n",
      "Epoch 48/50\n",
      "\u001b[1m20/20\u001b[0m \u001b[32m━━━━━━━━━━━━━━━━━━━━\u001b[0m\u001b[37m\u001b[0m \u001b[1m0s\u001b[0m 17s/step - accuracy: 0.9647 - loss: 0.0628 - precision: 1.0000 - recall: 0.9427 \n",
      "Epoch 48: val_loss did not improve from 0.07965\n",
      "\u001b[1m20/20\u001b[0m \u001b[32m━━━━━━━━━━━━━━━━━━━━\u001b[0m\u001b[37m\u001b[0m \u001b[1m373s\u001b[0m 18s/step - accuracy: 0.9647 - loss: 0.0627 - precision: 1.0000 - recall: 0.9427 - val_accuracy: 0.5873 - val_loss: 4.3642 - val_precision: 0.5873 - val_recall: 0.5873\n",
      "Epoch 49/50\n",
      "\u001b[1m20/20\u001b[0m \u001b[32m━━━━━━━━━━━━━━━━━━━━\u001b[0m\u001b[37m\u001b[0m \u001b[1m0s\u001b[0m 18s/step - accuracy: 0.9847 - loss: 0.0340 - precision: 1.0000 - recall: 0.9690 \n",
      "Epoch 49: val_loss did not improve from 0.07965\n",
      "\u001b[1m20/20\u001b[0m \u001b[32m━━━━━━━━━━━━━━━━━━━━\u001b[0m\u001b[37m\u001b[0m \u001b[1m374s\u001b[0m 18s/step - accuracy: 0.9845 - loss: 0.0345 - precision: 1.0000 - recall: 0.9686 - val_accuracy: 0.5429 - val_loss: 5.9738 - val_precision: 0.5429 - val_recall: 0.5429\n",
      "Epoch 50/50\n",
      "\u001b[1m20/20\u001b[0m \u001b[32m━━━━━━━━━━━━━━━━━━━━\u001b[0m\u001b[37m\u001b[0m \u001b[1m0s\u001b[0m 17s/step - accuracy: 0.9709 - loss: 0.0531 - precision: 1.0000 - recall: 0.9515 \n",
      "Epoch 50: val_loss did not improve from 0.07965\n",
      "\u001b[1m20/20\u001b[0m \u001b[32m━━━━━━━━━━━━━━━━━━━━\u001b[0m\u001b[37m\u001b[0m \u001b[1m372s\u001b[0m 18s/step - accuracy: 0.9709 - loss: 0.0531 - precision: 1.0000 - recall: 0.9514 - val_accuracy: 0.5111 - val_loss: 7.5993 - val_precision: 0.5111 - val_recall: 0.5111\n"
     ]
    },
    {
     "name": "stderr",
     "output_type": "stream",
     "text": [
      "WARNING:absl:You are saving your model as an HDF5 file via `model.save()` or `keras.saving.save_model(model)`. This file format is considered legacy. We recommend using instead the native Keras format, e.g. `model.save('my_model.keras')` or `keras.saving.save_model(model, 'my_model.keras')`. \n"
     ]
    }
   ],
   "source": [
    "# Checkpoint\n",
    "filepath = \"./models/Baru/ResNet50-RGB.keras\"\n",
    "checkpoint = ModelCheckpoint(filepath, monitor='val_loss', mode='min', save_best_only=True, verbose=1)\n",
    "callback_list = [checkpoint]\n",
    "\n",
    "# Train the model\n",
    "history = model.fit(train_generator,\n",
    "                    validation_data=validation_generator,\n",
    "                    epochs=50,\n",
    "                    callbacks=callback_list)\n",
    "\n",
    "# Save the final model\n",
    "model.save(\"./models/Baru/ResNet50-RGB.h5\")"
   ]
  },
  {
   "cell_type": "code",
   "execution_count": 6,
   "metadata": {},
   "outputs": [
    {
     "data": {
      "image/png": "[encoded data removed]",
      "text/plain": [
       "<Figure size 1008x432 with 2 Axes>"
      ]
     },
     "metadata": {
      "needs_background": "light"
     },
     "output_type": "display_data"
    }
   ],
   "source": [
    "# Plotting\n",
    "loss = history.history['loss']\n",
    "val_loss = history.history['val_loss']\n",
    "acc = history.history['accuracy']\n",
    "val_acc = history.history['val_accuracy']\n",
    "epochs = range(1, len(loss) + 1)\n",
    "\n",
    "fig, (ax1, ax2) = plt.subplots(1, 2, figsize=(14, 6))\n",
    "\n",
    "# Plotting Training and Validation Loss\n",
    "ax1.plot(epochs, loss, 'y', label='Training loss')\n",
    "ax1.plot(epochs, val_loss, 'r', label='Validation loss')\n",
    "ax1.set_title('Training and Validation Loss')\n",
    "ax1.set_xlabel('Epochs')\n",
    "ax1.set_ylabel('Loss')\n",
    "ax1.legend()\n",
    "\n",
    "# Plotting Training and Validation Accuracy\n",
    "ax2.plot(epochs, acc, 'y', label='Training accuracy')\n",
    "ax2.plot(epochs, val_acc, 'r', label='Validation accuracy')\n",
    "ax2.set_title('Training and Validation Accuracy')\n",
    "ax2.set_xlabel('Epochs')\n",
    "ax2.set_ylabel('Accuracy')\n",
    "ax2.legend()\n",
    "\n",
    "plt.show()"
   ]
  }
 ],
 "metadata": {
  "kernelspec": {
   "display_name": "Python 3",
   "language": "python",
   "name": "python3"
  },
  "language_info": {
   "codemirror_mode": {
    "name": "ipython",
    "version": 3
   },
   "file_extension": ".py",
   "mimetype": "text/x-python",
   "name": "python",
   "nbconvert_exporter": "python",
   "pygments_lexer": "ipython3",
   "version": "3.9.2"
  }
 },
 "nbformat": 4,
 "nbformat_minor": 2
}
